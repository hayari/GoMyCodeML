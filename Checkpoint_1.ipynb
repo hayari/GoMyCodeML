{
 "cells": [
  {
   "cell_type": "markdown",
   "metadata": {},
   "source": [
    "# Question 1"
   ]
  },
  {
   "cell_type": "code",
   "execution_count": 1,
   "metadata": {},
   "outputs": [
    {
     "name": "stdout",
     "output_type": "stream",
     "text": [
      "[2002, 2009, 2016, 2023, 2037, 2044, 2051, 2058, 2072, 2079, 2086, 2093, 2107, 2114, 2121, 2128, 2142, 2149, 2156, 2163, 2177, 2184, 2191, 2198, 2212, 2219, 2226, 2233, 2247, 2254, 2261, 2268, 2282, 2289, 2296, 2303, 2317, 2324, 2331, 2338, 2352, 2359, 2366, 2373, 2387, 2394, 2401, 2408, 2422, 2429, 2436, 2443, 2457, 2464, 2471, 2478, 2492, 2499, 2506, 2513, 2527, 2534, 2541, 2548, 2562, 2569, 2576, 2583, 2597, 2604, 2611, 2618, 2632, 2639, 2646, 2653, 2667, 2674, 2681, 2688, 2702, 2709, 2716, 2723, 2737, 2744, 2751, 2758, 2772, 2779, 2786, 2793, 2807, 2814, 2821, 2828, 2842, 2849, 2856, 2863, 2877, 2884, 2891, 2898, 2912, 2919, 2926, 2933, 2947, 2954, 2961, 2968, 2982, 2989, 2996, 3003, 3017, 3024, 3031, 3038, 3052, 3059, 3066, 3073, 3087, 3094, 3101, 3108, 3122, 3129, 3136, 3143, 3157, 3164, 3171, 3178, 3192, 3199]\n"
     ]
    }
   ],
   "source": [
    "print([x for x in range(2000,3201) if (x%7)==0 and (x%5)!=0])"
   ]
  },
  {
   "cell_type": "markdown",
   "metadata": {},
   "source": [
    "# Question 2"
   ]
  },
  {
   "cell_type": "code",
   "execution_count": 2,
   "metadata": {},
   "outputs": [
    {
     "name": "stdout",
     "output_type": "stream",
     "text": [
      "Enter an Integer :8\n",
      "Factoriel 8 is 40320\n"
     ]
    }
   ],
   "source": [
    "from functools import reduce\n",
    "a=input(\"Enter an Integer :\")\n",
    "try :\n",
    "    print(\"Factoriel {} is {}\".format(a,reduce(lambda x,y: x*y,list(range(1,int(a)+1)))))\n",
    "except ValueError:\n",
    "    print(\":( This not an Integer\")"
   ]
  },
  {
   "cell_type": "markdown",
   "metadata": {},
   "source": [
    "# Question 3"
   ]
  },
  {
   "cell_type": "code",
   "execution_count": 3,
   "metadata": {},
   "outputs": [
    {
     "name": "stdout",
     "output_type": "stream",
     "text": [
      "Enter an Integer :8\n",
      "{1: 1, 2: 4, 3: 9, 4: 16, 5: 25, 6: 36, 7: 49, 8: 64}\n"
     ]
    }
   ],
   "source": [
    "n=input(\"Enter an Integer :\")\n",
    "try :\n",
    "    print(dict(map(lambda x : (x,x*x),range(1,int(n)+1))))\n",
    "except ValueError:\n",
    "    print(\":( This not an Integer\")"
   ]
  },
  {
   "cell_type": "markdown",
   "metadata": {},
   "source": [
    "# Question 4"
   ]
  },
  {
   "cell_type": "code",
   "execution_count": 4,
   "metadata": {},
   "outputs": [
    {
     "name": "stdout",
     "output_type": "stream",
     "text": [
      "Enter a comma ',' separated sequence of numerical values:100,150,180\n",
      "[18, 22, 24]\n"
     ]
    }
   ],
   "source": [
    "from math import sqrt\n",
    "s=input(\"Enter a comma ',' separated sequence of numerical values:\")\n",
    "values=s.split(',')\n",
    "C=50\n",
    "H=30\n",
    "try :\n",
    "    print([round(sqrt((2*C*float(val))/H)) for val in values])\n",
    "except ValueError:\n",
    "    print(\":( Bad input data. Must be a comma separated sequence of numerical values\")"
   ]
  },
  {
   "cell_type": "markdown",
   "metadata": {},
   "source": [
    "# Question 5"
   ]
  },
  {
   "cell_type": "code",
   "execution_count": 5,
   "metadata": {},
   "outputs": [
    {
     "name": "stdout",
     "output_type": "stream",
     "text": [
      "ktten\n",
      "itten\n",
      "kittn\n"
     ]
    }
   ],
   "source": [
    "def missing_char(word,n):\n",
    "    \"\"\"\n",
    "        Given a non-empty string and an int n, return a new string where the char at index n has been removed\n",
    "    \"\"\"\n",
    "    if (n >= 0) and (n < len(word)):\n",
    "        print(word[0:n]+word[n+1:])\n",
    "    else:\n",
    "        print(\"Out of index range\")\n",
    "missing_char('kitten', 1)\n",
    "missing_char('kitten', 0)\n",
    "missing_char('kitten', 4)\n"
   ]
  },
  {
   "cell_type": "markdown",
   "metadata": {},
   "source": [
    "# Question 6"
   ]
  },
  {
   "cell_type": "code",
   "execution_count": 6,
   "metadata": {},
   "outputs": [
    {
     "name": "stdout",
     "output_type": "stream",
     "text": [
      "g fmnc wms bgblr rpylqjyrc gr zw fylb. rfyrq ufyr ammnsrcpq ypc dmp. bmglg gr gl zw fylb gq glcddgagclr ylb rfyr'q ufw rfgq rcvr gq qm jmlg. sqglg qrpglg.myicrpylq() gq pcammmclbcb. lmu ynnjw ml rfc spj.\n"
     ]
    }
   ],
   "source": [
    "def simple_decrypt(msg):\n",
    "    return msg.replace('k','m').replace('o','q').replace('e','g')\n",
    "\n",
    "msg=\"g fmnc wms bgblr rpylqjyrc gr zw fylb. rfyrq ufyr amknsrcpq ypc dmp. bmgle gr gl zw fylb gq glcddgagclr ylb rfyr'q ufw rfgq rcvr gq qm jmle. sqgle qrpgle.kyicrpylq() gq pcamkkclbcb. lmu ynnjw ml rfc spj.\"\n",
    "print(simple_decrypt(msg))"
   ]
  },
  {
   "cell_type": "markdown",
   "metadata": {},
   "source": [
    "# Question 7"
   ]
  },
  {
   "cell_type": "code",
   "execution_count": 7,
   "metadata": {},
   "outputs": [
    {
     "name": "stdout",
     "output_type": "stream",
     "text": [
      "shape (2, 3, 2) => type <class 'list'> : [[[0, [1, 0]], [2, [3, 0]], [4, [5, 0]]], [[0, [1, 0]], [2, [3, 0]], [4, [5, 0]]]]\n",
      "shape (3, 2) => type <class 'list'> : [[0, 1], [2, 3], [4, 5]]\n"
     ]
    }
   ],
   "source": [
    "import numpy as np\n",
    "\n",
    "def array_to_list(np_array):\n",
    "    \"\"\"\n",
    "        Convert a NumPy array into a Python list structure\n",
    "    \"\"\"\n",
    "    if len(np_array.shape)==2:\n",
    "        \n",
    "        return [list(lig) for lig in np_array ]\n",
    "    else:\n",
    "        return [array_to_list(mat) for mat in np_array]\n",
    "    \n",
    "np_array1=np.array([[[0,[1,0]],[2,[3,0]],[4,[5,0]]],[[0,[1,0]],[2,[3,0]],[4,[5,0]]]])\n",
    "np_array2=np.array([[0 ,1] ,[2 ,3] ,[4 ,5]])\n",
    "print(\"shape {} => type {} : {}\".format(np_array1.shape,type(array_to_list(np_array1)),array_to_list(np_array1)))\n",
    "print(\"shape {} => type {} : {}\".format(np_array2.shape,type(array_to_list(np_array1)),array_to_list(np_array2)))"
   ]
  },
  {
   "cell_type": "markdown",
   "metadata": {},
   "source": [
    "# Question 8"
   ]
  },
  {
   "cell_type": "code",
   "execution_count": 8,
   "metadata": {},
   "outputs": [
    {
     "name": "stdout",
     "output_type": "stream",
     "text": [
      "[[ 1. -1.]\n",
      " [-1.  1.]]\n"
     ]
    }
   ],
   "source": [
    "import numpy as np\n",
    "\n",
    "def covariance (mat1,mat2):\n",
    "    \"\"\"\n",
    "        Compute the covariance matrix of two given arrays\n",
    "    \"\"\"\n",
    "    return np.cov(mat1,mat2)\n",
    "\n",
    "array1=np.array([0 ,1 ,2])\n",
    "array2=np.array([2 ,1 ,0])\n",
    "print(covariance(array1,array2))"
   ]
  }
 ],
 "metadata": {
  "kernelspec": {
   "display_name": "Python 3",
   "language": "python",
   "name": "python3"
  },
  "language_info": {
   "codemirror_mode": {
    "name": "ipython",
    "version": 3
   },
   "file_extension": ".py",
   "mimetype": "text/x-python",
   "name": "python",
   "nbconvert_exporter": "python",
   "pygments_lexer": "ipython3",
   "version": "3.7.3"
  }
 },
 "nbformat": 4,
 "nbformat_minor": 4
}
