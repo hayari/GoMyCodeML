{
 "cells": [
  {
   "cell_type": "code",
   "execution_count": 1,
   "metadata": {},
   "outputs": [],
   "source": [
    "import csv\n",
    "import random\n",
    "import math\n",
    "import operator\n",
    "import numpy as np\n",
    "from typing import Callable,List"
   ]
  },
  {
   "cell_type": "markdown",
   "metadata": {},
   "source": [
    "# Handle Data"
   ]
  },
  {
   "cell_type": "code",
   "execution_count": 2,
   "metadata": {},
   "outputs": [],
   "source": [
    "def loadDataset(filename : str, split: float=0.80, trainingSet : list =[] , testSet: list =[], readHeader: bool=False, shuffle: bool=True):\n",
    "    '''\n",
    "        Open the dataset from CSV and split into test/train datasets.\n",
    "\n",
    "        Parameters:\n",
    "            filename: name of a file containing the dataset to load\n",
    "            split: proportion of the Training Set\n",
    "            trainingSet: list object that will receive Training data set\n",
    "            testSet: list object that will receive Testing data set\n",
    "            readHeader: read first line as a header\n",
    "            shuffle: The data will be shuffles if True\n",
    "        Returns:\n",
    "            Nothing\n",
    "    '''\n",
    "    with open(filename, 'r') as csvfile:\n",
    "        lines = csv.reader(csvfile)\n",
    "        dataset = list(lines)\n",
    "        if shuffle : \n",
    "            random.shuffle(dataset)\n",
    "        splitnb=len(dataset)*split\n",
    "        for x in range(len(dataset)):\n",
    "            \n",
    "            for y in range(4):\n",
    "                dataset[x][y] = float(dataset[x][y])\n",
    "            \n",
    "            if (len(trainingSet) < splitnb) :\n",
    "                \n",
    "                trainingSet.append(dataset[x])\n",
    "            else:\n",
    "                testSet.append(dataset[x])"
   ]
  },
  {
   "cell_type": "markdown",
   "metadata": {},
   "source": [
    "# Similarity"
   ]
  },
  {
   "cell_type": "code",
   "execution_count": 3,
   "metadata": {},
   "outputs": [],
   "source": [
    "def euclideanDistance(instance1: list, instance2: list, length: int=0):\n",
    "    '''\n",
    "        calculate the euclidean Distance between two data points\n",
    "        \n",
    "        Parameters:\n",
    "            instance1: list of coordiante of first data point\n",
    "            instance2: list of coordiante of second data point\n",
    "            length: int: controls which fields to include in the distance calculation.\n",
    "        Returns:\n",
    "            Euclidian distance between two data point \n",
    "    '''\n",
    "    \n",
    "    if length==0: length=min(len(instance1),len(instance2))\n",
    "    sse=sum([math.pow(x-y,2) for x,y in zip(instance1[:length],instance2[:length])])\n",
    "    return math.sqrt(sse)"
   ]
  },
  {
   "cell_type": "markdown",
   "metadata": {},
   "source": [
    "# Neighbors"
   ]
  },
  {
   "cell_type": "code",
   "execution_count": 4,
   "metadata": {},
   "outputs": [],
   "source": [
    "def getNeighbors(trainingSet: list, testInstance: list, k: int =1, fdistance: Callable=euclideanDistance):\n",
    "    '''\n",
    "         returns k most similar neighbors from the training set for a given test instance \n",
    "         (using the already defined euclideanDistance function)\n",
    "         \n",
    "         Parameters:\n",
    "             trainingSet: list of training sets\n",
    "             testInstance: coordinate of one point to find it's neighboors from the trainingSet\n",
    "             k: number of neighbors to calculate\n",
    "             fdistance: distance function to use \n",
    "             \n",
    "         Returns:\n",
    "            k most similar neighbors of testInstance from trainingSet points\n",
    "    '''\n",
    "    distances = []\n",
    "\n",
    "    length = len(testInstance)-1\n",
    "    \n",
    "    for x in range(len(trainingSet)):\n",
    "        \n",
    "\n",
    "        dist = fdistance(testInstance, trainingSet[x], length)\n",
    "\n",
    "        distances.append((trainingSet[x], dist))\n",
    "\n",
    "    distances.sort(key=operator.itemgetter(1))\n",
    "    neighbors = []\n",
    "    \n",
    "    for x in range(k):\n",
    "        neighbors.append(distances[x][0])\n",
    "    \n",
    "\n",
    "    return neighbors"
   ]
  },
  {
   "cell_type": "markdown",
   "metadata": {},
   "source": [
    "# Response"
   ]
  },
  {
   "cell_type": "code",
   "execution_count": 5,
   "metadata": {},
   "outputs": [],
   "source": [
    "def getResponse(neighbors: list):\n",
    "    '''\n",
    "        gets the majority voted response from a number of neighbors. \n",
    "        It assumes the class is the last attribute for each neighbor\n",
    "        \n",
    "        Parameters:\n",
    "            neighbors: a list of neighbors\n",
    "    '''\n",
    "\n",
    "    classVotes = {}\n",
    "\n",
    "    for x in range(len(neighbors)):\n",
    "\n",
    "        response = neighbors[x][-1] \n",
    "        \n",
    "\n",
    "        if response in classVotes:\n",
    "\n",
    "            classVotes[response]+=1\n",
    "        else:\n",
    "            classVotes[response]=1\n",
    "            \n",
    "\n",
    "    sortedVotes = sorted(classVotes.items(), key=operator.itemgetter(1), reverse=True)\n",
    "    \n",
    "    return sortedVotes[0][0]"
   ]
  },
  {
   "cell_type": "markdown",
   "metadata": {},
   "source": [
    "# Accuracy"
   ]
  },
  {
   "cell_type": "code",
   "execution_count": 6,
   "metadata": {},
   "outputs": [],
   "source": [
    "def getAccuracy(testSet : list, predictions :list):\n",
    "    '''\n",
    "        evaluate the accuracy of the model is to calculate a ratio of \n",
    "        the total correct predictions out of all predictions made,\n",
    "        called the classification accuracy\n",
    "        \n",
    "        Parameters:\n",
    "            testSet : list of test points used to evaluate a model\n",
    "            predictions: list of predicted labels returned by the model when filled with the testSet\n",
    "        \n",
    "        Returns:\n",
    "             accuracy of the prediction\n",
    "    '''\n",
    "    correct=sum([ x[-1]==y for x,y in zip(testSet, predictions)])\n",
    "    \n",
    "\n",
    "    return (correct/float(len(testSet))) * 100.0"
   ]
  },
  {
   "cell_type": "markdown",
   "metadata": {},
   "source": [
    "# Main"
   ]
  },
  {
   "cell_type": "code",
   "execution_count": 7,
   "metadata": {},
   "outputs": [],
   "source": [
    "def predict(filename: str, split: int=0.80, k: int=1, fdistance: Callable=euclideanDistance):\n",
    "    '''\n",
    "        make the prediction and calculate the model accuracy\n",
    "        \n",
    "        Parameters:\n",
    "            filename: path to the file containing the dataset\n",
    "            split: proportion of the Training Set\n",
    "            k: number of neighbors to calculate\n",
    "            fdistance: distance function to use \n",
    "            \n",
    "        Returns:\n",
    "            the model accuracy\n",
    "    '''\n",
    "    trainingSet=[]\n",
    "    testSet=[]\n",
    "\n",
    "    loadDataset(filename, split, trainingSet, testSet)\n",
    "    \n",
    "    prediction=[getResponse(getNeighbors(trainingSet, x, k,euclideanDistance))\\\n",
    "                  for x in testSet]\n",
    "    \n",
    "    return getAccuracy(testSet, prediction)  "
   ]
  },
  {
   "cell_type": "code",
   "execution_count": 8,
   "metadata": {},
   "outputs": [
    {
     "name": "stdout",
     "output_type": "stream",
     "text": [
      "Mean Accuracy of the Model = 96.09 %\n"
     ]
    }
   ],
   "source": [
    "matacc=[]\n",
    "for i in range(100):\n",
    "    matacc.append(predict(filename='iris.data.txt', split=0.70, k=5 , fdistance=euclideanDistance))\n",
    "acc=sum(matacc)/100   \n",
    "print(f'Mean Accuracy of the Model = {acc:.2f} %')"
   ]
  },
  {
   "cell_type": "markdown",
   "metadata": {},
   "source": [
    "# Another distance metric"
   ]
  },
  {
   "cell_type": "code",
   "execution_count": 9,
   "metadata": {},
   "outputs": [],
   "source": [
    "def manhattanDistance(instance1: list, instance2: list, length: int=0):\n",
    "    '''\n",
    "        calculate the manhattan Distance between two data points\n",
    "        \n",
    "        Parameters:\n",
    "            instance1: list of coordiante of first data point\n",
    "            instance2: list of coordiante of second data point\n",
    "            length: int: controls which fields to include in the distance calculation.\n",
    "            \n",
    "        Returns:\n",
    "            manhattan distance between two data point \n",
    "    '''\n",
    "    \n",
    "    if length==0: length=min(len(instance1),len(instance2))\n",
    "    sae=sum([abs(x-y) for x,y in zip(instance1[:length],instance2[:length])])\n",
    "    \n",
    "    return sae"
   ]
  },
  {
   "cell_type": "code",
   "execution_count": 10,
   "metadata": {},
   "outputs": [
    {
     "name": "stdout",
     "output_type": "stream",
     "text": [
      "Mean Accuracy of the Model = 96.13 %\n"
     ]
    }
   ],
   "source": [
    "matacc=[]\n",
    "for i in range(100):\n",
    "    matacc.append(predict(filename='iris.data.txt', split=0.70, k=5 , fdistance=manhattanDistance))\n",
    "acc=sum(matacc)/100   \n",
    "print(f'Mean Accuracy of the Model = {acc:.2f} %')\n"
   ]
  }
 ],
 "metadata": {
  "kernelspec": {
   "display_name": "Python 3",
   "language": "python",
   "name": "python3"
  },
  "language_info": {
   "codemirror_mode": {
    "name": "ipython",
    "version": 3
   },
   "file_extension": ".py",
   "mimetype": "text/x-python",
   "name": "python",
   "nbconvert_exporter": "python",
   "pygments_lexer": "ipython3",
   "version": "3.7.6"
  }
 },
 "nbformat": 4,
 "nbformat_minor": 4
}
