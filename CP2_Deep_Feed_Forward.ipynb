{
  "nbformat": 4,
  "nbformat_minor": 0,
  "metadata": {
    "colab": {
      "name": "CP2_Deep_Feed_Forward.ipynb",
      "provenance": [],
      "collapsed_sections": [],
      "toc_visible": true,
      "authorship_tag": "ABX9TyPZ1X608Ab1O9DJsuPeAFIS",
      "include_colab_link": true
    },
    "kernelspec": {
      "name": "python3",
      "display_name": "Python 3"
    }
  },
  "cells": [
    {
      "cell_type": "markdown",
      "metadata": {
        "id": "view-in-github",
        "colab_type": "text"
      },
      "source": [
        "<a href=\"https://colab.research.google.com/github/hayari/GoMyCodeML/blob/master/CP2_Deep_Feed_Forward.ipynb\" target=\"_parent\"><img src=\"https://colab.research.google.com/assets/colab-badge.svg\" alt=\"Open In Colab\"/></a>"
      ]
    },
    {
      "cell_type": "code",
      "metadata": {
        "id": "Q_WNbFxuiezS",
        "colab_type": "code",
        "colab": {
          "base_uri": "https://localhost:8080/",
          "height": 74
        },
        "outputId": "b931bbdd-4fa7-4cb8-c3c9-46883a4bb7d4"
      },
      "source": [
        "from __future__ import print_function\n",
        "import tensorflow as tf\n",
        "from tensorflow import keras\n",
        "from tensorflow.keras.models import Sequential\n",
        "from tensorflow.keras.layers import Dense, Dropout\n",
        "from tensorflow.keras import initializers,regularizers\n",
        "from tensorflow.keras.optimizers import RMSprop\n",
        "import numpy as np \n",
        "import pandas as pd\n",
        "import matplotlib.pyplot as plt\n",
        "from tensorflow.keras.utils import normalize, to_categorical\n",
        "from sklearn.preprocessing import OneHotEncoder\n",
        "from sklearn.model_selection import train_test_split\n",
        "from sklearn.preprocessing import StandardScaler\n",
        "import seaborn as sns\n",
        "from sklearn.linear_model import LogisticRegression\n",
        "from sklearn import metrics\n",
        "sns.set()"
      ],
      "execution_count": 1,
      "outputs": [
        {
          "output_type": "stream",
          "text": [
            "/usr/local/lib/python3.6/dist-packages/statsmodels/tools/_testing.py:19: FutureWarning: pandas.util.testing is deprecated. Use the functions in the public API at pandas.testing instead.\n",
            "  import pandas.util.testing as tm\n"
          ],
          "name": "stderr"
        }
      ]
    },
    {
      "cell_type": "code",
      "metadata": {
        "id": "kdSb5-Vzip8q",
        "colab_type": "code",
        "colab": {
          "base_uri": "https://localhost:8080/",
          "height": 363
        },
        "outputId": "affef8eb-cf14-40ec-e019-8ac124a9c4e1"
      },
      "source": [
        "data=pd.read_csv(\"bank.csv\")\n",
        "data.head(10)"
      ],
      "execution_count": 2,
      "outputs": [
        {
          "output_type": "execute_result",
          "data": {
            "text/html": [
              "<div>\n",
              "<style scoped>\n",
              "    .dataframe tbody tr th:only-of-type {\n",
              "        vertical-align: middle;\n",
              "    }\n",
              "\n",
              "    .dataframe tbody tr th {\n",
              "        vertical-align: top;\n",
              "    }\n",
              "\n",
              "    .dataframe thead th {\n",
              "        text-align: right;\n",
              "    }\n",
              "</style>\n",
              "<table border=\"1\" class=\"dataframe\">\n",
              "  <thead>\n",
              "    <tr style=\"text-align: right;\">\n",
              "      <th></th>\n",
              "      <th>age</th>\n",
              "      <th>job</th>\n",
              "      <th>marital</th>\n",
              "      <th>education</th>\n",
              "      <th>default</th>\n",
              "      <th>balance</th>\n",
              "      <th>housing</th>\n",
              "      <th>loan</th>\n",
              "      <th>contact</th>\n",
              "      <th>day</th>\n",
              "      <th>month</th>\n",
              "      <th>duration</th>\n",
              "      <th>campaign</th>\n",
              "      <th>pdays</th>\n",
              "      <th>previous</th>\n",
              "      <th>poutcome</th>\n",
              "      <th>deposit</th>\n",
              "    </tr>\n",
              "  </thead>\n",
              "  <tbody>\n",
              "    <tr>\n",
              "      <th>0</th>\n",
              "      <td>59</td>\n",
              "      <td>admin.</td>\n",
              "      <td>married</td>\n",
              "      <td>secondary</td>\n",
              "      <td>no</td>\n",
              "      <td>2343</td>\n",
              "      <td>yes</td>\n",
              "      <td>no</td>\n",
              "      <td>unknown</td>\n",
              "      <td>5</td>\n",
              "      <td>may</td>\n",
              "      <td>1042</td>\n",
              "      <td>1</td>\n",
              "      <td>-1</td>\n",
              "      <td>0</td>\n",
              "      <td>unknown</td>\n",
              "      <td>yes</td>\n",
              "    </tr>\n",
              "    <tr>\n",
              "      <th>1</th>\n",
              "      <td>56</td>\n",
              "      <td>admin.</td>\n",
              "      <td>married</td>\n",
              "      <td>secondary</td>\n",
              "      <td>no</td>\n",
              "      <td>45</td>\n",
              "      <td>no</td>\n",
              "      <td>no</td>\n",
              "      <td>unknown</td>\n",
              "      <td>5</td>\n",
              "      <td>may</td>\n",
              "      <td>1467</td>\n",
              "      <td>1</td>\n",
              "      <td>-1</td>\n",
              "      <td>0</td>\n",
              "      <td>unknown</td>\n",
              "      <td>yes</td>\n",
              "    </tr>\n",
              "    <tr>\n",
              "      <th>2</th>\n",
              "      <td>41</td>\n",
              "      <td>technician</td>\n",
              "      <td>married</td>\n",
              "      <td>secondary</td>\n",
              "      <td>no</td>\n",
              "      <td>1270</td>\n",
              "      <td>yes</td>\n",
              "      <td>no</td>\n",
              "      <td>unknown</td>\n",
              "      <td>5</td>\n",
              "      <td>may</td>\n",
              "      <td>1389</td>\n",
              "      <td>1</td>\n",
              "      <td>-1</td>\n",
              "      <td>0</td>\n",
              "      <td>unknown</td>\n",
              "      <td>yes</td>\n",
              "    </tr>\n",
              "    <tr>\n",
              "      <th>3</th>\n",
              "      <td>55</td>\n",
              "      <td>services</td>\n",
              "      <td>married</td>\n",
              "      <td>secondary</td>\n",
              "      <td>no</td>\n",
              "      <td>2476</td>\n",
              "      <td>yes</td>\n",
              "      <td>no</td>\n",
              "      <td>unknown</td>\n",
              "      <td>5</td>\n",
              "      <td>may</td>\n",
              "      <td>579</td>\n",
              "      <td>1</td>\n",
              "      <td>-1</td>\n",
              "      <td>0</td>\n",
              "      <td>unknown</td>\n",
              "      <td>yes</td>\n",
              "    </tr>\n",
              "    <tr>\n",
              "      <th>4</th>\n",
              "      <td>54</td>\n",
              "      <td>admin.</td>\n",
              "      <td>married</td>\n",
              "      <td>tertiary</td>\n",
              "      <td>no</td>\n",
              "      <td>184</td>\n",
              "      <td>no</td>\n",
              "      <td>no</td>\n",
              "      <td>unknown</td>\n",
              "      <td>5</td>\n",
              "      <td>may</td>\n",
              "      <td>673</td>\n",
              "      <td>2</td>\n",
              "      <td>-1</td>\n",
              "      <td>0</td>\n",
              "      <td>unknown</td>\n",
              "      <td>yes</td>\n",
              "    </tr>\n",
              "    <tr>\n",
              "      <th>5</th>\n",
              "      <td>42</td>\n",
              "      <td>management</td>\n",
              "      <td>single</td>\n",
              "      <td>tertiary</td>\n",
              "      <td>no</td>\n",
              "      <td>0</td>\n",
              "      <td>yes</td>\n",
              "      <td>yes</td>\n",
              "      <td>unknown</td>\n",
              "      <td>5</td>\n",
              "      <td>may</td>\n",
              "      <td>562</td>\n",
              "      <td>2</td>\n",
              "      <td>-1</td>\n",
              "      <td>0</td>\n",
              "      <td>unknown</td>\n",
              "      <td>yes</td>\n",
              "    </tr>\n",
              "    <tr>\n",
              "      <th>6</th>\n",
              "      <td>56</td>\n",
              "      <td>management</td>\n",
              "      <td>married</td>\n",
              "      <td>tertiary</td>\n",
              "      <td>no</td>\n",
              "      <td>830</td>\n",
              "      <td>yes</td>\n",
              "      <td>yes</td>\n",
              "      <td>unknown</td>\n",
              "      <td>6</td>\n",
              "      <td>may</td>\n",
              "      <td>1201</td>\n",
              "      <td>1</td>\n",
              "      <td>-1</td>\n",
              "      <td>0</td>\n",
              "      <td>unknown</td>\n",
              "      <td>yes</td>\n",
              "    </tr>\n",
              "    <tr>\n",
              "      <th>7</th>\n",
              "      <td>60</td>\n",
              "      <td>retired</td>\n",
              "      <td>divorced</td>\n",
              "      <td>secondary</td>\n",
              "      <td>no</td>\n",
              "      <td>545</td>\n",
              "      <td>yes</td>\n",
              "      <td>no</td>\n",
              "      <td>unknown</td>\n",
              "      <td>6</td>\n",
              "      <td>may</td>\n",
              "      <td>1030</td>\n",
              "      <td>1</td>\n",
              "      <td>-1</td>\n",
              "      <td>0</td>\n",
              "      <td>unknown</td>\n",
              "      <td>yes</td>\n",
              "    </tr>\n",
              "    <tr>\n",
              "      <th>8</th>\n",
              "      <td>37</td>\n",
              "      <td>technician</td>\n",
              "      <td>married</td>\n",
              "      <td>secondary</td>\n",
              "      <td>no</td>\n",
              "      <td>1</td>\n",
              "      <td>yes</td>\n",
              "      <td>no</td>\n",
              "      <td>unknown</td>\n",
              "      <td>6</td>\n",
              "      <td>may</td>\n",
              "      <td>608</td>\n",
              "      <td>1</td>\n",
              "      <td>-1</td>\n",
              "      <td>0</td>\n",
              "      <td>unknown</td>\n",
              "      <td>yes</td>\n",
              "    </tr>\n",
              "    <tr>\n",
              "      <th>9</th>\n",
              "      <td>28</td>\n",
              "      <td>services</td>\n",
              "      <td>single</td>\n",
              "      <td>secondary</td>\n",
              "      <td>no</td>\n",
              "      <td>5090</td>\n",
              "      <td>yes</td>\n",
              "      <td>no</td>\n",
              "      <td>unknown</td>\n",
              "      <td>6</td>\n",
              "      <td>may</td>\n",
              "      <td>1297</td>\n",
              "      <td>3</td>\n",
              "      <td>-1</td>\n",
              "      <td>0</td>\n",
              "      <td>unknown</td>\n",
              "      <td>yes</td>\n",
              "    </tr>\n",
              "  </tbody>\n",
              "</table>\n",
              "</div>"
            ],
            "text/plain": [
              "   age         job   marital  education  ... pdays  previous poutcome deposit\n",
              "0   59      admin.   married  secondary  ...    -1         0  unknown     yes\n",
              "1   56      admin.   married  secondary  ...    -1         0  unknown     yes\n",
              "2   41  technician   married  secondary  ...    -1         0  unknown     yes\n",
              "3   55    services   married  secondary  ...    -1         0  unknown     yes\n",
              "4   54      admin.   married   tertiary  ...    -1         0  unknown     yes\n",
              "5   42  management    single   tertiary  ...    -1         0  unknown     yes\n",
              "6   56  management   married   tertiary  ...    -1         0  unknown     yes\n",
              "7   60     retired  divorced  secondary  ...    -1         0  unknown     yes\n",
              "8   37  technician   married  secondary  ...    -1         0  unknown     yes\n",
              "9   28    services    single  secondary  ...    -1         0  unknown     yes\n",
              "\n",
              "[10 rows x 17 columns]"
            ]
          },
          "metadata": {
            "tags": []
          },
          "execution_count": 2
        }
      ]
    },
    {
      "cell_type": "code",
      "metadata": {
        "id": "LTPe4Ve3kUYM",
        "colab_type": "code",
        "colab": {
          "base_uri": "https://localhost:8080/",
          "height": 458
        },
        "outputId": "02449478-2c9d-48d3-bb66-5fff3a538a01"
      },
      "source": [
        "data.info()"
      ],
      "execution_count": 3,
      "outputs": [
        {
          "output_type": "stream",
          "text": [
            "<class 'pandas.core.frame.DataFrame'>\n",
            "RangeIndex: 11162 entries, 0 to 11161\n",
            "Data columns (total 17 columns):\n",
            " #   Column     Non-Null Count  Dtype \n",
            "---  ------     --------------  ----- \n",
            " 0   age        11162 non-null  int64 \n",
            " 1   job        11162 non-null  object\n",
            " 2   marital    11162 non-null  object\n",
            " 3   education  11162 non-null  object\n",
            " 4   default    11162 non-null  object\n",
            " 5   balance    11162 non-null  int64 \n",
            " 6   housing    11162 non-null  object\n",
            " 7   loan       11162 non-null  object\n",
            " 8   contact    11162 non-null  object\n",
            " 9   day        11162 non-null  int64 \n",
            " 10  month      11162 non-null  object\n",
            " 11  duration   11162 non-null  int64 \n",
            " 12  campaign   11162 non-null  int64 \n",
            " 13  pdays      11162 non-null  int64 \n",
            " 14  previous   11162 non-null  int64 \n",
            " 15  poutcome   11162 non-null  object\n",
            " 16  deposit    11162 non-null  object\n",
            "dtypes: int64(7), object(10)\n",
            "memory usage: 1.4+ MB\n"
          ],
          "name": "stdout"
        }
      ]
    },
    {
      "cell_type": "code",
      "metadata": {
        "id": "sSSbZZKMjUE8",
        "colab_type": "code",
        "colab": {
          "base_uri": "https://localhost:8080/",
          "height": 393
        },
        "outputId": "134797ea-3542-4171-a5db-823735b3c10b"
      },
      "source": [
        "data.describe(include='all')"
      ],
      "execution_count": 4,
      "outputs": [
        {
          "output_type": "execute_result",
          "data": {
            "text/html": [
              "<div>\n",
              "<style scoped>\n",
              "    .dataframe tbody tr th:only-of-type {\n",
              "        vertical-align: middle;\n",
              "    }\n",
              "\n",
              "    .dataframe tbody tr th {\n",
              "        vertical-align: top;\n",
              "    }\n",
              "\n",
              "    .dataframe thead th {\n",
              "        text-align: right;\n",
              "    }\n",
              "</style>\n",
              "<table border=\"1\" class=\"dataframe\">\n",
              "  <thead>\n",
              "    <tr style=\"text-align: right;\">\n",
              "      <th></th>\n",
              "      <th>age</th>\n",
              "      <th>job</th>\n",
              "      <th>marital</th>\n",
              "      <th>education</th>\n",
              "      <th>default</th>\n",
              "      <th>balance</th>\n",
              "      <th>housing</th>\n",
              "      <th>loan</th>\n",
              "      <th>contact</th>\n",
              "      <th>day</th>\n",
              "      <th>month</th>\n",
              "      <th>duration</th>\n",
              "      <th>campaign</th>\n",
              "      <th>pdays</th>\n",
              "      <th>previous</th>\n",
              "      <th>poutcome</th>\n",
              "      <th>deposit</th>\n",
              "    </tr>\n",
              "  </thead>\n",
              "  <tbody>\n",
              "    <tr>\n",
              "      <th>count</th>\n",
              "      <td>11162.000000</td>\n",
              "      <td>11162</td>\n",
              "      <td>11162</td>\n",
              "      <td>11162</td>\n",
              "      <td>11162</td>\n",
              "      <td>11162.000000</td>\n",
              "      <td>11162</td>\n",
              "      <td>11162</td>\n",
              "      <td>11162</td>\n",
              "      <td>11162.000000</td>\n",
              "      <td>11162</td>\n",
              "      <td>11162.000000</td>\n",
              "      <td>11162.000000</td>\n",
              "      <td>11162.000000</td>\n",
              "      <td>11162.000000</td>\n",
              "      <td>11162</td>\n",
              "      <td>11162</td>\n",
              "    </tr>\n",
              "    <tr>\n",
              "      <th>unique</th>\n",
              "      <td>NaN</td>\n",
              "      <td>12</td>\n",
              "      <td>3</td>\n",
              "      <td>4</td>\n",
              "      <td>2</td>\n",
              "      <td>NaN</td>\n",
              "      <td>2</td>\n",
              "      <td>2</td>\n",
              "      <td>3</td>\n",
              "      <td>NaN</td>\n",
              "      <td>12</td>\n",
              "      <td>NaN</td>\n",
              "      <td>NaN</td>\n",
              "      <td>NaN</td>\n",
              "      <td>NaN</td>\n",
              "      <td>4</td>\n",
              "      <td>2</td>\n",
              "    </tr>\n",
              "    <tr>\n",
              "      <th>top</th>\n",
              "      <td>NaN</td>\n",
              "      <td>management</td>\n",
              "      <td>married</td>\n",
              "      <td>secondary</td>\n",
              "      <td>no</td>\n",
              "      <td>NaN</td>\n",
              "      <td>no</td>\n",
              "      <td>no</td>\n",
              "      <td>cellular</td>\n",
              "      <td>NaN</td>\n",
              "      <td>may</td>\n",
              "      <td>NaN</td>\n",
              "      <td>NaN</td>\n",
              "      <td>NaN</td>\n",
              "      <td>NaN</td>\n",
              "      <td>unknown</td>\n",
              "      <td>no</td>\n",
              "    </tr>\n",
              "    <tr>\n",
              "      <th>freq</th>\n",
              "      <td>NaN</td>\n",
              "      <td>2566</td>\n",
              "      <td>6351</td>\n",
              "      <td>5476</td>\n",
              "      <td>10994</td>\n",
              "      <td>NaN</td>\n",
              "      <td>5881</td>\n",
              "      <td>9702</td>\n",
              "      <td>8042</td>\n",
              "      <td>NaN</td>\n",
              "      <td>2824</td>\n",
              "      <td>NaN</td>\n",
              "      <td>NaN</td>\n",
              "      <td>NaN</td>\n",
              "      <td>NaN</td>\n",
              "      <td>8326</td>\n",
              "      <td>5873</td>\n",
              "    </tr>\n",
              "    <tr>\n",
              "      <th>mean</th>\n",
              "      <td>41.231948</td>\n",
              "      <td>NaN</td>\n",
              "      <td>NaN</td>\n",
              "      <td>NaN</td>\n",
              "      <td>NaN</td>\n",
              "      <td>1528.538524</td>\n",
              "      <td>NaN</td>\n",
              "      <td>NaN</td>\n",
              "      <td>NaN</td>\n",
              "      <td>15.658036</td>\n",
              "      <td>NaN</td>\n",
              "      <td>371.993818</td>\n",
              "      <td>2.508421</td>\n",
              "      <td>51.330407</td>\n",
              "      <td>0.832557</td>\n",
              "      <td>NaN</td>\n",
              "      <td>NaN</td>\n",
              "    </tr>\n",
              "    <tr>\n",
              "      <th>std</th>\n",
              "      <td>11.913369</td>\n",
              "      <td>NaN</td>\n",
              "      <td>NaN</td>\n",
              "      <td>NaN</td>\n",
              "      <td>NaN</td>\n",
              "      <td>3225.413326</td>\n",
              "      <td>NaN</td>\n",
              "      <td>NaN</td>\n",
              "      <td>NaN</td>\n",
              "      <td>8.420740</td>\n",
              "      <td>NaN</td>\n",
              "      <td>347.128386</td>\n",
              "      <td>2.722077</td>\n",
              "      <td>108.758282</td>\n",
              "      <td>2.292007</td>\n",
              "      <td>NaN</td>\n",
              "      <td>NaN</td>\n",
              "    </tr>\n",
              "    <tr>\n",
              "      <th>min</th>\n",
              "      <td>18.000000</td>\n",
              "      <td>NaN</td>\n",
              "      <td>NaN</td>\n",
              "      <td>NaN</td>\n",
              "      <td>NaN</td>\n",
              "      <td>-6847.000000</td>\n",
              "      <td>NaN</td>\n",
              "      <td>NaN</td>\n",
              "      <td>NaN</td>\n",
              "      <td>1.000000</td>\n",
              "      <td>NaN</td>\n",
              "      <td>2.000000</td>\n",
              "      <td>1.000000</td>\n",
              "      <td>-1.000000</td>\n",
              "      <td>0.000000</td>\n",
              "      <td>NaN</td>\n",
              "      <td>NaN</td>\n",
              "    </tr>\n",
              "    <tr>\n",
              "      <th>25%</th>\n",
              "      <td>32.000000</td>\n",
              "      <td>NaN</td>\n",
              "      <td>NaN</td>\n",
              "      <td>NaN</td>\n",
              "      <td>NaN</td>\n",
              "      <td>122.000000</td>\n",
              "      <td>NaN</td>\n",
              "      <td>NaN</td>\n",
              "      <td>NaN</td>\n",
              "      <td>8.000000</td>\n",
              "      <td>NaN</td>\n",
              "      <td>138.000000</td>\n",
              "      <td>1.000000</td>\n",
              "      <td>-1.000000</td>\n",
              "      <td>0.000000</td>\n",
              "      <td>NaN</td>\n",
              "      <td>NaN</td>\n",
              "    </tr>\n",
              "    <tr>\n",
              "      <th>50%</th>\n",
              "      <td>39.000000</td>\n",
              "      <td>NaN</td>\n",
              "      <td>NaN</td>\n",
              "      <td>NaN</td>\n",
              "      <td>NaN</td>\n",
              "      <td>550.000000</td>\n",
              "      <td>NaN</td>\n",
              "      <td>NaN</td>\n",
              "      <td>NaN</td>\n",
              "      <td>15.000000</td>\n",
              "      <td>NaN</td>\n",
              "      <td>255.000000</td>\n",
              "      <td>2.000000</td>\n",
              "      <td>-1.000000</td>\n",
              "      <td>0.000000</td>\n",
              "      <td>NaN</td>\n",
              "      <td>NaN</td>\n",
              "    </tr>\n",
              "    <tr>\n",
              "      <th>75%</th>\n",
              "      <td>49.000000</td>\n",
              "      <td>NaN</td>\n",
              "      <td>NaN</td>\n",
              "      <td>NaN</td>\n",
              "      <td>NaN</td>\n",
              "      <td>1708.000000</td>\n",
              "      <td>NaN</td>\n",
              "      <td>NaN</td>\n",
              "      <td>NaN</td>\n",
              "      <td>22.000000</td>\n",
              "      <td>NaN</td>\n",
              "      <td>496.000000</td>\n",
              "      <td>3.000000</td>\n",
              "      <td>20.750000</td>\n",
              "      <td>1.000000</td>\n",
              "      <td>NaN</td>\n",
              "      <td>NaN</td>\n",
              "    </tr>\n",
              "    <tr>\n",
              "      <th>max</th>\n",
              "      <td>95.000000</td>\n",
              "      <td>NaN</td>\n",
              "      <td>NaN</td>\n",
              "      <td>NaN</td>\n",
              "      <td>NaN</td>\n",
              "      <td>81204.000000</td>\n",
              "      <td>NaN</td>\n",
              "      <td>NaN</td>\n",
              "      <td>NaN</td>\n",
              "      <td>31.000000</td>\n",
              "      <td>NaN</td>\n",
              "      <td>3881.000000</td>\n",
              "      <td>63.000000</td>\n",
              "      <td>854.000000</td>\n",
              "      <td>58.000000</td>\n",
              "      <td>NaN</td>\n",
              "      <td>NaN</td>\n",
              "    </tr>\n",
              "  </tbody>\n",
              "</table>\n",
              "</div>"
            ],
            "text/plain": [
              "                 age         job  marital  ...      previous poutcome  deposit\n",
              "count   11162.000000       11162    11162  ...  11162.000000    11162    11162\n",
              "unique           NaN          12        3  ...           NaN        4        2\n",
              "top              NaN  management  married  ...           NaN  unknown       no\n",
              "freq             NaN        2566     6351  ...           NaN     8326     5873\n",
              "mean       41.231948         NaN      NaN  ...      0.832557      NaN      NaN\n",
              "std        11.913369         NaN      NaN  ...      2.292007      NaN      NaN\n",
              "min        18.000000         NaN      NaN  ...      0.000000      NaN      NaN\n",
              "25%        32.000000         NaN      NaN  ...      0.000000      NaN      NaN\n",
              "50%        39.000000         NaN      NaN  ...      0.000000      NaN      NaN\n",
              "75%        49.000000         NaN      NaN  ...      1.000000      NaN      NaN\n",
              "max        95.000000         NaN      NaN  ...     58.000000      NaN      NaN\n",
              "\n",
              "[11 rows x 17 columns]"
            ]
          },
          "metadata": {
            "tags": []
          },
          "execution_count": 4
        }
      ]
    },
    {
      "cell_type": "code",
      "metadata": {
        "id": "mumKCdyckMaq",
        "colab_type": "code",
        "colab": {
          "base_uri": "https://localhost:8080/",
          "height": 348
        },
        "outputId": "249a2f33-03ed-4582-d317-da1f432ec2a2"
      },
      "source": [
        "data.isnull().sum()"
      ],
      "execution_count": 5,
      "outputs": [
        {
          "output_type": "execute_result",
          "data": {
            "text/plain": [
              "age          0\n",
              "job          0\n",
              "marital      0\n",
              "education    0\n",
              "default      0\n",
              "balance      0\n",
              "housing      0\n",
              "loan         0\n",
              "contact      0\n",
              "day          0\n",
              "month        0\n",
              "duration     0\n",
              "campaign     0\n",
              "pdays        0\n",
              "previous     0\n",
              "poutcome     0\n",
              "deposit      0\n",
              "dtype: int64"
            ]
          },
          "metadata": {
            "tags": []
          },
          "execution_count": 5
        }
      ]
    },
    {
      "cell_type": "markdown",
      "metadata": {
        "id": "M9E3Zf1nUtkN",
        "colab_type": "text"
      },
      "source": [
        "# Data Preprocessing"
      ]
    },
    {
      "cell_type": "code",
      "metadata": {
        "id": "GUHRg_NlkMVT",
        "colab_type": "code",
        "colab": {
          "base_uri": "https://localhost:8080/",
          "height": 35
        },
        "outputId": "b192ecb5-2012-45e7-82ca-38a61e672c8a"
      },
      "source": [
        "numerical=\"age\tbalance\tday\tduration\tcampaign\tpdays\tprevious\".split()\n",
        "numerical"
      ],
      "execution_count": 6,
      "outputs": [
        {
          "output_type": "execute_result",
          "data": {
            "text/plain": [
              "['age', 'balance', 'day', 'duration', 'campaign', 'pdays', 'previous']"
            ]
          },
          "metadata": {
            "tags": []
          },
          "execution_count": 6
        }
      ]
    },
    {
      "cell_type": "code",
      "metadata": {
        "id": "Ng_Vxw0AkMO8",
        "colab_type": "code",
        "colab": {
          "base_uri": "https://localhost:8080/",
          "height": 182
        },
        "outputId": "3998119c-b4d9-452d-d31a-1409f54f4492"
      },
      "source": [
        "categorical=[col for col in data.columns.to_list() if col not in numerical ]\n",
        "categorical.remove('deposit')\n",
        "categorical"
      ],
      "execution_count": 7,
      "outputs": [
        {
          "output_type": "execute_result",
          "data": {
            "text/plain": [
              "['job',\n",
              " 'marital',\n",
              " 'education',\n",
              " 'default',\n",
              " 'housing',\n",
              " 'loan',\n",
              " 'contact',\n",
              " 'month',\n",
              " 'poutcome']"
            ]
          },
          "metadata": {
            "tags": []
          },
          "execution_count": 7
        }
      ]
    },
    {
      "cell_type": "code",
      "metadata": {
        "id": "_aqLZFKvbbCD",
        "colab_type": "code",
        "colab": {
          "base_uri": "https://localhost:8080/",
          "height": 72
        },
        "outputId": "a1d89d93-ad35-493d-ed66-4a519812131a"
      },
      "source": [
        "X_train, X_test, y_train,y_test = train_test_split(data[numerical+categorical], data['deposit'], test_size = 0.2,random_state=100)\n",
        "X_train, X_valid, y_train,y_valid = train_test_split(X_train, y_train, test_size = 0.2,random_state=100)\n",
        "print(X_train.shape)\n",
        "print(X_valid.shape)\n",
        "print(X_test.shape)"
      ],
      "execution_count": 8,
      "outputs": [
        {
          "output_type": "stream",
          "text": [
            "(7143, 16)\n",
            "(1786, 16)\n",
            "(2233, 16)\n"
          ],
          "name": "stdout"
        }
      ]
    },
    {
      "cell_type": "code",
      "metadata": {
        "id": "SlC3UnsPkMIt",
        "colab_type": "code",
        "colab": {}
      },
      "source": [
        "#1- normalize numerical data\n",
        "scaler=StandardScaler()\n",
        "scaler.fit(X_train[numerical])\n",
        "X_train_num=scaler.transform(X_train[numerical])\n",
        "X_valid_num=scaler.transform(X_valid[numerical])\n",
        "X_test_num=scaler.transform(X_test[numerical])"
      ],
      "execution_count": 9,
      "outputs": []
    },
    {
      "cell_type": "code",
      "metadata": {
        "id": "fN3cKOpSkL-e",
        "colab_type": "code",
        "colab": {}
      },
      "source": [
        "#2- encode categorical data\n",
        "onehotx=OneHotEncoder(drop='first',sparse=False)\n",
        "onehotx.fit(X_train[categorical])\n",
        "X_train_cat=onehotx.transform(X_train[categorical])\n",
        "X_valid_cat=onehotx.transform(X_valid[categorical])\n",
        "X_test_cat=onehotx.transform(X_test[categorical])\n",
        "\n",
        "\n",
        "y_train=np.where(y_train=='yes',1,0)\n",
        "y_valid=np.where(y_valid=='yes',1,0)\n",
        "y_test=np.where(y_test=='yes',1,0)"
      ],
      "execution_count": 10,
      "outputs": []
    },
    {
      "cell_type": "code",
      "metadata": {
        "id": "IXv89QgFLyYK",
        "colab_type": "code",
        "colab": {}
      },
      "source": [
        "# concatenate data\n",
        "\n",
        "X_train=np.concatenate((X_train_num,X_train_cat),axis=1)\n",
        "\n",
        "X_valid=np.concatenate((X_valid_num,X_valid_cat),axis=1)\n",
        "X_test=np.concatenate((X_test_num,X_test_cat),axis=1)"
      ],
      "execution_count": 11,
      "outputs": []
    },
    {
      "cell_type": "markdown",
      "metadata": {
        "id": "S9GGN4GXU-Qf",
        "colab_type": "text"
      },
      "source": [
        "# Model construction\n",
        "## Logistic Regression"
      ]
    },
    {
      "cell_type": "code",
      "metadata": {
        "id": "PFBLtkCkVQbv",
        "colab_type": "code",
        "colab": {
          "base_uri": "https://localhost:8080/",
          "height": 72
        },
        "outputId": "b20e929b-bcec-4bb9-d70f-f3c818733e7f"
      },
      "source": [
        "logreg = LogisticRegression(random_state=100).fit(X_train, y_train)\n",
        "\n",
        "print(\"Train Accuracy={:.2f}\".format(logreg.score(X_train,y_train)))\n",
        "print(\"Validation Accuracy={:.2f}\".format(logreg.score(X_valid,y_valid)))\n",
        "print(\"Test Accuracy={:.2f}\".format(logreg.score(X_test,y_test)))"
      ],
      "execution_count": 12,
      "outputs": [
        {
          "output_type": "stream",
          "text": [
            "Train Accuracy=0.82\n",
            "Validation Accuracy=0.83\n",
            "Test Accuracy=0.83\n"
          ],
          "name": "stdout"
        }
      ]
    },
    {
      "cell_type": "markdown",
      "metadata": {
        "id": "6HQ-sX56nPEZ",
        "colab_type": "text"
      },
      "source": [
        "## ANN Model"
      ]
    },
    {
      "cell_type": "code",
      "metadata": {
        "id": "afPxaNBkmr_1",
        "colab_type": "code",
        "colab": {}
      },
      "source": [
        "# creating a model\n",
        "initializer = tf.keras.initializers.he_uniform()\n",
        "kernelregulizer = regularizers.l2(l=0.0001)\n",
        "activityregulizer = None\n",
        "dropout_rate=0.5\n",
        "model= Sequential([\n",
        "   Dense(512, input_dim = 42, activation='relu',kernel_initializer=initializer,bias_initializer='ones',activity_regularizer=activityregulizer,kernel_regularizer=kernelregulizer),\n",
        "   Dropout(dropout_rate),  \n",
        "   Dense(512, activation='relu',kernel_initializer=initializer,bias_initializer='ones',activity_regularizer=activityregulizer,kernel_regularizer=kernelregulizer),\n",
        "   Dropout(dropout_rate), \n",
        "   Dense(512, activation='relu',kernel_initializer=initializer,bias_initializer='ones',activity_regularizer=activityregulizer,kernel_regularizer=kernelregulizer),\n",
        "   Dropout(dropout_rate), \n",
        "   Dense(512, activation='relu',kernel_initializer=initializer,bias_initializer='ones',activity_regularizer=activityregulizer,kernel_regularizer=kernelregulizer),\n",
        "   Dropout(dropout_rate), \n",
        "   Dense(1, activation='sigmoid',kernel_initializer=initializer,bias_initializer='ones',activity_regularizer=activityregulizer,kernel_regularizer=kernelregulizer) ])"
      ],
      "execution_count": 13,
      "outputs": []
    },
    {
      "cell_type": "code",
      "metadata": {
        "id": "WLEpAufCmrmb",
        "colab_type": "code",
        "colab": {}
      },
      "source": [
        "opt = keras.optimizers.Adam(learning_rate=0.0005)\n",
        "model.compile(loss='binary_crossentropy', optimizer=opt, metrics=[\"accuracy\"])\n",
        "#print(model.get_weights())"
      ],
      "execution_count": 14,
      "outputs": []
    },
    {
      "cell_type": "code",
      "metadata": {
        "id": "fdHv7h8zmraL",
        "colab_type": "code",
        "colab": {
          "base_uri": "https://localhost:8080/",
          "height": 1000
        },
        "outputId": "43e3b551-2df7-4b99-fe9d-942250c0cf04"
      },
      "source": [
        "history = model.fit(X_train, y_train, validation_data=(X_valid, y_valid), epochs= 100,verbose=1)\n"
      ],
      "execution_count": 15,
      "outputs": [
        {
          "output_type": "stream",
          "text": [
            "Epoch 1/100\n",
            "224/224 [==============================] - 3s 14ms/step - loss: 2.1703 - accuracy: 0.6056 - val_loss: 0.8632 - val_accuracy: 0.7912\n",
            "Epoch 2/100\n",
            "224/224 [==============================] - 3s 13ms/step - loss: 1.2255 - accuracy: 0.6688 - val_loss: 0.9183 - val_accuracy: 0.7480\n",
            "Epoch 3/100\n",
            "224/224 [==============================] - 3s 13ms/step - loss: 1.0388 - accuracy: 0.7064 - val_loss: 0.8620 - val_accuracy: 0.7962\n",
            "Epoch 4/100\n",
            "224/224 [==============================] - 3s 14ms/step - loss: 0.9534 - accuracy: 0.7311 - val_loss: 0.8457 - val_accuracy: 0.8052\n",
            "Epoch 5/100\n",
            "224/224 [==============================] - 3s 14ms/step - loss: 0.9234 - accuracy: 0.7511 - val_loss: 0.8628 - val_accuracy: 0.7940\n",
            "Epoch 6/100\n",
            "224/224 [==============================] - 3s 14ms/step - loss: 0.8874 - accuracy: 0.7735 - val_loss: 0.8226 - val_accuracy: 0.8152\n",
            "Epoch 7/100\n",
            "224/224 [==============================] - 3s 13ms/step - loss: 0.8651 - accuracy: 0.7823 - val_loss: 0.8026 - val_accuracy: 0.8225\n",
            "Epoch 8/100\n",
            "224/224 [==============================] - 3s 13ms/step - loss: 0.8477 - accuracy: 0.7904 - val_loss: 0.8056 - val_accuracy: 0.8191\n",
            "Epoch 9/100\n",
            "224/224 [==============================] - 3s 14ms/step - loss: 0.8344 - accuracy: 0.7978 - val_loss: 0.7922 - val_accuracy: 0.8225\n",
            "Epoch 10/100\n",
            "224/224 [==============================] - 3s 14ms/step - loss: 0.8218 - accuracy: 0.7995 - val_loss: 0.7754 - val_accuracy: 0.8281\n",
            "Epoch 11/100\n",
            "224/224 [==============================] - 3s 14ms/step - loss: 0.8079 - accuracy: 0.8012 - val_loss: 0.7893 - val_accuracy: 0.8135\n",
            "Epoch 12/100\n",
            "224/224 [==============================] - 3s 13ms/step - loss: 0.7998 - accuracy: 0.8036 - val_loss: 0.7858 - val_accuracy: 0.8197\n",
            "Epoch 13/100\n",
            "224/224 [==============================] - 3s 14ms/step - loss: 0.7889 - accuracy: 0.8103 - val_loss: 0.7491 - val_accuracy: 0.8281\n",
            "Epoch 14/100\n",
            "224/224 [==============================] - 3s 14ms/step - loss: 0.7697 - accuracy: 0.8165 - val_loss: 0.7369 - val_accuracy: 0.8292\n",
            "Epoch 15/100\n",
            "224/224 [==============================] - 3s 14ms/step - loss: 0.7706 - accuracy: 0.8110 - val_loss: 0.7255 - val_accuracy: 0.8343\n",
            "Epoch 16/100\n",
            "224/224 [==============================] - 3s 14ms/step - loss: 0.7573 - accuracy: 0.8116 - val_loss: 0.7358 - val_accuracy: 0.8264\n",
            "Epoch 17/100\n",
            "224/224 [==============================] - 3s 14ms/step - loss: 0.7400 - accuracy: 0.8177 - val_loss: 0.7023 - val_accuracy: 0.8348\n",
            "Epoch 18/100\n",
            "224/224 [==============================] - 3s 14ms/step - loss: 0.7241 - accuracy: 0.8211 - val_loss: 0.7022 - val_accuracy: 0.8298\n",
            "Epoch 19/100\n",
            "224/224 [==============================] - 3s 15ms/step - loss: 0.7243 - accuracy: 0.8163 - val_loss: 0.6963 - val_accuracy: 0.8292\n",
            "Epoch 20/100\n",
            "224/224 [==============================] - 3s 15ms/step - loss: 0.7119 - accuracy: 0.8230 - val_loss: 0.7051 - val_accuracy: 0.8186\n",
            "Epoch 21/100\n",
            "224/224 [==============================] - 3s 15ms/step - loss: 0.7002 - accuracy: 0.8209 - val_loss: 0.6734 - val_accuracy: 0.8275\n",
            "Epoch 22/100\n",
            "224/224 [==============================] - 3s 14ms/step - loss: 0.6841 - accuracy: 0.8263 - val_loss: 0.6620 - val_accuracy: 0.8298\n",
            "Epoch 23/100\n",
            "224/224 [==============================] - 3s 13ms/step - loss: 0.6802 - accuracy: 0.8205 - val_loss: 0.6502 - val_accuracy: 0.8331\n",
            "Epoch 24/100\n",
            "224/224 [==============================] - 3s 14ms/step - loss: 0.6678 - accuracy: 0.8240 - val_loss: 0.6519 - val_accuracy: 0.8264\n",
            "Epoch 25/100\n",
            "224/224 [==============================] - 3s 14ms/step - loss: 0.6497 - accuracy: 0.8228 - val_loss: 0.6345 - val_accuracy: 0.8365\n",
            "Epoch 26/100\n",
            "224/224 [==============================] - 3s 14ms/step - loss: 0.6448 - accuracy: 0.8237 - val_loss: 0.6207 - val_accuracy: 0.8326\n",
            "Epoch 27/100\n",
            "224/224 [==============================] - 3s 14ms/step - loss: 0.6268 - accuracy: 0.8272 - val_loss: 0.6104 - val_accuracy: 0.8287\n",
            "Epoch 28/100\n",
            "224/224 [==============================] - 3s 14ms/step - loss: 0.6210 - accuracy: 0.8282 - val_loss: 0.6033 - val_accuracy: 0.8354\n",
            "Epoch 29/100\n",
            "224/224 [==============================] - 3s 14ms/step - loss: 0.6133 - accuracy: 0.8274 - val_loss: 0.5953 - val_accuracy: 0.8348\n",
            "Epoch 30/100\n",
            "224/224 [==============================] - 3s 13ms/step - loss: 0.5968 - accuracy: 0.8309 - val_loss: 0.5840 - val_accuracy: 0.8376\n",
            "Epoch 31/100\n",
            "224/224 [==============================] - 3s 14ms/step - loss: 0.5897 - accuracy: 0.8292 - val_loss: 0.5736 - val_accuracy: 0.8315\n",
            "Epoch 32/100\n",
            "224/224 [==============================] - 3s 13ms/step - loss: 0.5881 - accuracy: 0.8260 - val_loss: 0.5633 - val_accuracy: 0.8343\n",
            "Epoch 33/100\n",
            "224/224 [==============================] - 3s 14ms/step - loss: 0.5671 - accuracy: 0.8324 - val_loss: 0.5510 - val_accuracy: 0.8343\n",
            "Epoch 34/100\n",
            "224/224 [==============================] - 3s 14ms/step - loss: 0.5610 - accuracy: 0.8298 - val_loss: 0.5468 - val_accuracy: 0.8292\n",
            "Epoch 35/100\n",
            "224/224 [==============================] - 3s 14ms/step - loss: 0.5519 - accuracy: 0.8282 - val_loss: 0.5343 - val_accuracy: 0.8281\n",
            "Epoch 36/100\n",
            "224/224 [==============================] - 3s 13ms/step - loss: 0.5430 - accuracy: 0.8338 - val_loss: 0.5268 - val_accuracy: 0.8382\n",
            "Epoch 37/100\n",
            "224/224 [==============================] - 3s 13ms/step - loss: 0.5387 - accuracy: 0.8316 - val_loss: 0.5209 - val_accuracy: 0.8365\n",
            "Epoch 38/100\n",
            "224/224 [==============================] - 3s 13ms/step - loss: 0.5276 - accuracy: 0.8344 - val_loss: 0.5129 - val_accuracy: 0.8404\n",
            "Epoch 39/100\n",
            "224/224 [==============================] - 3s 14ms/step - loss: 0.5240 - accuracy: 0.8361 - val_loss: 0.5062 - val_accuracy: 0.8348\n",
            "Epoch 40/100\n",
            "224/224 [==============================] - 3s 14ms/step - loss: 0.5132 - accuracy: 0.8345 - val_loss: 0.5223 - val_accuracy: 0.8292\n",
            "Epoch 41/100\n",
            "224/224 [==============================] - 3s 14ms/step - loss: 0.5090 - accuracy: 0.8359 - val_loss: 0.4956 - val_accuracy: 0.8393\n",
            "Epoch 42/100\n",
            "224/224 [==============================] - 3s 14ms/step - loss: 0.5026 - accuracy: 0.8348 - val_loss: 0.4898 - val_accuracy: 0.8343\n",
            "Epoch 43/100\n",
            "224/224 [==============================] - 3s 13ms/step - loss: 0.4953 - accuracy: 0.8372 - val_loss: 0.4891 - val_accuracy: 0.8354\n",
            "Epoch 44/100\n",
            "224/224 [==============================] - 3s 14ms/step - loss: 0.4982 - accuracy: 0.8323 - val_loss: 0.4793 - val_accuracy: 0.8443\n",
            "Epoch 45/100\n",
            "224/224 [==============================] - 3s 14ms/step - loss: 0.4872 - accuracy: 0.8344 - val_loss: 0.4774 - val_accuracy: 0.8354\n",
            "Epoch 46/100\n",
            "224/224 [==============================] - 3s 14ms/step - loss: 0.4790 - accuracy: 0.8398 - val_loss: 0.4725 - val_accuracy: 0.8382\n",
            "Epoch 47/100\n",
            "224/224 [==============================] - 3s 14ms/step - loss: 0.4754 - accuracy: 0.8386 - val_loss: 0.4707 - val_accuracy: 0.8359\n",
            "Epoch 48/100\n",
            "224/224 [==============================] - 3s 14ms/step - loss: 0.4760 - accuracy: 0.8362 - val_loss: 0.4662 - val_accuracy: 0.8399\n",
            "Epoch 49/100\n",
            "224/224 [==============================] - 3s 14ms/step - loss: 0.4668 - accuracy: 0.8410 - val_loss: 0.4657 - val_accuracy: 0.8376\n",
            "Epoch 50/100\n",
            "224/224 [==============================] - 3s 14ms/step - loss: 0.4678 - accuracy: 0.8362 - val_loss: 0.4734 - val_accuracy: 0.8292\n",
            "Epoch 51/100\n",
            "224/224 [==============================] - 3s 14ms/step - loss: 0.4603 - accuracy: 0.8401 - val_loss: 0.4633 - val_accuracy: 0.8393\n",
            "Epoch 52/100\n",
            "224/224 [==============================] - 3s 14ms/step - loss: 0.4555 - accuracy: 0.8452 - val_loss: 0.4506 - val_accuracy: 0.8471\n",
            "Epoch 53/100\n",
            "224/224 [==============================] - 3s 14ms/step - loss: 0.4545 - accuracy: 0.8411 - val_loss: 0.4479 - val_accuracy: 0.8421\n",
            "Epoch 54/100\n",
            "224/224 [==============================] - 3s 14ms/step - loss: 0.4535 - accuracy: 0.8401 - val_loss: 0.4489 - val_accuracy: 0.8427\n",
            "Epoch 55/100\n",
            "224/224 [==============================] - 3s 14ms/step - loss: 0.4469 - accuracy: 0.8459 - val_loss: 0.4608 - val_accuracy: 0.8275\n",
            "Epoch 56/100\n",
            "224/224 [==============================] - 3s 14ms/step - loss: 0.4544 - accuracy: 0.8418 - val_loss: 0.4579 - val_accuracy: 0.8253\n",
            "Epoch 57/100\n",
            "224/224 [==============================] - 3s 14ms/step - loss: 0.4457 - accuracy: 0.8424 - val_loss: 0.4421 - val_accuracy: 0.8483\n",
            "Epoch 58/100\n",
            "224/224 [==============================] - 3s 14ms/step - loss: 0.4420 - accuracy: 0.8449 - val_loss: 0.4545 - val_accuracy: 0.8365\n",
            "Epoch 59/100\n",
            "224/224 [==============================] - 3s 14ms/step - loss: 0.4415 - accuracy: 0.8450 - val_loss: 0.4350 - val_accuracy: 0.8455\n",
            "Epoch 60/100\n",
            "224/224 [==============================] - 3s 14ms/step - loss: 0.4358 - accuracy: 0.8428 - val_loss: 0.4517 - val_accuracy: 0.8354\n",
            "Epoch 61/100\n",
            "224/224 [==============================] - 3s 14ms/step - loss: 0.4384 - accuracy: 0.8453 - val_loss: 0.4326 - val_accuracy: 0.8460\n",
            "Epoch 62/100\n",
            "224/224 [==============================] - 3s 14ms/step - loss: 0.4348 - accuracy: 0.8484 - val_loss: 0.4315 - val_accuracy: 0.8443\n",
            "Epoch 63/100\n",
            "224/224 [==============================] - 3s 14ms/step - loss: 0.4341 - accuracy: 0.8477 - val_loss: 0.4500 - val_accuracy: 0.8326\n",
            "Epoch 64/100\n",
            "224/224 [==============================] - 3s 14ms/step - loss: 0.4349 - accuracy: 0.8478 - val_loss: 0.4307 - val_accuracy: 0.8477\n",
            "Epoch 65/100\n",
            "224/224 [==============================] - 3s 14ms/step - loss: 0.4267 - accuracy: 0.8485 - val_loss: 0.4271 - val_accuracy: 0.8494\n",
            "Epoch 66/100\n",
            "224/224 [==============================] - 3s 14ms/step - loss: 0.4279 - accuracy: 0.8475 - val_loss: 0.4289 - val_accuracy: 0.8443\n",
            "Epoch 67/100\n",
            "224/224 [==============================] - 3s 14ms/step - loss: 0.4211 - accuracy: 0.8523 - val_loss: 0.4315 - val_accuracy: 0.8527\n",
            "Epoch 68/100\n",
            "224/224 [==============================] - 3s 14ms/step - loss: 0.4296 - accuracy: 0.8484 - val_loss: 0.4319 - val_accuracy: 0.8399\n",
            "Epoch 69/100\n",
            "224/224 [==============================] - 3s 14ms/step - loss: 0.4216 - accuracy: 0.8495 - val_loss: 0.4251 - val_accuracy: 0.8449\n",
            "Epoch 70/100\n",
            "224/224 [==============================] - 3s 14ms/step - loss: 0.4176 - accuracy: 0.8502 - val_loss: 0.4319 - val_accuracy: 0.8415\n",
            "Epoch 71/100\n",
            "224/224 [==============================] - 3s 14ms/step - loss: 0.4261 - accuracy: 0.8481 - val_loss: 0.4282 - val_accuracy: 0.8427\n",
            "Epoch 72/100\n",
            "224/224 [==============================] - 3s 14ms/step - loss: 0.4180 - accuracy: 0.8517 - val_loss: 0.4277 - val_accuracy: 0.8432\n",
            "Epoch 73/100\n",
            "224/224 [==============================] - 3s 14ms/step - loss: 0.4211 - accuracy: 0.8505 - val_loss: 0.4205 - val_accuracy: 0.8527\n",
            "Epoch 74/100\n",
            "224/224 [==============================] - 3s 14ms/step - loss: 0.4180 - accuracy: 0.8485 - val_loss: 0.4226 - val_accuracy: 0.8477\n",
            "Epoch 75/100\n",
            "224/224 [==============================] - 3s 14ms/step - loss: 0.4234 - accuracy: 0.8461 - val_loss: 0.4225 - val_accuracy: 0.8488\n",
            "Epoch 76/100\n",
            "224/224 [==============================] - 3s 15ms/step - loss: 0.4178 - accuracy: 0.8466 - val_loss: 0.4297 - val_accuracy: 0.8522\n",
            "Epoch 77/100\n",
            "224/224 [==============================] - 3s 15ms/step - loss: 0.4178 - accuracy: 0.8510 - val_loss: 0.4278 - val_accuracy: 0.8421\n",
            "Epoch 78/100\n",
            "224/224 [==============================] - 3s 14ms/step - loss: 0.4169 - accuracy: 0.8530 - val_loss: 0.4271 - val_accuracy: 0.8387\n",
            "Epoch 79/100\n",
            "224/224 [==============================] - 3s 14ms/step - loss: 0.4150 - accuracy: 0.8513 - val_loss: 0.4390 - val_accuracy: 0.8382\n",
            "Epoch 80/100\n",
            "224/224 [==============================] - 3s 14ms/step - loss: 0.4148 - accuracy: 0.8485 - val_loss: 0.4278 - val_accuracy: 0.8421\n",
            "Epoch 81/100\n",
            "224/224 [==============================] - 3s 15ms/step - loss: 0.4129 - accuracy: 0.8520 - val_loss: 0.4219 - val_accuracy: 0.8488\n",
            "Epoch 82/100\n",
            "224/224 [==============================] - 3s 14ms/step - loss: 0.4063 - accuracy: 0.8499 - val_loss: 0.4247 - val_accuracy: 0.8471\n",
            "Epoch 83/100\n",
            "224/224 [==============================] - 3s 14ms/step - loss: 0.4067 - accuracy: 0.8561 - val_loss: 0.4183 - val_accuracy: 0.8544\n",
            "Epoch 84/100\n",
            "224/224 [==============================] - 3s 14ms/step - loss: 0.4102 - accuracy: 0.8537 - val_loss: 0.4225 - val_accuracy: 0.8460\n",
            "Epoch 85/100\n",
            "224/224 [==============================] - 3s 14ms/step - loss: 0.4109 - accuracy: 0.8529 - val_loss: 0.4270 - val_accuracy: 0.8522\n",
            "Epoch 86/100\n",
            "224/224 [==============================] - 3s 14ms/step - loss: 0.4094 - accuracy: 0.8516 - val_loss: 0.4205 - val_accuracy: 0.8505\n",
            "Epoch 87/100\n",
            "224/224 [==============================] - 3s 14ms/step - loss: 0.4074 - accuracy: 0.8557 - val_loss: 0.4249 - val_accuracy: 0.8499\n",
            "Epoch 88/100\n",
            "224/224 [==============================] - 3s 14ms/step - loss: 0.4075 - accuracy: 0.8551 - val_loss: 0.4171 - val_accuracy: 0.8483\n",
            "Epoch 89/100\n",
            "224/224 [==============================] - 3s 14ms/step - loss: 0.4058 - accuracy: 0.8544 - val_loss: 0.4215 - val_accuracy: 0.8533\n",
            "Epoch 90/100\n",
            "224/224 [==============================] - 3s 14ms/step - loss: 0.4037 - accuracy: 0.8544 - val_loss: 0.4184 - val_accuracy: 0.8460\n",
            "Epoch 91/100\n",
            "224/224 [==============================] - 3s 14ms/step - loss: 0.4025 - accuracy: 0.8576 - val_loss: 0.4217 - val_accuracy: 0.8595\n",
            "Epoch 92/100\n",
            "224/224 [==============================] - 3s 14ms/step - loss: 0.4025 - accuracy: 0.8555 - val_loss: 0.4299 - val_accuracy: 0.8527\n",
            "Epoch 93/100\n",
            "224/224 [==============================] - 3s 14ms/step - loss: 0.4032 - accuracy: 0.8544 - val_loss: 0.4165 - val_accuracy: 0.8539\n",
            "Epoch 94/100\n",
            "224/224 [==============================] - 3s 14ms/step - loss: 0.4006 - accuracy: 0.8606 - val_loss: 0.4200 - val_accuracy: 0.8499\n",
            "Epoch 95/100\n",
            "224/224 [==============================] - 3s 14ms/step - loss: 0.4006 - accuracy: 0.8534 - val_loss: 0.4178 - val_accuracy: 0.8611\n",
            "Epoch 96/100\n",
            "224/224 [==============================] - 3s 14ms/step - loss: 0.4012 - accuracy: 0.8572 - val_loss: 0.4274 - val_accuracy: 0.8348\n",
            "Epoch 97/100\n",
            "224/224 [==============================] - 3s 14ms/step - loss: 0.4015 - accuracy: 0.8561 - val_loss: 0.4171 - val_accuracy: 0.8533\n",
            "Epoch 98/100\n",
            "224/224 [==============================] - 3s 14ms/step - loss: 0.3991 - accuracy: 0.8565 - val_loss: 0.4143 - val_accuracy: 0.8539\n",
            "Epoch 99/100\n",
            "224/224 [==============================] - 3s 14ms/step - loss: 0.3988 - accuracy: 0.8576 - val_loss: 0.4248 - val_accuracy: 0.8505\n",
            "Epoch 100/100\n",
            "224/224 [==============================] - 3s 15ms/step - loss: 0.3992 - accuracy: 0.8565 - val_loss: 0.4231 - val_accuracy: 0.8471\n"
          ],
          "name": "stdout"
        }
      ]
    },
    {
      "cell_type": "code",
      "metadata": {
        "id": "Ieu4lm0EvAqZ",
        "colab_type": "code",
        "colab": {
          "base_uri": "https://localhost:8080/",
          "height": 495
        },
        "outputId": "7ab356cb-edc2-43ae-e33a-b123ae4f160c"
      },
      "source": [
        "model.summary()"
      ],
      "execution_count": 16,
      "outputs": [
        {
          "output_type": "stream",
          "text": [
            "Model: \"sequential\"\n",
            "_________________________________________________________________\n",
            "Layer (type)                 Output Shape              Param #   \n",
            "=================================================================\n",
            "dense (Dense)                (None, 512)               22016     \n",
            "_________________________________________________________________\n",
            "dropout (Dropout)            (None, 512)               0         \n",
            "_________________________________________________________________\n",
            "dense_1 (Dense)              (None, 512)               262656    \n",
            "_________________________________________________________________\n",
            "dropout_1 (Dropout)          (None, 512)               0         \n",
            "_________________________________________________________________\n",
            "dense_2 (Dense)              (None, 512)               262656    \n",
            "_________________________________________________________________\n",
            "dropout_2 (Dropout)          (None, 512)               0         \n",
            "_________________________________________________________________\n",
            "dense_3 (Dense)              (None, 512)               262656    \n",
            "_________________________________________________________________\n",
            "dropout_3 (Dropout)          (None, 512)               0         \n",
            "_________________________________________________________________\n",
            "dense_4 (Dense)              (None, 1)                 513       \n",
            "=================================================================\n",
            "Total params: 810,497\n",
            "Trainable params: 810,497\n",
            "Non-trainable params: 0\n",
            "_________________________________________________________________\n"
          ],
          "name": "stdout"
        }
      ]
    },
    {
      "cell_type": "code",
      "metadata": {
        "id": "I9DjVIPLvDw8",
        "colab_type": "code",
        "colab": {
          "base_uri": "https://localhost:8080/",
          "height": 301
        },
        "outputId": "871417ef-8451-41cd-9cd0-7126c815f3d1"
      },
      "source": [
        "plt.plot(history.history['accuracy'])\n",
        "plt.plot(history.history['val_accuracy'])\n",
        "plt.title('model accuracy')\n",
        "plt.ylabel('accuracy')\n",
        "plt.xlabel('epoch')\n",
        "plt.legend(['train', 'validation'], loc='upper left')\n",
        "plt.show()"
      ],
      "execution_count": 17,
      "outputs": [
        {
          "output_type": "display_data",
          "data": {
            "image/png": "[encoded data removed]",
            "text/plain": [
              "<Figure size 432x288 with 1 Axes>"
            ]
          },
          "metadata": {
            "tags": [],
            "needs_background": "light"
          }
        }
      ]
    },
    {
      "cell_type": "code",
      "metadata": {
        "id": "wfC9Qvl9vFtJ",
        "colab_type": "code",
        "colab": {
          "base_uri": "https://localhost:8080/",
          "height": 301
        },
        "outputId": "4daf4dba-8bb0-4780-bfe4-8f6673de3908"
      },
      "source": [
        "plt.plot(history.history['loss'])\n",
        "plt.plot(history.history['val_loss'])\n",
        "plt.title('model loss')\n",
        "plt.ylabel('loss')\n",
        "plt.xlabel('epoch')\n",
        "plt.legend(['train', 'validation'], loc='upper left')\n",
        "plt.show()"
      ],
      "execution_count": 18,
      "outputs": [
        {
          "output_type": "display_data",
          "data": {
            "image/png": "[encoded data removed]",
            "text/plain": [
              "<Figure size 432x288 with 1 Axes>"
            ]
          },
          "metadata": {
            "tags": [],
            "needs_background": "light"
          }
        }
      ]
    },
    {
      "cell_type": "code",
      "metadata": {
        "id": "K5VozF2tvIrl",
        "colab_type": "code",
        "colab": {
          "base_uri": "https://localhost:8080/",
          "height": 54
        },
        "outputId": "201a89aa-2322-41b6-bf94-b4633e68d094"
      },
      "source": [
        "model.evaluate(\n",
        "  X_test,\n",
        "  y_test)"
      ],
      "execution_count": 19,
      "outputs": [
        {
          "output_type": "stream",
          "text": [
            "70/70 [==============================] - 0s 4ms/step - loss: 0.4135 - accuracy: 0.8513\n"
          ],
          "name": "stdout"
        },
        {
          "output_type": "execute_result",
          "data": {
            "text/plain": [
              "[0.413514107465744, 0.8513211011886597]"
            ]
          },
          "metadata": {
            "tags": []
          },
          "execution_count": 19
        }
      ]
    }
  ]
}