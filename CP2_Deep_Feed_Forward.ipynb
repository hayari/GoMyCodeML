{
  "nbformat": 4,
  "nbformat_minor": 0,
  "metadata": {
    "colab": {
      "name": "CP2_Deep_Feed_Forward.ipynb",
      "provenance": [],
      "collapsed_sections": [],
      "authorship_tag": "ABX9TyPTh5jd/eRn+iWfranHPX8o",
      "include_colab_link": true
    },
    "kernelspec": {
      "name": "python3",
      "display_name": "Python 3"
    }
  },
  "cells": [
    {
      "cell_type": "markdown",
      "metadata": {
        "id": "view-in-github",
        "colab_type": "text"
      },
      "source": [
        "<a href=\"https://colab.research.google.com/github/hayari/GoMyCodeML/blob/master/CP2_Deep_Feed_Forward.ipynb\" target=\"_parent\"><img src=\"https://colab.research.google.com/assets/colab-badge.svg\" alt=\"Open In Colab\"/></a>"
      ]
    },
    {
      "cell_type": "code",
      "metadata": {
        "id": "Q_WNbFxuiezS",
        "colab_type": "code",
        "colab": {
          "base_uri": "https://localhost:8080/",
          "height": 74
        },
        "outputId": "d5640899-590f-4881-cd10-d53376f735c7"
      },
      "source": [
        "from __future__ import print_function\n",
        "import tensorflow as tf\n",
        "from tensorflow import keras\n",
        "from tensorflow.keras.models import Sequential\n",
        "from tensorflow.keras.layers import Dense, Dropout\n",
        "from tensorflow.keras.optimizers import RMSprop\n",
        "import numpy as np \n",
        "import pandas as pd\n",
        "import matplotlib.pyplot as plt\n",
        "from tensorflow.keras.utils import normalize, to_categorical\n",
        "from sklearn.preprocessing import OneHotEncoder\n",
        "from sklearn.model_selection import train_test_split\n",
        "from sklearn.preprocessing import StandardScaler\n",
        "import seaborn as sns\n",
        "from sklearn.linear_model import LogisticRegression\n",
        "from sklearn import metrics\n",
        "sns.set()"
      ],
      "execution_count": null,
      "outputs": [
        {
          "output_type": "stream",
          "text": [
            "/usr/local/lib/python3.6/dist-packages/statsmodels/tools/_testing.py:19: FutureWarning: pandas.util.testing is deprecated. Use the functions in the public API at pandas.testing instead.\n",
            "  import pandas.util.testing as tm\n"
          ],
          "name": "stderr"
        }
      ]
    },
    {
      "cell_type": "code",
      "metadata": {
        "id": "kdSb5-Vzip8q",
        "colab_type": "code",
        "colab": {
          "base_uri": "https://localhost:8080/",
          "height": 363
        },
        "outputId": "676b4625-3ebe-4de8-df9a-52b6126f811e"
      },
      "source": [
        "data=pd.read_csv(\"bank.csv\")\n",
        "data.head(10)"
      ],
      "execution_count": null,
      "outputs": [
        {
          "output_type": "execute_result",
          "data": {
            "text/html": [
              "<div>\n",
              "<style scoped>\n",
              "    .dataframe tbody tr th:only-of-type {\n",
              "        vertical-align: middle;\n",
              "    }\n",
              "\n",
              "    .dataframe tbody tr th {\n",
              "        vertical-align: top;\n",
              "    }\n",
              "\n",
              "    .dataframe thead th {\n",
              "        text-align: right;\n",
              "    }\n",
              "</style>\n",
              "<table border=\"1\" class=\"dataframe\">\n",
              "  <thead>\n",
              "    <tr style=\"text-align: right;\">\n",
              "      <th></th>\n",
              "      <th>age</th>\n",
              "      <th>job</th>\n",
              "      <th>marital</th>\n",
              "      <th>education</th>\n",
              "      <th>default</th>\n",
              "      <th>balance</th>\n",
              "      <th>housing</th>\n",
              "      <th>loan</th>\n",
              "      <th>contact</th>\n",
              "      <th>day</th>\n",
              "      <th>month</th>\n",
              "      <th>duration</th>\n",
              "      <th>campaign</th>\n",
              "      <th>pdays</th>\n",
              "      <th>previous</th>\n",
              "      <th>poutcome</th>\n",
              "      <th>deposit</th>\n",
              "    </tr>\n",
              "  </thead>\n",
              "  <tbody>\n",
              "    <tr>\n",
              "      <th>0</th>\n",
              "      <td>59</td>\n",
              "      <td>admin.</td>\n",
              "      <td>married</td>\n",
              "      <td>secondary</td>\n",
              "      <td>no</td>\n",
              "      <td>2343</td>\n",
              "      <td>yes</td>\n",
              "      <td>no</td>\n",
              "      <td>unknown</td>\n",
              "      <td>5</td>\n",
              "      <td>may</td>\n",
              "      <td>1042</td>\n",
              "      <td>1</td>\n",
              "      <td>-1</td>\n",
              "      <td>0</td>\n",
              "      <td>unknown</td>\n",
              "      <td>yes</td>\n",
              "    </tr>\n",
              "    <tr>\n",
              "      <th>1</th>\n",
              "      <td>56</td>\n",
              "      <td>admin.</td>\n",
              "      <td>married</td>\n",
              "      <td>secondary</td>\n",
              "      <td>no</td>\n",
              "      <td>45</td>\n",
              "      <td>no</td>\n",
              "      <td>no</td>\n",
              "      <td>unknown</td>\n",
              "      <td>5</td>\n",
              "      <td>may</td>\n",
              "      <td>1467</td>\n",
              "      <td>1</td>\n",
              "      <td>-1</td>\n",
              "      <td>0</td>\n",
              "      <td>unknown</td>\n",
              "      <td>yes</td>\n",
              "    </tr>\n",
              "    <tr>\n",
              "      <th>2</th>\n",
              "      <td>41</td>\n",
              "      <td>technician</td>\n",
              "      <td>married</td>\n",
              "      <td>secondary</td>\n",
              "      <td>no</td>\n",
              "      <td>1270</td>\n",
              "      <td>yes</td>\n",
              "      <td>no</td>\n",
              "      <td>unknown</td>\n",
              "      <td>5</td>\n",
              "      <td>may</td>\n",
              "      <td>1389</td>\n",
              "      <td>1</td>\n",
              "      <td>-1</td>\n",
              "      <td>0</td>\n",
              "      <td>unknown</td>\n",
              "      <td>yes</td>\n",
              "    </tr>\n",
              "    <tr>\n",
              "      <th>3</th>\n",
              "      <td>55</td>\n",
              "      <td>services</td>\n",
              "      <td>married</td>\n",
              "      <td>secondary</td>\n",
              "      <td>no</td>\n",
              "      <td>2476</td>\n",
              "      <td>yes</td>\n",
              "      <td>no</td>\n",
              "      <td>unknown</td>\n",
              "      <td>5</td>\n",
              "      <td>may</td>\n",
              "      <td>579</td>\n",
              "      <td>1</td>\n",
              "      <td>-1</td>\n",
              "      <td>0</td>\n",
              "      <td>unknown</td>\n",
              "      <td>yes</td>\n",
              "    </tr>\n",
              "    <tr>\n",
              "      <th>4</th>\n",
              "      <td>54</td>\n",
              "      <td>admin.</td>\n",
              "      <td>married</td>\n",
              "      <td>tertiary</td>\n",
              "      <td>no</td>\n",
              "      <td>184</td>\n",
              "      <td>no</td>\n",
              "      <td>no</td>\n",
              "      <td>unknown</td>\n",
              "      <td>5</td>\n",
              "      <td>may</td>\n",
              "      <td>673</td>\n",
              "      <td>2</td>\n",
              "      <td>-1</td>\n",
              "      <td>0</td>\n",
              "      <td>unknown</td>\n",
              "      <td>yes</td>\n",
              "    </tr>\n",
              "    <tr>\n",
              "      <th>5</th>\n",
              "      <td>42</td>\n",
              "      <td>management</td>\n",
              "      <td>single</td>\n",
              "      <td>tertiary</td>\n",
              "      <td>no</td>\n",
              "      <td>0</td>\n",
              "      <td>yes</td>\n",
              "      <td>yes</td>\n",
              "      <td>unknown</td>\n",
              "      <td>5</td>\n",
              "      <td>may</td>\n",
              "      <td>562</td>\n",
              "      <td>2</td>\n",
              "      <td>-1</td>\n",
              "      <td>0</td>\n",
              "      <td>unknown</td>\n",
              "      <td>yes</td>\n",
              "    </tr>\n",
              "    <tr>\n",
              "      <th>6</th>\n",
              "      <td>56</td>\n",
              "      <td>management</td>\n",
              "      <td>married</td>\n",
              "      <td>tertiary</td>\n",
              "      <td>no</td>\n",
              "      <td>830</td>\n",
              "      <td>yes</td>\n",
              "      <td>yes</td>\n",
              "      <td>unknown</td>\n",
              "      <td>6</td>\n",
              "      <td>may</td>\n",
              "      <td>1201</td>\n",
              "      <td>1</td>\n",
              "      <td>-1</td>\n",
              "      <td>0</td>\n",
              "      <td>unknown</td>\n",
              "      <td>yes</td>\n",
              "    </tr>\n",
              "    <tr>\n",
              "      <th>7</th>\n",
              "      <td>60</td>\n",
              "      <td>retired</td>\n",
              "      <td>divorced</td>\n",
              "      <td>secondary</td>\n",
              "      <td>no</td>\n",
              "      <td>545</td>\n",
              "      <td>yes</td>\n",
              "      <td>no</td>\n",
              "      <td>unknown</td>\n",
              "      <td>6</td>\n",
              "      <td>may</td>\n",
              "      <td>1030</td>\n",
              "      <td>1</td>\n",
              "      <td>-1</td>\n",
              "      <td>0</td>\n",
              "      <td>unknown</td>\n",
              "      <td>yes</td>\n",
              "    </tr>\n",
              "    <tr>\n",
              "      <th>8</th>\n",
              "      <td>37</td>\n",
              "      <td>technician</td>\n",
              "      <td>married</td>\n",
              "      <td>secondary</td>\n",
              "      <td>no</td>\n",
              "      <td>1</td>\n",
              "      <td>yes</td>\n",
              "      <td>no</td>\n",
              "      <td>unknown</td>\n",
              "      <td>6</td>\n",
              "      <td>may</td>\n",
              "      <td>608</td>\n",
              "      <td>1</td>\n",
              "      <td>-1</td>\n",
              "      <td>0</td>\n",
              "      <td>unknown</td>\n",
              "      <td>yes</td>\n",
              "    </tr>\n",
              "    <tr>\n",
              "      <th>9</th>\n",
              "      <td>28</td>\n",
              "      <td>services</td>\n",
              "      <td>single</td>\n",
              "      <td>secondary</td>\n",
              "      <td>no</td>\n",
              "      <td>5090</td>\n",
              "      <td>yes</td>\n",
              "      <td>no</td>\n",
              "      <td>unknown</td>\n",
              "      <td>6</td>\n",
              "      <td>may</td>\n",
              "      <td>1297</td>\n",
              "      <td>3</td>\n",
              "      <td>-1</td>\n",
              "      <td>0</td>\n",
              "      <td>unknown</td>\n",
              "      <td>yes</td>\n",
              "    </tr>\n",
              "  </tbody>\n",
              "</table>\n",
              "</div>"
            ],
            "text/plain": [
              "   age         job   marital  education  ... pdays  previous poutcome deposit\n",
              "0   59      admin.   married  secondary  ...    -1         0  unknown     yes\n",
              "1   56      admin.   married  secondary  ...    -1         0  unknown     yes\n",
              "2   41  technician   married  secondary  ...    -1         0  unknown     yes\n",
              "3   55    services   married  secondary  ...    -1         0  unknown     yes\n",
              "4   54      admin.   married   tertiary  ...    -1         0  unknown     yes\n",
              "5   42  management    single   tertiary  ...    -1         0  unknown     yes\n",
              "6   56  management   married   tertiary  ...    -1         0  unknown     yes\n",
              "7   60     retired  divorced  secondary  ...    -1         0  unknown     yes\n",
              "8   37  technician   married  secondary  ...    -1         0  unknown     yes\n",
              "9   28    services    single  secondary  ...    -1         0  unknown     yes\n",
              "\n",
              "[10 rows x 17 columns]"
            ]
          },
          "metadata": {
            "tags": []
          },
          "execution_count": 2
        }
      ]
    },
    {
      "cell_type": "code",
      "metadata": {
        "id": "LTPe4Ve3kUYM",
        "colab_type": "code",
        "colab": {
          "base_uri": "https://localhost:8080/",
          "height": 458
        },
        "outputId": "f22bd713-3982-46e9-9be5-3e20ed95bc55"
      },
      "source": [
        "data.info()"
      ],
      "execution_count": null,
      "outputs": [
        {
          "output_type": "stream",
          "text": [
            "<class 'pandas.core.frame.DataFrame'>\n",
            "RangeIndex: 11162 entries, 0 to 11161\n",
            "Data columns (total 17 columns):\n",
            " #   Column     Non-Null Count  Dtype \n",
            "---  ------     --------------  ----- \n",
            " 0   age        11162 non-null  int64 \n",
            " 1   job        11162 non-null  object\n",
            " 2   marital    11162 non-null  object\n",
            " 3   education  11162 non-null  object\n",
            " 4   default    11162 non-null  object\n",
            " 5   balance    11162 non-null  int64 \n",
            " 6   housing    11162 non-null  object\n",
            " 7   loan       11162 non-null  object\n",
            " 8   contact    11162 non-null  object\n",
            " 9   day        11162 non-null  int64 \n",
            " 10  month      11162 non-null  object\n",
            " 11  duration   11162 non-null  int64 \n",
            " 12  campaign   11162 non-null  int64 \n",
            " 13  pdays      11162 non-null  int64 \n",
            " 14  previous   11162 non-null  int64 \n",
            " 15  poutcome   11162 non-null  object\n",
            " 16  deposit    11162 non-null  object\n",
            "dtypes: int64(7), object(10)\n",
            "memory usage: 1.4+ MB\n"
          ],
          "name": "stdout"
        }
      ]
    },
    {
      "cell_type": "code",
      "metadata": {
        "id": "sSSbZZKMjUE8",
        "colab_type": "code",
        "colab": {
          "base_uri": "https://localhost:8080/",
          "height": 393
        },
        "outputId": "eb0327be-c859-47f6-b8e2-9476a2512411"
      },
      "source": [
        "data.describe(include='all')"
      ],
      "execution_count": null,
      "outputs": [
        {
          "output_type": "execute_result",
          "data": {
            "text/html": [
              "<div>\n",
              "<style scoped>\n",
              "    .dataframe tbody tr th:only-of-type {\n",
              "        vertical-align: middle;\n",
              "    }\n",
              "\n",
              "    .dataframe tbody tr th {\n",
              "        vertical-align: top;\n",
              "    }\n",
              "\n",
              "    .dataframe thead th {\n",
              "        text-align: right;\n",
              "    }\n",
              "</style>\n",
              "<table border=\"1\" class=\"dataframe\">\n",
              "  <thead>\n",
              "    <tr style=\"text-align: right;\">\n",
              "      <th></th>\n",
              "      <th>age</th>\n",
              "      <th>job</th>\n",
              "      <th>marital</th>\n",
              "      <th>education</th>\n",
              "      <th>default</th>\n",
              "      <th>balance</th>\n",
              "      <th>housing</th>\n",
              "      <th>loan</th>\n",
              "      <th>contact</th>\n",
              "      <th>day</th>\n",
              "      <th>month</th>\n",
              "      <th>duration</th>\n",
              "      <th>campaign</th>\n",
              "      <th>pdays</th>\n",
              "      <th>previous</th>\n",
              "      <th>poutcome</th>\n",
              "      <th>deposit</th>\n",
              "    </tr>\n",
              "  </thead>\n",
              "  <tbody>\n",
              "    <tr>\n",
              "      <th>count</th>\n",
              "      <td>11162.000000</td>\n",
              "      <td>11162</td>\n",
              "      <td>11162</td>\n",
              "      <td>11162</td>\n",
              "      <td>11162</td>\n",
              "      <td>11162.000000</td>\n",
              "      <td>11162</td>\n",
              "      <td>11162</td>\n",
              "      <td>11162</td>\n",
              "      <td>11162.000000</td>\n",
              "      <td>11162</td>\n",
              "      <td>11162.000000</td>\n",
              "      <td>11162.000000</td>\n",
              "      <td>11162.000000</td>\n",
              "      <td>11162.000000</td>\n",
              "      <td>11162</td>\n",
              "      <td>11162</td>\n",
              "    </tr>\n",
              "    <tr>\n",
              "      <th>unique</th>\n",
              "      <td>NaN</td>\n",
              "      <td>12</td>\n",
              "      <td>3</td>\n",
              "      <td>4</td>\n",
              "      <td>2</td>\n",
              "      <td>NaN</td>\n",
              "      <td>2</td>\n",
              "      <td>2</td>\n",
              "      <td>3</td>\n",
              "      <td>NaN</td>\n",
              "      <td>12</td>\n",
              "      <td>NaN</td>\n",
              "      <td>NaN</td>\n",
              "      <td>NaN</td>\n",
              "      <td>NaN</td>\n",
              "      <td>4</td>\n",
              "      <td>2</td>\n",
              "    </tr>\n",
              "    <tr>\n",
              "      <th>top</th>\n",
              "      <td>NaN</td>\n",
              "      <td>management</td>\n",
              "      <td>married</td>\n",
              "      <td>secondary</td>\n",
              "      <td>no</td>\n",
              "      <td>NaN</td>\n",
              "      <td>no</td>\n",
              "      <td>no</td>\n",
              "      <td>cellular</td>\n",
              "      <td>NaN</td>\n",
              "      <td>may</td>\n",
              "      <td>NaN</td>\n",
              "      <td>NaN</td>\n",
              "      <td>NaN</td>\n",
              "      <td>NaN</td>\n",
              "      <td>unknown</td>\n",
              "      <td>no</td>\n",
              "    </tr>\n",
              "    <tr>\n",
              "      <th>freq</th>\n",
              "      <td>NaN</td>\n",
              "      <td>2566</td>\n",
              "      <td>6351</td>\n",
              "      <td>5476</td>\n",
              "      <td>10994</td>\n",
              "      <td>NaN</td>\n",
              "      <td>5881</td>\n",
              "      <td>9702</td>\n",
              "      <td>8042</td>\n",
              "      <td>NaN</td>\n",
              "      <td>2824</td>\n",
              "      <td>NaN</td>\n",
              "      <td>NaN</td>\n",
              "      <td>NaN</td>\n",
              "      <td>NaN</td>\n",
              "      <td>8326</td>\n",
              "      <td>5873</td>\n",
              "    </tr>\n",
              "    <tr>\n",
              "      <th>mean</th>\n",
              "      <td>41.231948</td>\n",
              "      <td>NaN</td>\n",
              "      <td>NaN</td>\n",
              "      <td>NaN</td>\n",
              "      <td>NaN</td>\n",
              "      <td>1528.538524</td>\n",
              "      <td>NaN</td>\n",
              "      <td>NaN</td>\n",
              "      <td>NaN</td>\n",
              "      <td>15.658036</td>\n",
              "      <td>NaN</td>\n",
              "      <td>371.993818</td>\n",
              "      <td>2.508421</td>\n",
              "      <td>51.330407</td>\n",
              "      <td>0.832557</td>\n",
              "      <td>NaN</td>\n",
              "      <td>NaN</td>\n",
              "    </tr>\n",
              "    <tr>\n",
              "      <th>std</th>\n",
              "      <td>11.913369</td>\n",
              "      <td>NaN</td>\n",
              "      <td>NaN</td>\n",
              "      <td>NaN</td>\n",
              "      <td>NaN</td>\n",
              "      <td>3225.413326</td>\n",
              "      <td>NaN</td>\n",
              "      <td>NaN</td>\n",
              "      <td>NaN</td>\n",
              "      <td>8.420740</td>\n",
              "      <td>NaN</td>\n",
              "      <td>347.128386</td>\n",
              "      <td>2.722077</td>\n",
              "      <td>108.758282</td>\n",
              "      <td>2.292007</td>\n",
              "      <td>NaN</td>\n",
              "      <td>NaN</td>\n",
              "    </tr>\n",
              "    <tr>\n",
              "      <th>min</th>\n",
              "      <td>18.000000</td>\n",
              "      <td>NaN</td>\n",
              "      <td>NaN</td>\n",
              "      <td>NaN</td>\n",
              "      <td>NaN</td>\n",
              "      <td>-6847.000000</td>\n",
              "      <td>NaN</td>\n",
              "      <td>NaN</td>\n",
              "      <td>NaN</td>\n",
              "      <td>1.000000</td>\n",
              "      <td>NaN</td>\n",
              "      <td>2.000000</td>\n",
              "      <td>1.000000</td>\n",
              "      <td>-1.000000</td>\n",
              "      <td>0.000000</td>\n",
              "      <td>NaN</td>\n",
              "      <td>NaN</td>\n",
              "    </tr>\n",
              "    <tr>\n",
              "      <th>25%</th>\n",
              "      <td>32.000000</td>\n",
              "      <td>NaN</td>\n",
              "      <td>NaN</td>\n",
              "      <td>NaN</td>\n",
              "      <td>NaN</td>\n",
              "      <td>122.000000</td>\n",
              "      <td>NaN</td>\n",
              "      <td>NaN</td>\n",
              "      <td>NaN</td>\n",
              "      <td>8.000000</td>\n",
              "      <td>NaN</td>\n",
              "      <td>138.000000</td>\n",
              "      <td>1.000000</td>\n",
              "      <td>-1.000000</td>\n",
              "      <td>0.000000</td>\n",
              "      <td>NaN</td>\n",
              "      <td>NaN</td>\n",
              "    </tr>\n",
              "    <tr>\n",
              "      <th>50%</th>\n",
              "      <td>39.000000</td>\n",
              "      <td>NaN</td>\n",
              "      <td>NaN</td>\n",
              "      <td>NaN</td>\n",
              "      <td>NaN</td>\n",
              "      <td>550.000000</td>\n",
              "      <td>NaN</td>\n",
              "      <td>NaN</td>\n",
              "      <td>NaN</td>\n",
              "      <td>15.000000</td>\n",
              "      <td>NaN</td>\n",
              "      <td>255.000000</td>\n",
              "      <td>2.000000</td>\n",
              "      <td>-1.000000</td>\n",
              "      <td>0.000000</td>\n",
              "      <td>NaN</td>\n",
              "      <td>NaN</td>\n",
              "    </tr>\n",
              "    <tr>\n",
              "      <th>75%</th>\n",
              "      <td>49.000000</td>\n",
              "      <td>NaN</td>\n",
              "      <td>NaN</td>\n",
              "      <td>NaN</td>\n",
              "      <td>NaN</td>\n",
              "      <td>1708.000000</td>\n",
              "      <td>NaN</td>\n",
              "      <td>NaN</td>\n",
              "      <td>NaN</td>\n",
              "      <td>22.000000</td>\n",
              "      <td>NaN</td>\n",
              "      <td>496.000000</td>\n",
              "      <td>3.000000</td>\n",
              "      <td>20.750000</td>\n",
              "      <td>1.000000</td>\n",
              "      <td>NaN</td>\n",
              "      <td>NaN</td>\n",
              "    </tr>\n",
              "    <tr>\n",
              "      <th>max</th>\n",
              "      <td>95.000000</td>\n",
              "      <td>NaN</td>\n",
              "      <td>NaN</td>\n",
              "      <td>NaN</td>\n",
              "      <td>NaN</td>\n",
              "      <td>81204.000000</td>\n",
              "      <td>NaN</td>\n",
              "      <td>NaN</td>\n",
              "      <td>NaN</td>\n",
              "      <td>31.000000</td>\n",
              "      <td>NaN</td>\n",
              "      <td>3881.000000</td>\n",
              "      <td>63.000000</td>\n",
              "      <td>854.000000</td>\n",
              "      <td>58.000000</td>\n",
              "      <td>NaN</td>\n",
              "      <td>NaN</td>\n",
              "    </tr>\n",
              "  </tbody>\n",
              "</table>\n",
              "</div>"
            ],
            "text/plain": [
              "                 age         job  marital  ...      previous poutcome  deposit\n",
              "count   11162.000000       11162    11162  ...  11162.000000    11162    11162\n",
              "unique           NaN          12        3  ...           NaN        4        2\n",
              "top              NaN  management  married  ...           NaN  unknown       no\n",
              "freq             NaN        2566     6351  ...           NaN     8326     5873\n",
              "mean       41.231948         NaN      NaN  ...      0.832557      NaN      NaN\n",
              "std        11.913369         NaN      NaN  ...      2.292007      NaN      NaN\n",
              "min        18.000000         NaN      NaN  ...      0.000000      NaN      NaN\n",
              "25%        32.000000         NaN      NaN  ...      0.000000      NaN      NaN\n",
              "50%        39.000000         NaN      NaN  ...      0.000000      NaN      NaN\n",
              "75%        49.000000         NaN      NaN  ...      1.000000      NaN      NaN\n",
              "max        95.000000         NaN      NaN  ...     58.000000      NaN      NaN\n",
              "\n",
              "[11 rows x 17 columns]"
            ]
          },
          "metadata": {
            "tags": []
          },
          "execution_count": 4
        }
      ]
    },
    {
      "cell_type": "code",
      "metadata": {
        "id": "mumKCdyckMaq",
        "colab_type": "code",
        "colab": {
          "base_uri": "https://localhost:8080/",
          "height": 348
        },
        "outputId": "e9c72933-cd02-4b67-d8e8-e0bd665db8f8"
      },
      "source": [
        "data.isnull().sum()"
      ],
      "execution_count": null,
      "outputs": [
        {
          "output_type": "execute_result",
          "data": {
            "text/plain": [
              "age          0\n",
              "job          0\n",
              "marital      0\n",
              "education    0\n",
              "default      0\n",
              "balance      0\n",
              "housing      0\n",
              "loan         0\n",
              "contact      0\n",
              "day          0\n",
              "month        0\n",
              "duration     0\n",
              "campaign     0\n",
              "pdays        0\n",
              "previous     0\n",
              "poutcome     0\n",
              "deposit      0\n",
              "dtype: int64"
            ]
          },
          "metadata": {
            "tags": []
          },
          "execution_count": 5
        }
      ]
    },
    {
      "cell_type": "markdown",
      "metadata": {
        "id": "M9E3Zf1nUtkN",
        "colab_type": "text"
      },
      "source": [
        "# Data Preprocessing"
      ]
    },
    {
      "cell_type": "code",
      "metadata": {
        "id": "GUHRg_NlkMVT",
        "colab_type": "code",
        "colab": {
          "base_uri": "https://localhost:8080/",
          "height": 35
        },
        "outputId": "150970af-d43d-459b-c490-13f4a9440e59"
      },
      "source": [
        "numerical=\"age\tbalance\tday\tduration\tcampaign\tpdays\tprevious\".split()\n",
        "numerical"
      ],
      "execution_count": null,
      "outputs": [
        {
          "output_type": "execute_result",
          "data": {
            "text/plain": [
              "['age', 'balance', 'day', 'duration', 'campaign', 'pdays', 'previous']"
            ]
          },
          "metadata": {
            "tags": []
          },
          "execution_count": 6
        }
      ]
    },
    {
      "cell_type": "code",
      "metadata": {
        "id": "Ng_Vxw0AkMO8",
        "colab_type": "code",
        "colab": {
          "base_uri": "https://localhost:8080/",
          "height": 182
        },
        "outputId": "5839a7ae-bc5e-4bcd-add0-8744f1a5846b"
      },
      "source": [
        "categorical=[col for col in data.columns.to_list() if col not in numerical ]\n",
        "categorical.remove('deposit')\n",
        "categorical"
      ],
      "execution_count": null,
      "outputs": [
        {
          "output_type": "execute_result",
          "data": {
            "text/plain": [
              "['job',\n",
              " 'marital',\n",
              " 'education',\n",
              " 'default',\n",
              " 'housing',\n",
              " 'loan',\n",
              " 'contact',\n",
              " 'month',\n",
              " 'poutcome']"
            ]
          },
          "metadata": {
            "tags": []
          },
          "execution_count": 7
        }
      ]
    },
    {
      "cell_type": "code",
      "metadata": {
        "id": "_aqLZFKvbbCD",
        "colab_type": "code",
        "colab": {
          "base_uri": "https://localhost:8080/",
          "height": 72
        },
        "outputId": "95111d72-2a57-4bf6-f7fc-649cacecb5bd"
      },
      "source": [
        "X_train, X_test, y_train,y_test = train_test_split(data[numerical+categorical], data['deposit'], test_size = 0.2,random_state=100)\n",
        "X_train, X_valid, y_train,y_valid = train_test_split(X_train, y_train, test_size = 0.2,random_state=100)\n",
        "print(X_train.shape)\n",
        "print(X_valid.shape)\n",
        "print(X_test.shape)"
      ],
      "execution_count": null,
      "outputs": [
        {
          "output_type": "stream",
          "text": [
            "(7143, 16)\n",
            "(1786, 16)\n",
            "(2233, 16)\n"
          ],
          "name": "stdout"
        }
      ]
    },
    {
      "cell_type": "code",
      "metadata": {
        "id": "SlC3UnsPkMIt",
        "colab_type": "code",
        "colab": {}
      },
      "source": [
        "#1- normalize numerical data\n",
        "scaler=StandardScaler()\n",
        "scaler.fit(X_train[numerical])\n",
        "X_train_num=scaler.transform(X_train[numerical])\n",
        "X_valid_num=scaler.transform(X_valid[numerical])\n",
        "X_test_num=scaler.transform(X_test[numerical])"
      ],
      "execution_count": null,
      "outputs": []
    },
    {
      "cell_type": "code",
      "metadata": {
        "id": "fN3cKOpSkL-e",
        "colab_type": "code",
        "colab": {}
      },
      "source": [
        "#2- encode categorical data\n",
        "onehotx=OneHotEncoder(drop='first',sparse=False)\n",
        "onehotx.fit(X_train[categorical])\n",
        "X_train_cat=onehotx.transform(X_train[categorical])\n",
        "X_valid_cat=onehotx.transform(X_valid[categorical])\n",
        "X_test_cat=onehotx.transform(X_test[categorical])\n",
        "\n",
        "\n",
        "y_train=np.where(y_train=='yes',1,0)\n",
        "y_valid=np.where(y_valid=='yes',1,0)\n",
        "y_test=np.where(y_test=='yes',1,0)"
      ],
      "execution_count": null,
      "outputs": []
    },
    {
      "cell_type": "code",
      "metadata": {
        "id": "IXv89QgFLyYK",
        "colab_type": "code",
        "colab": {}
      },
      "source": [
        "# concatenate data\n",
        "\n",
        "X_train=np.concatenate((X_train_num,X_train_cat),axis=1)\n",
        "\n",
        "X_valid=np.concatenate((X_valid_num,X_valid_cat),axis=1)\n",
        "X_test=np.concatenate((X_test_num,X_test_cat),axis=1)"
      ],
      "execution_count": null,
      "outputs": []
    },
    {
      "cell_type": "markdown",
      "metadata": {
        "id": "S9GGN4GXU-Qf",
        "colab_type": "text"
      },
      "source": [
        "# Model construction\n",
        "## Logistic Regression"
      ]
    },
    {
      "cell_type": "code",
      "metadata": {
        "id": "PFBLtkCkVQbv",
        "colab_type": "code",
        "colab": {
          "base_uri": "https://localhost:8080/",
          "height": 72
        },
        "outputId": "6c18a6ea-ca55-4c23-9948-237faa0e1f94"
      },
      "source": [
        "logreg = LogisticRegression(random_state=100).fit(X_train, y_train)\n",
        "\n",
        "print(\"Train Accuracy={:.2f}\".format(logreg.score(X_train,y_train)))\n",
        "print(\"Validation Accuracy={:.2f}\".format(logreg.score(X_valid,y_valid)))\n",
        "print(\"Test Accuracy={:.2f}\".format(logreg.score(X_test,y_test)))"
      ],
      "execution_count": null,
      "outputs": [
        {
          "output_type": "stream",
          "text": [
            "Train Accuracy=0.82\n",
            "Validation Accuracy=0.83\n",
            "Test Accuracy=0.83\n"
          ],
          "name": "stdout"
        }
      ]
    },
    {
      "cell_type": "markdown",
      "metadata": {
        "id": "6HQ-sX56nPEZ",
        "colab_type": "text"
      },
      "source": [
        "## ANN Model"
      ]
    },
    {
      "cell_type": "code",
      "metadata": {
        "id": "afPxaNBkmr_1",
        "colab_type": "code",
        "colab": {}
      },
      "source": [
        "# creating a model\n",
        "model= Sequential([\n",
        "   Dense(256, input_dim = 42, activation='relu',kernel_initializer=tf.random_uniform_initializer(minval=-0.1, maxval=0.1), bias_initializer=tf.random_uniform_initializer(minval=-0.1, maxval=0.1)),  \n",
        "   Dense(256, activation='relu'), \n",
        "   Dense(256, activation='relu'), \n",
        "   Dense(256, activation='relu'),\n",
        "   Dense(1, activation='sigmoid') ])"
      ],
      "execution_count": null,
      "outputs": []
    },
    {
      "cell_type": "code",
      "metadata": {
        "id": "WLEpAufCmrmb",
        "colab_type": "code",
        "colab": {}
      },
      "source": [
        "model.compile(loss='categorical_crossentropy', optimizer='adam', metrics=[\"accuracy\"])"
      ],
      "execution_count": null,
      "outputs": []
    },
    {
      "cell_type": "code",
      "metadata": {
        "id": "fdHv7h8zmraL",
        "colab_type": "code",
        "colab": {
          "base_uri": "https://localhost:8080/",
          "height": 1000
        },
        "outputId": "ecab1344-9299-41ce-af57-85b593181161"
      },
      "source": [
        "history = model.fit(X_train, y_train, validation_data=(X_valid, y_valid), epochs= 50)"
      ],
      "execution_count": null,
      "outputs": [
        {
          "output_type": "stream",
          "text": [
            "Epoch 1/50\n",
            "224/224 [==============================] - 1s 5ms/step - loss: 5.6492e-08 - accuracy: 0.4721 - val_loss: 5.6534e-08 - val_accuracy: 0.4782\n",
            "Epoch 2/50\n",
            "224/224 [==============================] - 1s 4ms/step - loss: 5.6492e-08 - accuracy: 0.4721 - val_loss: 5.6534e-08 - val_accuracy: 0.4782\n",
            "Epoch 3/50\n",
            "224/224 [==============================] - 1s 4ms/step - loss: 5.6492e-08 - accuracy: 0.4721 - val_loss: 5.6534e-08 - val_accuracy: 0.4782\n",
            "Epoch 4/50\n",
            "224/224 [==============================] - 1s 4ms/step - loss: 5.6492e-08 - accuracy: 0.4721 - val_loss: 5.6534e-08 - val_accuracy: 0.4782\n",
            "Epoch 5/50\n",
            "224/224 [==============================] - 1s 4ms/step - loss: 5.6492e-08 - accuracy: 0.4721 - val_loss: 5.6534e-08 - val_accuracy: 0.4782\n",
            "Epoch 6/50\n",
            "224/224 [==============================] - 1s 4ms/step - loss: 5.6492e-08 - accuracy: 0.4721 - val_loss: 5.6534e-08 - val_accuracy: 0.4782\n",
            "Epoch 7/50\n",
            "224/224 [==============================] - 1s 4ms/step - loss: 5.6492e-08 - accuracy: 0.4721 - val_loss: 5.6534e-08 - val_accuracy: 0.4782\n",
            "Epoch 8/50\n",
            "224/224 [==============================] - 1s 4ms/step - loss: 5.6492e-08 - accuracy: 0.4721 - val_loss: 5.6534e-08 - val_accuracy: 0.4782\n",
            "Epoch 9/50\n",
            "224/224 [==============================] - 1s 4ms/step - loss: 5.6492e-08 - accuracy: 0.4721 - val_loss: 5.6534e-08 - val_accuracy: 0.4782\n",
            "Epoch 10/50\n",
            "224/224 [==============================] - 1s 4ms/step - loss: 5.6492e-08 - accuracy: 0.4721 - val_loss: 5.6534e-08 - val_accuracy: 0.4782\n",
            "Epoch 11/50\n",
            "224/224 [==============================] - 1s 4ms/step - loss: 5.6492e-08 - accuracy: 0.4721 - val_loss: 5.6534e-08 - val_accuracy: 0.4782\n",
            "Epoch 12/50\n",
            "224/224 [==============================] - 1s 4ms/step - loss: 5.6492e-08 - accuracy: 0.4721 - val_loss: 5.6534e-08 - val_accuracy: 0.4782\n",
            "Epoch 13/50\n",
            "224/224 [==============================] - 1s 4ms/step - loss: 5.6492e-08 - accuracy: 0.4721 - val_loss: 5.6534e-08 - val_accuracy: 0.4782\n",
            "Epoch 14/50\n",
            "224/224 [==============================] - 1s 4ms/step - loss: 5.6492e-08 - accuracy: 0.4721 - val_loss: 5.6534e-08 - val_accuracy: 0.4782\n",
            "Epoch 15/50\n",
            "224/224 [==============================] - 1s 4ms/step - loss: 5.6492e-08 - accuracy: 0.4721 - val_loss: 5.6534e-08 - val_accuracy: 0.4782\n",
            "Epoch 16/50\n",
            "224/224 [==============================] - 1s 4ms/step - loss: 5.6492e-08 - accuracy: 0.4721 - val_loss: 5.6534e-08 - val_accuracy: 0.4782\n",
            "Epoch 17/50\n",
            "224/224 [==============================] - 1s 4ms/step - loss: 5.6492e-08 - accuracy: 0.4721 - val_loss: 5.6534e-08 - val_accuracy: 0.4782\n",
            "Epoch 18/50\n",
            "224/224 [==============================] - 1s 4ms/step - loss: 5.6492e-08 - accuracy: 0.4721 - val_loss: 5.6534e-08 - val_accuracy: 0.4782\n",
            "Epoch 19/50\n",
            "224/224 [==============================] - 1s 4ms/step - loss: 5.6492e-08 - accuracy: 0.4721 - val_loss: 5.6534e-08 - val_accuracy: 0.4782\n",
            "Epoch 20/50\n",
            "224/224 [==============================] - 1s 4ms/step - loss: 5.6492e-08 - accuracy: 0.4721 - val_loss: 5.6534e-08 - val_accuracy: 0.4782\n",
            "Epoch 21/50\n",
            "224/224 [==============================] - 1s 4ms/step - loss: 5.6492e-08 - accuracy: 0.4721 - val_loss: 5.6534e-08 - val_accuracy: 0.4782\n",
            "Epoch 22/50\n",
            "224/224 [==============================] - 1s 4ms/step - loss: 5.6492e-08 - accuracy: 0.4721 - val_loss: 5.6534e-08 - val_accuracy: 0.4782\n",
            "Epoch 23/50\n",
            "224/224 [==============================] - 1s 4ms/step - loss: 5.6492e-08 - accuracy: 0.4721 - val_loss: 5.6534e-08 - val_accuracy: 0.4782\n",
            "Epoch 24/50\n",
            "224/224 [==============================] - 1s 4ms/step - loss: 5.6492e-08 - accuracy: 0.4721 - val_loss: 5.6534e-08 - val_accuracy: 0.4782\n",
            "Epoch 25/50\n",
            "224/224 [==============================] - 1s 4ms/step - loss: 5.6492e-08 - accuracy: 0.4721 - val_loss: 5.6534e-08 - val_accuracy: 0.4782\n",
            "Epoch 26/50\n",
            "224/224 [==============================] - 1s 4ms/step - loss: 5.6492e-08 - accuracy: 0.4721 - val_loss: 5.6534e-08 - val_accuracy: 0.4782\n",
            "Epoch 27/50\n",
            "224/224 [==============================] - 1s 4ms/step - loss: 5.6492e-08 - accuracy: 0.4721 - val_loss: 5.6534e-08 - val_accuracy: 0.4782\n",
            "Epoch 28/50\n",
            "224/224 [==============================] - 1s 4ms/step - loss: 5.6492e-08 - accuracy: 0.4721 - val_loss: 5.6534e-08 - val_accuracy: 0.4782\n",
            "Epoch 29/50\n",
            "224/224 [==============================] - 1s 4ms/step - loss: 5.6492e-08 - accuracy: 0.4721 - val_loss: 5.6534e-08 - val_accuracy: 0.4782\n",
            "Epoch 30/50\n",
            "224/224 [==============================] - 1s 4ms/step - loss: 5.6492e-08 - accuracy: 0.4721 - val_loss: 5.6534e-08 - val_accuracy: 0.4782\n",
            "Epoch 31/50\n",
            "224/224 [==============================] - 1s 4ms/step - loss: 5.6492e-08 - accuracy: 0.4721 - val_loss: 5.6534e-08 - val_accuracy: 0.4782\n",
            "Epoch 32/50\n",
            "224/224 [==============================] - 1s 4ms/step - loss: 5.6492e-08 - accuracy: 0.4721 - val_loss: 5.6534e-08 - val_accuracy: 0.4782\n",
            "Epoch 33/50\n",
            "224/224 [==============================] - 1s 4ms/step - loss: 5.6492e-08 - accuracy: 0.4721 - val_loss: 5.6534e-08 - val_accuracy: 0.4782\n",
            "Epoch 34/50\n",
            "224/224 [==============================] - 1s 4ms/step - loss: 5.6492e-08 - accuracy: 0.4721 - val_loss: 5.6534e-08 - val_accuracy: 0.4782\n",
            "Epoch 35/50\n",
            "224/224 [==============================] - 1s 4ms/step - loss: 5.6492e-08 - accuracy: 0.4721 - val_loss: 5.6534e-08 - val_accuracy: 0.4782\n",
            "Epoch 36/50\n",
            "224/224 [==============================] - 1s 4ms/step - loss: 5.6492e-08 - accuracy: 0.4721 - val_loss: 5.6534e-08 - val_accuracy: 0.4782\n",
            "Epoch 37/50\n",
            "224/224 [==============================] - 1s 4ms/step - loss: 5.6492e-08 - accuracy: 0.4721 - val_loss: 5.6534e-08 - val_accuracy: 0.4782\n",
            "Epoch 38/50\n",
            "224/224 [==============================] - 1s 4ms/step - loss: 5.6492e-08 - accuracy: 0.4721 - val_loss: 5.6534e-08 - val_accuracy: 0.4782\n",
            "Epoch 39/50\n",
            "224/224 [==============================] - 1s 4ms/step - loss: 5.6492e-08 - accuracy: 0.4721 - val_loss: 5.6534e-08 - val_accuracy: 0.4782\n",
            "Epoch 40/50\n",
            "224/224 [==============================] - 1s 4ms/step - loss: 5.6492e-08 - accuracy: 0.4721 - val_loss: 5.6534e-08 - val_accuracy: 0.4782\n",
            "Epoch 41/50\n",
            "224/224 [==============================] - 1s 4ms/step - loss: 5.6492e-08 - accuracy: 0.4721 - val_loss: 5.6534e-08 - val_accuracy: 0.4782\n",
            "Epoch 42/50\n",
            "224/224 [==============================] - 1s 4ms/step - loss: 5.6492e-08 - accuracy: 0.4721 - val_loss: 5.6534e-08 - val_accuracy: 0.4782\n",
            "Epoch 43/50\n",
            "224/224 [==============================] - 1s 4ms/step - loss: 5.6492e-08 - accuracy: 0.4721 - val_loss: 5.6534e-08 - val_accuracy: 0.4782\n",
            "Epoch 44/50\n",
            "224/224 [==============================] - 1s 4ms/step - loss: 5.6492e-08 - accuracy: 0.4721 - val_loss: 5.6534e-08 - val_accuracy: 0.4782\n",
            "Epoch 45/50\n",
            "224/224 [==============================] - 1s 4ms/step - loss: 5.6492e-08 - accuracy: 0.4721 - val_loss: 5.6534e-08 - val_accuracy: 0.4782\n",
            "Epoch 46/50\n",
            "224/224 [==============================] - 1s 4ms/step - loss: 5.6492e-08 - accuracy: 0.4721 - val_loss: 5.6534e-08 - val_accuracy: 0.4782\n",
            "Epoch 47/50\n",
            "224/224 [==============================] - 1s 4ms/step - loss: 5.6492e-08 - accuracy: 0.4721 - val_loss: 5.6534e-08 - val_accuracy: 0.4782\n",
            "Epoch 48/50\n",
            "224/224 [==============================] - 1s 4ms/step - loss: 5.6492e-08 - accuracy: 0.4721 - val_loss: 5.6534e-08 - val_accuracy: 0.4782\n",
            "Epoch 49/50\n",
            "224/224 [==============================] - 1s 4ms/step - loss: 5.6492e-08 - accuracy: 0.4721 - val_loss: 5.6534e-08 - val_accuracy: 0.4782\n",
            "Epoch 50/50\n",
            "224/224 [==============================] - 1s 4ms/step - loss: 5.6492e-08 - accuracy: 0.4721 - val_loss: 5.6534e-08 - val_accuracy: 0.4782\n"
          ],
          "name": "stdout"
        }
      ]
    },
    {
      "cell_type": "code",
      "metadata": {
        "id": "Ieu4lm0EvAqZ",
        "colab_type": "code",
        "colab": {
          "base_uri": "https://localhost:8080/",
          "height": 348
        },
        "outputId": "b76673db-b9cd-4c1e-c2f8-2cc185da7def"
      },
      "source": [
        "model.summary()"
      ],
      "execution_count": null,
      "outputs": [
        {
          "output_type": "stream",
          "text": [
            "Model: \"sequential\"\n",
            "_________________________________________________________________\n",
            "Layer (type)                 Output Shape              Param #   \n",
            "=================================================================\n",
            "dense (Dense)                (None, 256)               11008     \n",
            "_________________________________________________________________\n",
            "dense_1 (Dense)              (None, 256)               65792     \n",
            "_________________________________________________________________\n",
            "dense_2 (Dense)              (None, 256)               65792     \n",
            "_________________________________________________________________\n",
            "dense_3 (Dense)              (None, 256)               65792     \n",
            "_________________________________________________________________\n",
            "dense_4 (Dense)              (None, 1)                 257       \n",
            "=================================================================\n",
            "Total params: 208,641\n",
            "Trainable params: 208,641\n",
            "Non-trainable params: 0\n",
            "_________________________________________________________________\n"
          ],
          "name": "stdout"
        }
      ]
    },
    {
      "cell_type": "code",
      "metadata": {
        "id": "I9DjVIPLvDw8",
        "colab_type": "code",
        "colab": {
          "base_uri": "https://localhost:8080/",
          "height": 301
        },
        "outputId": "658304e9-a61f-4dd4-df3b-5d419bfd55f6"
      },
      "source": [
        "plt.plot(history.history['accuracy'])\n",
        "plt.plot(history.history['val_accuracy'])\n",
        "plt.title('model accuracy')\n",
        "plt.ylabel('accuracy')\n",
        "plt.xlabel('epoch')\n",
        "plt.legend(['train', 'test'], loc='upper left')\n",
        "plt.show()"
      ],
      "execution_count": null,
      "outputs": [
        {
          "output_type": "display_data",
          "data": {
            "image/png": "[encoded data removed]",
            "text/plain": [
              "<Figure size 432x288 with 1 Axes>"
            ]
          },
          "metadata": {
            "tags": [],
            "needs_background": "light"
          }
        }
      ]
    },
    {
      "cell_type": "code",
      "metadata": {
        "id": "wfC9Qvl9vFtJ",
        "colab_type": "code",
        "colab": {
          "base_uri": "https://localhost:8080/",
          "height": 301
        },
        "outputId": "f9a4789c-8be3-4f0e-fb68-cbc920f947c7"
      },
      "source": [
        "plt.plot(history.history['loss'])\n",
        "plt.plot(history.history['val_loss'])\n",
        "plt.title('model loss')\n",
        "plt.ylabel('loss')\n",
        "plt.xlabel('epoch')\n",
        "plt.legend(['train', 'test'], loc='upper left')\n",
        "plt.show()"
      ],
      "execution_count": null,
      "outputs": [
        {
          "output_type": "display_data",
          "data": {
            "image/png": "[encoded data removed]",
            "text/plain": [
              "<Figure size 432x288 with 1 Axes>"
            ]
          },
          "metadata": {
            "tags": [],
            "needs_background": "light"
          }
        }
      ]
    },
    {
      "cell_type": "code",
      "metadata": {
        "id": "K5VozF2tvIrl",
        "colab_type": "code",
        "colab": {
          "base_uri": "https://localhost:8080/",
          "height": 54
        },
        "outputId": "1c02996b-f705-4598-d36a-c8a1023b36c2"
      },
      "source": [
        "model.evaluate(\n",
        "  X_test,\n",
        "  y_test)"
      ],
      "execution_count": null,
      "outputs": [
        {
          "output_type": "stream",
          "text": [
            "70/70 [==============================] - 0s 1ms/step - loss: 5.6428e-08 - accuracy: 0.4671\n"
          ],
          "name": "stdout"
        },
        {
          "output_type": "execute_result",
          "data": {
            "text/plain": [
              "[5.642822031859396e-08, 0.4670846462249756]"
            ]
          },
          "metadata": {
            "tags": []
          },
          "execution_count": 19
        }
      ]
    }
  ]
}