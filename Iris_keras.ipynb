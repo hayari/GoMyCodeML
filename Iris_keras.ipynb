{
  "nbformat": 4,
  "nbformat_minor": 0,
  "metadata": {
    "colab": {
      "name": "Iris_keras.ipynb",
      "provenance": [],
      "collapsed_sections": [],
      "authorship_tag": "ABX9TyOtomqNRr3IWeaM/s08pTAO",
      "include_colab_link": true
    },
    "kernelspec": {
      "name": "python3",
      "display_name": "Python 3"
    },
    "accelerator": "GPU"
  },
  "cells": [
    {
      "cell_type": "markdown",
      "metadata": {
        "id": "view-in-github",
        "colab_type": "text"
      },
      "source": [
        "<a href=\"https://colab.research.google.com/github/hayari/GoMyCodeML/blob/master/Iris_keras.ipynb\" target=\"_parent\"><img src=\"https://colab.research.google.com/assets/colab-badge.svg\" alt=\"Open In Colab\"/></a>"
      ]
    },
    {
      "cell_type": "code",
      "metadata": {
        "id": "asxPhVU-7Wug",
        "colab_type": "code",
        "colab": {
          "base_uri": "https://localhost:8080/",
          "height": 34
        },
        "outputId": "7706f3cb-a3d4-45fe-b506-54a3aa508896"
      },
      "source": [
        "import pandas as pd\n",
        "from sklearn import datasets\n",
        "from sklearn.model_selection import train_test_split\n",
        "from keras.models import Sequential\n",
        "from keras.layers import Dense\n",
        "import matplotlib.pyplot as plt\n",
        "from sklearn.preprocessing import LabelEncoder\n",
        "from keras.utils.np_utils import to_categorical"
      ],
      "execution_count": 1,
      "outputs": [
        {
          "output_type": "stream",
          "text": [
            "Using TensorFlow backend.\n"
          ],
          "name": "stderr"
        }
      ]
    },
    {
      "cell_type": "code",
      "metadata": {
        "id": "g7zupCNg7bsB",
        "colab_type": "code",
        "colab": {}
      },
      "source": [
        "# load dataset\n",
        "iris = datasets.load_iris()\n",
        "# features\n",
        "X = iris.data[:, :]  \n",
        "# target\n",
        "y = iris.target"
      ],
      "execution_count": 0,
      "outputs": []
    },
    {
      "cell_type": "code",
      "metadata": {
        "id": "Uds9L3JH7zPB",
        "colab_type": "code",
        "colab": {
          "base_uri": "https://localhost:8080/",
          "height": 139
        },
        "outputId": "ba88706b-deb4-4f3d-c7ac-dcfed120354a"
      },
      "source": [
        "y"
      ],
      "execution_count": 5,
      "outputs": [
        {
          "output_type": "execute_result",
          "data": {
            "text/plain": [
              "array([0, 0, 0, 0, 0, 0, 0, 0, 0, 0, 0, 0, 0, 0, 0, 0, 0, 0, 0, 0, 0, 0,\n",
              "       0, 0, 0, 0, 0, 0, 0, 0, 0, 0, 0, 0, 0, 0, 0, 0, 0, 0, 0, 0, 0, 0,\n",
              "       0, 0, 0, 0, 0, 0, 1, 1, 1, 1, 1, 1, 1, 1, 1, 1, 1, 1, 1, 1, 1, 1,\n",
              "       1, 1, 1, 1, 1, 1, 1, 1, 1, 1, 1, 1, 1, 1, 1, 1, 1, 1, 1, 1, 1, 1,\n",
              "       1, 1, 1, 1, 1, 1, 1, 1, 1, 1, 1, 1, 2, 2, 2, 2, 2, 2, 2, 2, 2, 2,\n",
              "       2, 2, 2, 2, 2, 2, 2, 2, 2, 2, 2, 2, 2, 2, 2, 2, 2, 2, 2, 2, 2, 2,\n",
              "       2, 2, 2, 2, 2, 2, 2, 2, 2, 2, 2, 2, 2, 2, 2, 2, 2, 2])"
            ]
          },
          "metadata": {
            "tags": []
          },
          "execution_count": 5
        }
      ]
    },
    {
      "cell_type": "code",
      "metadata": {
        "id": "iNV0XnJ273Ne",
        "colab_type": "code",
        "colab": {}
      },
      "source": [
        "# encode class values as integers\n",
        "encoder = LabelEncoder()\n",
        "encoder.fit(y)\n",
        "encoded_Y = encoder.transform(y)\n",
        "# convert integers to dummy variables (i.e. one hot encoded)\n",
        "Y = to_categorical(encoded_Y)"
      ],
      "execution_count": 0,
      "outputs": []
    },
    {
      "cell_type": "code",
      "metadata": {
        "id": "nJ1_4m7s8AI5",
        "colab_type": "code",
        "colab": {}
      },
      "source": [
        "X_train, X_test, y_train,y_test = train_test_split(X, Y, test_size = 0.1)\n",
        "X_model, X_valid, y_model, y_valid = train_test_split(X_train, y_train, test_size = 0.2)"
      ],
      "execution_count": 0,
      "outputs": []
    },
    {
      "cell_type": "code",
      "metadata": {
        "id": "ZQRCOpqq8G5k",
        "colab_type": "code",
        "colab": {}
      },
      "source": [
        "model= Sequential([\n",
        "   Dense(16, input_dim = 4, activation='relu'),    \n",
        "   Dense(3, activation='softmax') ])"
      ],
      "execution_count": 0,
      "outputs": []
    },
    {
      "cell_type": "code",
      "metadata": {
        "id": "iu4cGydB8Hzt",
        "colab_type": "code",
        "colab": {
          "base_uri": "https://localhost:8080/",
          "height": 121
        },
        "outputId": "a9d587f5-bd5a-48b0-f93b-6fed593b7be4"
      },
      "source": [
        "from keras.utils.vis_utils import plot_model\n",
        "plot_model(model, to_file='model_plot.png', show_shapes=True, show_layer_names=True,rankdir='LR')"
      ],
      "execution_count": 14,
      "outputs": [
        {
          "output_type": "execute_result",
          "data": {
            "image/png": "[encoded data removed]",
            "text/plain": [
              "<IPython.core.display.Image object>"
            ]
          },
          "metadata": {
            "tags": []
          },
          "execution_count": 14
        }
      ]
    },
    {
      "cell_type": "code",
      "metadata": {
        "id": "1X7BQG8h84N_",
        "colab_type": "code",
        "colab": {
          "base_uri": "https://localhost:8080/",
          "height": 1000
        },
        "outputId": "731cf718-6500-4707-91ea-914ca067893b"
      },
      "source": [
        "model.compile(loss='categorical_crossentropy', optimizer='adam', metrics=[\"accuracy\"]) # Configure the model for training\n",
        "history = model.fit(X_model, y_model, validation_data=(X_valid, y_valid), epochs= 150) #training"
      ],
      "execution_count": 15,
      "outputs": [
        {
          "output_type": "stream",
          "text": [
            "Train on 108 samples, validate on 27 samples\n",
            "Epoch 1/150\n",
            "108/108 [==============================] - 2s 16ms/step - loss: 2.1867 - accuracy: 0.3519 - val_loss: 1.9359 - val_accuracy: 0.2963\n",
            "Epoch 2/150\n",
            "108/108 [==============================] - 0s 150us/step - loss: 2.0108 - accuracy: 0.3519 - val_loss: 1.7773 - val_accuracy: 0.2963\n",
            "Epoch 3/150\n",
            "108/108 [==============================] - 0s 153us/step - loss: 1.8584 - accuracy: 0.3519 - val_loss: 1.6282 - val_accuracy: 0.2963\n",
            "Epoch 4/150\n",
            "108/108 [==============================] - 0s 148us/step - loss: 1.7007 - accuracy: 0.3519 - val_loss: 1.4893 - val_accuracy: 0.2963\n",
            "Epoch 5/150\n",
            "108/108 [==============================] - 0s 144us/step - loss: 1.5594 - accuracy: 0.3519 - val_loss: 1.3586 - val_accuracy: 0.2963\n",
            "Epoch 6/150\n",
            "108/108 [==============================] - 0s 152us/step - loss: 1.4181 - accuracy: 0.3519 - val_loss: 1.2390 - val_accuracy: 0.2963\n",
            "Epoch 7/150\n",
            "108/108 [==============================] - 0s 150us/step - loss: 1.2956 - accuracy: 0.3519 - val_loss: 1.1299 - val_accuracy: 0.2963\n",
            "Epoch 8/150\n",
            "108/108 [==============================] - 0s 151us/step - loss: 1.1813 - accuracy: 0.3611 - val_loss: 1.0340 - val_accuracy: 0.2963\n",
            "Epoch 9/150\n",
            "108/108 [==============================] - 0s 143us/step - loss: 1.0861 - accuracy: 0.4074 - val_loss: 0.9521 - val_accuracy: 0.3333\n",
            "Epoch 10/150\n",
            "108/108 [==============================] - 0s 145us/step - loss: 0.9984 - accuracy: 0.4907 - val_loss: 0.8849 - val_accuracy: 0.3704\n",
            "Epoch 11/150\n",
            "108/108 [==============================] - 0s 153us/step - loss: 0.9268 - accuracy: 0.5556 - val_loss: 0.8321 - val_accuracy: 0.5926\n",
            "Epoch 12/150\n",
            "108/108 [==============================] - 0s 155us/step - loss: 0.8708 - accuracy: 0.6019 - val_loss: 0.7920 - val_accuracy: 0.7037\n",
            "Epoch 13/150\n",
            "108/108 [==============================] - 0s 144us/step - loss: 0.8304 - accuracy: 0.6204 - val_loss: 0.7642 - val_accuracy: 0.7407\n",
            "Epoch 14/150\n",
            "108/108 [==============================] - 0s 160us/step - loss: 0.8048 - accuracy: 0.6111 - val_loss: 0.7456 - val_accuracy: 0.6667\n",
            "Epoch 15/150\n",
            "108/108 [==============================] - 0s 148us/step - loss: 0.7863 - accuracy: 0.5833 - val_loss: 0.7337 - val_accuracy: 0.6667\n",
            "Epoch 16/150\n",
            "108/108 [==============================] - 0s 148us/step - loss: 0.7747 - accuracy: 0.5278 - val_loss: 0.7234 - val_accuracy: 0.6296\n",
            "Epoch 17/150\n",
            "108/108 [==============================] - 0s 177us/step - loss: 0.7671 - accuracy: 0.4722 - val_loss: 0.7131 - val_accuracy: 0.5556\n",
            "Epoch 18/150\n",
            "108/108 [==============================] - 0s 179us/step - loss: 0.7539 - accuracy: 0.4537 - val_loss: 0.7016 - val_accuracy: 0.5926\n",
            "Epoch 19/150\n",
            "108/108 [==============================] - 0s 146us/step - loss: 0.7415 - accuracy: 0.4815 - val_loss: 0.6898 - val_accuracy: 0.6296\n",
            "Epoch 20/150\n",
            "108/108 [==============================] - 0s 151us/step - loss: 0.7307 - accuracy: 0.5185 - val_loss: 0.6789 - val_accuracy: 0.6667\n",
            "Epoch 21/150\n",
            "108/108 [==============================] - 0s 161us/step - loss: 0.7217 - accuracy: 0.5741 - val_loss: 0.6684 - val_accuracy: 0.6667\n",
            "Epoch 22/150\n",
            "108/108 [==============================] - 0s 167us/step - loss: 0.7114 - accuracy: 0.5833 - val_loss: 0.6581 - val_accuracy: 0.6667\n",
            "Epoch 23/150\n",
            "108/108 [==============================] - 0s 229us/step - loss: 0.7027 - accuracy: 0.5833 - val_loss: 0.6480 - val_accuracy: 0.6667\n",
            "Epoch 24/150\n",
            "108/108 [==============================] - 0s 141us/step - loss: 0.6946 - accuracy: 0.6111 - val_loss: 0.6380 - val_accuracy: 0.6667\n",
            "Epoch 25/150\n",
            "108/108 [==============================] - 0s 147us/step - loss: 0.6864 - accuracy: 0.6204 - val_loss: 0.6283 - val_accuracy: 0.6667\n",
            "Epoch 26/150\n",
            "108/108 [==============================] - 0s 144us/step - loss: 0.6788 - accuracy: 0.6204 - val_loss: 0.6189 - val_accuracy: 0.6667\n",
            "Epoch 27/150\n",
            "108/108 [==============================] - 0s 145us/step - loss: 0.6710 - accuracy: 0.6296 - val_loss: 0.6094 - val_accuracy: 0.6667\n",
            "Epoch 28/150\n",
            "108/108 [==============================] - 0s 143us/step - loss: 0.6636 - accuracy: 0.6296 - val_loss: 0.6000 - val_accuracy: 0.7037\n",
            "Epoch 29/150\n",
            "108/108 [==============================] - 0s 173us/step - loss: 0.6561 - accuracy: 0.6296 - val_loss: 0.5920 - val_accuracy: 0.6667\n",
            "Epoch 30/150\n",
            "108/108 [==============================] - 0s 151us/step - loss: 0.6498 - accuracy: 0.6389 - val_loss: 0.5838 - val_accuracy: 0.6667\n",
            "Epoch 31/150\n",
            "108/108 [==============================] - 0s 145us/step - loss: 0.6432 - accuracy: 0.6296 - val_loss: 0.5759 - val_accuracy: 0.6667\n",
            "Epoch 32/150\n",
            "108/108 [==============================] - 0s 161us/step - loss: 0.6363 - accuracy: 0.6389 - val_loss: 0.5681 - val_accuracy: 0.7037\n",
            "Epoch 33/150\n",
            "108/108 [==============================] - 0s 158us/step - loss: 0.6303 - accuracy: 0.6389 - val_loss: 0.5605 - val_accuracy: 0.7407\n",
            "Epoch 34/150\n",
            "108/108 [==============================] - 0s 140us/step - loss: 0.6242 - accuracy: 0.6481 - val_loss: 0.5535 - val_accuracy: 0.7778\n",
            "Epoch 35/150\n",
            "108/108 [==============================] - 0s 136us/step - loss: 0.6196 - accuracy: 0.6389 - val_loss: 0.5466 - val_accuracy: 0.7407\n",
            "Epoch 36/150\n",
            "108/108 [==============================] - 0s 144us/step - loss: 0.6148 - accuracy: 0.6481 - val_loss: 0.5402 - val_accuracy: 0.7778\n",
            "Epoch 37/150\n",
            "108/108 [==============================] - 0s 160us/step - loss: 0.6085 - accuracy: 0.6481 - val_loss: 0.5345 - val_accuracy: 0.7778\n",
            "Epoch 38/150\n",
            "108/108 [==============================] - 0s 147us/step - loss: 0.6032 - accuracy: 0.6574 - val_loss: 0.5288 - val_accuracy: 0.7778\n",
            "Epoch 39/150\n",
            "108/108 [==============================] - 0s 147us/step - loss: 0.5977 - accuracy: 0.6481 - val_loss: 0.5235 - val_accuracy: 0.7778\n",
            "Epoch 40/150\n",
            "108/108 [==============================] - 0s 146us/step - loss: 0.5923 - accuracy: 0.6481 - val_loss: 0.5178 - val_accuracy: 0.7778\n",
            "Epoch 41/150\n",
            "108/108 [==============================] - 0s 151us/step - loss: 0.5874 - accuracy: 0.6481 - val_loss: 0.5128 - val_accuracy: 0.7778\n",
            "Epoch 42/150\n",
            "108/108 [==============================] - 0s 154us/step - loss: 0.5825 - accuracy: 0.6481 - val_loss: 0.5079 - val_accuracy: 0.7407\n",
            "Epoch 43/150\n",
            "108/108 [==============================] - 0s 160us/step - loss: 0.5779 - accuracy: 0.6574 - val_loss: 0.5032 - val_accuracy: 0.7407\n",
            "Epoch 44/150\n",
            "108/108 [==============================] - 0s 147us/step - loss: 0.5730 - accuracy: 0.6481 - val_loss: 0.4987 - val_accuracy: 0.7407\n",
            "Epoch 45/150\n",
            "108/108 [==============================] - 0s 154us/step - loss: 0.5687 - accuracy: 0.6574 - val_loss: 0.4938 - val_accuracy: 0.7407\n",
            "Epoch 46/150\n",
            "108/108 [==============================] - 0s 145us/step - loss: 0.5643 - accuracy: 0.6667 - val_loss: 0.4888 - val_accuracy: 0.7778\n",
            "Epoch 47/150\n",
            "108/108 [==============================] - 0s 178us/step - loss: 0.5599 - accuracy: 0.6667 - val_loss: 0.4846 - val_accuracy: 0.7778\n",
            "Epoch 48/150\n",
            "108/108 [==============================] - 0s 233us/step - loss: 0.5559 - accuracy: 0.6759 - val_loss: 0.4808 - val_accuracy: 0.7778\n",
            "Epoch 49/150\n",
            "108/108 [==============================] - 0s 168us/step - loss: 0.5515 - accuracy: 0.6852 - val_loss: 0.4765 - val_accuracy: 0.7778\n",
            "Epoch 50/150\n",
            "108/108 [==============================] - 0s 169us/step - loss: 0.5474 - accuracy: 0.6852 - val_loss: 0.4723 - val_accuracy: 0.7778\n",
            "Epoch 51/150\n",
            "108/108 [==============================] - 0s 177us/step - loss: 0.5436 - accuracy: 0.6852 - val_loss: 0.4682 - val_accuracy: 0.7778\n",
            "Epoch 52/150\n",
            "108/108 [==============================] - 0s 154us/step - loss: 0.5397 - accuracy: 0.6852 - val_loss: 0.4642 - val_accuracy: 0.7778\n",
            "Epoch 53/150\n",
            "108/108 [==============================] - 0s 141us/step - loss: 0.5373 - accuracy: 0.7037 - val_loss: 0.4610 - val_accuracy: 0.8148\n",
            "Epoch 54/150\n",
            "108/108 [==============================] - 0s 143us/step - loss: 0.5321 - accuracy: 0.7593 - val_loss: 0.4572 - val_accuracy: 0.8148\n",
            "Epoch 55/150\n",
            "108/108 [==============================] - 0s 159us/step - loss: 0.5281 - accuracy: 0.7685 - val_loss: 0.4529 - val_accuracy: 0.8148\n",
            "Epoch 56/150\n",
            "108/108 [==============================] - 0s 168us/step - loss: 0.5252 - accuracy: 0.7407 - val_loss: 0.4487 - val_accuracy: 0.7778\n",
            "Epoch 57/150\n",
            "108/108 [==============================] - 0s 152us/step - loss: 0.5213 - accuracy: 0.7037 - val_loss: 0.4452 - val_accuracy: 0.7778\n",
            "Epoch 58/150\n",
            "108/108 [==============================] - 0s 200us/step - loss: 0.5185 - accuracy: 0.6944 - val_loss: 0.4423 - val_accuracy: 0.7778\n",
            "Epoch 59/150\n",
            "108/108 [==============================] - 0s 162us/step - loss: 0.5166 - accuracy: 0.6759 - val_loss: 0.4397 - val_accuracy: 0.7778\n",
            "Epoch 60/150\n",
            "108/108 [==============================] - 0s 151us/step - loss: 0.5134 - accuracy: 0.6759 - val_loss: 0.4367 - val_accuracy: 0.7778\n",
            "Epoch 61/150\n",
            "108/108 [==============================] - 0s 147us/step - loss: 0.5107 - accuracy: 0.6667 - val_loss: 0.4331 - val_accuracy: 0.7778\n",
            "Epoch 62/150\n",
            "108/108 [==============================] - 0s 162us/step - loss: 0.5071 - accuracy: 0.6852 - val_loss: 0.4294 - val_accuracy: 0.7778\n",
            "Epoch 63/150\n",
            "108/108 [==============================] - 0s 160us/step - loss: 0.5026 - accuracy: 0.7130 - val_loss: 0.4259 - val_accuracy: 0.7778\n",
            "Epoch 64/150\n",
            "108/108 [==============================] - 0s 148us/step - loss: 0.4983 - accuracy: 0.7593 - val_loss: 0.4227 - val_accuracy: 0.8148\n",
            "Epoch 65/150\n",
            "108/108 [==============================] - 0s 173us/step - loss: 0.4946 - accuracy: 0.8148 - val_loss: 0.4201 - val_accuracy: 0.8519\n",
            "Epoch 66/150\n",
            "108/108 [==============================] - 0s 172us/step - loss: 0.4921 - accuracy: 0.8611 - val_loss: 0.4180 - val_accuracy: 0.8519\n",
            "Epoch 67/150\n",
            "108/108 [==============================] - 0s 154us/step - loss: 0.4886 - accuracy: 0.8704 - val_loss: 0.4147 - val_accuracy: 0.8519\n",
            "Epoch 68/150\n",
            "108/108 [==============================] - 0s 150us/step - loss: 0.4851 - accuracy: 0.8796 - val_loss: 0.4116 - val_accuracy: 0.8519\n",
            "Epoch 69/150\n",
            "108/108 [==============================] - 0s 154us/step - loss: 0.4820 - accuracy: 0.8611 - val_loss: 0.4080 - val_accuracy: 0.8519\n",
            "Epoch 70/150\n",
            "108/108 [==============================] - 0s 148us/step - loss: 0.4796 - accuracy: 0.8426 - val_loss: 0.4049 - val_accuracy: 0.8519\n",
            "Epoch 71/150\n",
            "108/108 [==============================] - 0s 143us/step - loss: 0.4759 - accuracy: 0.8426 - val_loss: 0.4021 - val_accuracy: 0.8519\n",
            "Epoch 72/150\n",
            "108/108 [==============================] - 0s 147us/step - loss: 0.4734 - accuracy: 0.8426 - val_loss: 0.3994 - val_accuracy: 0.8519\n",
            "Epoch 73/150\n",
            "108/108 [==============================] - 0s 135us/step - loss: 0.4706 - accuracy: 0.8426 - val_loss: 0.3970 - val_accuracy: 0.8519\n",
            "Epoch 74/150\n",
            "108/108 [==============================] - 0s 149us/step - loss: 0.4680 - accuracy: 0.8426 - val_loss: 0.3944 - val_accuracy: 0.8519\n",
            "Epoch 75/150\n",
            "108/108 [==============================] - 0s 243us/step - loss: 0.4644 - accuracy: 0.8426 - val_loss: 0.3920 - val_accuracy: 0.8519\n",
            "Epoch 76/150\n",
            "108/108 [==============================] - 0s 161us/step - loss: 0.4615 - accuracy: 0.8704 - val_loss: 0.3901 - val_accuracy: 0.8519\n",
            "Epoch 77/150\n",
            "108/108 [==============================] - 0s 165us/step - loss: 0.4595 - accuracy: 0.9074 - val_loss: 0.3885 - val_accuracy: 0.8889\n",
            "Epoch 78/150\n",
            "108/108 [==============================] - 0s 156us/step - loss: 0.4574 - accuracy: 0.9537 - val_loss: 0.3863 - val_accuracy: 0.8889\n",
            "Epoch 79/150\n",
            "108/108 [==============================] - 0s 144us/step - loss: 0.4558 - accuracy: 0.9167 - val_loss: 0.3833 - val_accuracy: 0.8889\n",
            "Epoch 80/150\n",
            "108/108 [==============================] - 0s 150us/step - loss: 0.4516 - accuracy: 0.8889 - val_loss: 0.3809 - val_accuracy: 0.8519\n",
            "Epoch 81/150\n",
            "108/108 [==============================] - 0s 137us/step - loss: 0.4491 - accuracy: 0.8796 - val_loss: 0.3784 - val_accuracy: 0.8519\n",
            "Epoch 82/150\n",
            "108/108 [==============================] - 0s 142us/step - loss: 0.4465 - accuracy: 0.8611 - val_loss: 0.3764 - val_accuracy: 0.8519\n",
            "Epoch 83/150\n",
            "108/108 [==============================] - 0s 139us/step - loss: 0.4440 - accuracy: 0.8611 - val_loss: 0.3742 - val_accuracy: 0.8519\n",
            "Epoch 84/150\n",
            "108/108 [==============================] - 0s 152us/step - loss: 0.4415 - accuracy: 0.8704 - val_loss: 0.3723 - val_accuracy: 0.8519\n",
            "Epoch 85/150\n",
            "108/108 [==============================] - 0s 157us/step - loss: 0.4389 - accuracy: 0.8889 - val_loss: 0.3701 - val_accuracy: 0.8519\n",
            "Epoch 86/150\n",
            "108/108 [==============================] - 0s 144us/step - loss: 0.4373 - accuracy: 0.8796 - val_loss: 0.3678 - val_accuracy: 0.8519\n",
            "Epoch 87/150\n",
            "108/108 [==============================] - 0s 163us/step - loss: 0.4349 - accuracy: 0.8889 - val_loss: 0.3659 - val_accuracy: 0.8889\n",
            "Epoch 88/150\n",
            "108/108 [==============================] - 0s 158us/step - loss: 0.4317 - accuracy: 0.8981 - val_loss: 0.3639 - val_accuracy: 0.8889\n",
            "Epoch 89/150\n",
            "108/108 [==============================] - 0s 185us/step - loss: 0.4293 - accuracy: 0.9074 - val_loss: 0.3621 - val_accuracy: 0.8889\n",
            "Epoch 90/150\n",
            "108/108 [==============================] - 0s 137us/step - loss: 0.4269 - accuracy: 0.9074 - val_loss: 0.3602 - val_accuracy: 0.8889\n",
            "Epoch 91/150\n",
            "108/108 [==============================] - 0s 144us/step - loss: 0.4251 - accuracy: 0.9074 - val_loss: 0.3581 - val_accuracy: 0.8889\n",
            "Epoch 92/150\n",
            "108/108 [==============================] - 0s 138us/step - loss: 0.4221 - accuracy: 0.9167 - val_loss: 0.3563 - val_accuracy: 0.8889\n",
            "Epoch 93/150\n",
            "108/108 [==============================] - 0s 156us/step - loss: 0.4198 - accuracy: 0.9444 - val_loss: 0.3548 - val_accuracy: 0.8889\n",
            "Epoch 94/150\n",
            "108/108 [==============================] - 0s 149us/step - loss: 0.4176 - accuracy: 0.9630 - val_loss: 0.3535 - val_accuracy: 0.9630\n",
            "Epoch 95/150\n",
            "108/108 [==============================] - 0s 140us/step - loss: 0.4162 - accuracy: 0.9722 - val_loss: 0.3524 - val_accuracy: 0.9630\n",
            "Epoch 96/150\n",
            "108/108 [==============================] - 0s 144us/step - loss: 0.4144 - accuracy: 0.9722 - val_loss: 0.3497 - val_accuracy: 0.9630\n",
            "Epoch 97/150\n",
            "108/108 [==============================] - 0s 147us/step - loss: 0.4114 - accuracy: 0.9630 - val_loss: 0.3466 - val_accuracy: 0.8889\n",
            "Epoch 98/150\n",
            "108/108 [==============================] - 0s 139us/step - loss: 0.4101 - accuracy: 0.9167 - val_loss: 0.3443 - val_accuracy: 0.8889\n",
            "Epoch 99/150\n",
            "108/108 [==============================] - 0s 166us/step - loss: 0.4066 - accuracy: 0.9074 - val_loss: 0.3428 - val_accuracy: 0.8519\n",
            "Epoch 100/150\n",
            "108/108 [==============================] - 0s 147us/step - loss: 0.4064 - accuracy: 0.8704 - val_loss: 0.3418 - val_accuracy: 0.8519\n",
            "Epoch 101/150\n",
            "108/108 [==============================] - 0s 218us/step - loss: 0.4037 - accuracy: 0.8889 - val_loss: 0.3394 - val_accuracy: 0.8889\n",
            "Epoch 102/150\n",
            "108/108 [==============================] - 0s 139us/step - loss: 0.4002 - accuracy: 0.9074 - val_loss: 0.3371 - val_accuracy: 0.8889\n",
            "Epoch 103/150\n",
            "108/108 [==============================] - 0s 150us/step - loss: 0.3973 - accuracy: 0.9167 - val_loss: 0.3353 - val_accuracy: 0.8889\n",
            "Epoch 104/150\n",
            "108/108 [==============================] - 0s 142us/step - loss: 0.3969 - accuracy: 0.9537 - val_loss: 0.3345 - val_accuracy: 0.9630\n",
            "Epoch 105/150\n",
            "108/108 [==============================] - 0s 149us/step - loss: 0.3946 - accuracy: 0.9815 - val_loss: 0.3331 - val_accuracy: 0.9630\n",
            "Epoch 106/150\n",
            "108/108 [==============================] - 0s 131us/step - loss: 0.3929 - accuracy: 0.9815 - val_loss: 0.3312 - val_accuracy: 0.9630\n",
            "Epoch 107/150\n",
            "108/108 [==============================] - 0s 140us/step - loss: 0.3917 - accuracy: 0.9815 - val_loss: 0.3297 - val_accuracy: 0.9630\n",
            "Epoch 108/150\n",
            "108/108 [==============================] - 0s 151us/step - loss: 0.3884 - accuracy: 0.9815 - val_loss: 0.3271 - val_accuracy: 0.9630\n",
            "Epoch 109/150\n",
            "108/108 [==============================] - 0s 145us/step - loss: 0.3851 - accuracy: 0.9444 - val_loss: 0.3255 - val_accuracy: 0.8889\n",
            "Epoch 110/150\n",
            "108/108 [==============================] - 0s 157us/step - loss: 0.3836 - accuracy: 0.9352 - val_loss: 0.3244 - val_accuracy: 0.8889\n",
            "Epoch 111/150\n",
            "108/108 [==============================] - 0s 142us/step - loss: 0.3824 - accuracy: 0.9074 - val_loss: 0.3233 - val_accuracy: 0.8889\n",
            "Epoch 112/150\n",
            "108/108 [==============================] - 0s 153us/step - loss: 0.3806 - accuracy: 0.9074 - val_loss: 0.3214 - val_accuracy: 0.8889\n",
            "Epoch 113/150\n",
            "108/108 [==============================] - 0s 132us/step - loss: 0.3782 - accuracy: 0.9167 - val_loss: 0.3192 - val_accuracy: 0.8889\n",
            "Epoch 114/150\n",
            "108/108 [==============================] - 0s 166us/step - loss: 0.3762 - accuracy: 0.9444 - val_loss: 0.3176 - val_accuracy: 0.9630\n",
            "Epoch 115/150\n",
            "108/108 [==============================] - 0s 149us/step - loss: 0.3738 - accuracy: 0.9722 - val_loss: 0.3160 - val_accuracy: 0.9630\n",
            "Epoch 116/150\n",
            "108/108 [==============================] - 0s 171us/step - loss: 0.3717 - accuracy: 0.9815 - val_loss: 0.3142 - val_accuracy: 0.9630\n",
            "Epoch 117/150\n",
            "108/108 [==============================] - 0s 147us/step - loss: 0.3700 - accuracy: 0.9722 - val_loss: 0.3123 - val_accuracy: 0.9630\n",
            "Epoch 118/150\n",
            "108/108 [==============================] - 0s 146us/step - loss: 0.3683 - accuracy: 0.9444 - val_loss: 0.3107 - val_accuracy: 0.8889\n",
            "Epoch 119/150\n",
            "108/108 [==============================] - 0s 144us/step - loss: 0.3663 - accuracy: 0.9444 - val_loss: 0.3094 - val_accuracy: 0.9259\n",
            "Epoch 120/150\n",
            "108/108 [==============================] - 0s 135us/step - loss: 0.3640 - accuracy: 0.9444 - val_loss: 0.3080 - val_accuracy: 0.8889\n",
            "Epoch 121/150\n",
            "108/108 [==============================] - 0s 147us/step - loss: 0.3631 - accuracy: 0.9259 - val_loss: 0.3072 - val_accuracy: 0.8889\n",
            "Epoch 122/150\n",
            "108/108 [==============================] - 0s 140us/step - loss: 0.3610 - accuracy: 0.9352 - val_loss: 0.3053 - val_accuracy: 0.8889\n",
            "Epoch 123/150\n",
            "108/108 [==============================] - 0s 142us/step - loss: 0.3593 - accuracy: 0.9444 - val_loss: 0.3032 - val_accuracy: 0.9259\n",
            "Epoch 124/150\n",
            "108/108 [==============================] - 0s 135us/step - loss: 0.3561 - accuracy: 0.9537 - val_loss: 0.3016 - val_accuracy: 0.9630\n",
            "Epoch 125/150\n",
            "108/108 [==============================] - 0s 132us/step - loss: 0.3548 - accuracy: 0.9722 - val_loss: 0.3001 - val_accuracy: 0.9630\n",
            "Epoch 126/150\n",
            "108/108 [==============================] - 0s 163us/step - loss: 0.3530 - accuracy: 0.9815 - val_loss: 0.2987 - val_accuracy: 0.9630\n",
            "Epoch 127/150\n",
            "108/108 [==============================] - 0s 152us/step - loss: 0.3514 - accuracy: 0.9722 - val_loss: 0.2970 - val_accuracy: 0.9630\n",
            "Epoch 128/150\n",
            "108/108 [==============================] - 0s 134us/step - loss: 0.3494 - accuracy: 0.9722 - val_loss: 0.2957 - val_accuracy: 0.9630\n",
            "Epoch 129/150\n",
            "108/108 [==============================] - 0s 221us/step - loss: 0.3475 - accuracy: 0.9722 - val_loss: 0.2945 - val_accuracy: 0.9630\n",
            "Epoch 130/150\n",
            "108/108 [==============================] - 0s 196us/step - loss: 0.3456 - accuracy: 0.9722 - val_loss: 0.2932 - val_accuracy: 0.9630\n",
            "Epoch 131/150\n",
            "108/108 [==============================] - 0s 156us/step - loss: 0.3437 - accuracy: 0.9722 - val_loss: 0.2916 - val_accuracy: 0.9630\n",
            "Epoch 132/150\n",
            "108/108 [==============================] - 0s 180us/step - loss: 0.3421 - accuracy: 0.9722 - val_loss: 0.2901 - val_accuracy: 0.9630\n",
            "Epoch 133/150\n",
            "108/108 [==============================] - 0s 169us/step - loss: 0.3415 - accuracy: 0.9722 - val_loss: 0.2887 - val_accuracy: 0.9630\n",
            "Epoch 134/150\n",
            "108/108 [==============================] - 0s 152us/step - loss: 0.3383 - accuracy: 0.9722 - val_loss: 0.2870 - val_accuracy: 0.9630\n",
            "Epoch 135/150\n",
            "108/108 [==============================] - 0s 146us/step - loss: 0.3365 - accuracy: 0.9722 - val_loss: 0.2854 - val_accuracy: 0.9630\n",
            "Epoch 136/150\n",
            "108/108 [==============================] - 0s 145us/step - loss: 0.3354 - accuracy: 0.9722 - val_loss: 0.2839 - val_accuracy: 0.9630\n",
            "Epoch 137/150\n",
            "108/108 [==============================] - 0s 132us/step - loss: 0.3332 - accuracy: 0.9722 - val_loss: 0.2823 - val_accuracy: 0.9630\n",
            "Epoch 138/150\n",
            "108/108 [==============================] - 0s 137us/step - loss: 0.3324 - accuracy: 0.9722 - val_loss: 0.2809 - val_accuracy: 0.9630\n",
            "Epoch 139/150\n",
            "108/108 [==============================] - 0s 147us/step - loss: 0.3296 - accuracy: 0.9722 - val_loss: 0.2797 - val_accuracy: 0.9630\n",
            "Epoch 140/150\n",
            "108/108 [==============================] - 0s 137us/step - loss: 0.3278 - accuracy: 0.9722 - val_loss: 0.2788 - val_accuracy: 0.9630\n",
            "Epoch 141/150\n",
            "108/108 [==============================] - 0s 134us/step - loss: 0.3268 - accuracy: 0.9630 - val_loss: 0.2780 - val_accuracy: 0.9630\n",
            "Epoch 142/150\n",
            "108/108 [==============================] - 0s 132us/step - loss: 0.3249 - accuracy: 0.9722 - val_loss: 0.2761 - val_accuracy: 0.9630\n",
            "Epoch 143/150\n",
            "108/108 [==============================] - 0s 162us/step - loss: 0.3223 - accuracy: 0.9722 - val_loss: 0.2749 - val_accuracy: 0.9630\n",
            "Epoch 144/150\n",
            "108/108 [==============================] - 0s 157us/step - loss: 0.3215 - accuracy: 0.9815 - val_loss: 0.2742 - val_accuracy: 0.9630\n",
            "Epoch 145/150\n",
            "108/108 [==============================] - 0s 138us/step - loss: 0.3208 - accuracy: 0.9815 - val_loss: 0.2731 - val_accuracy: 0.9630\n",
            "Epoch 146/150\n",
            "108/108 [==============================] - 0s 131us/step - loss: 0.3190 - accuracy: 0.9815 - val_loss: 0.2712 - val_accuracy: 0.9630\n",
            "Epoch 147/150\n",
            "108/108 [==============================] - 0s 148us/step - loss: 0.3163 - accuracy: 0.9815 - val_loss: 0.2697 - val_accuracy: 0.9630\n",
            "Epoch 148/150\n",
            "108/108 [==============================] - 0s 131us/step - loss: 0.3146 - accuracy: 0.9722 - val_loss: 0.2688 - val_accuracy: 0.9630\n",
            "Epoch 149/150\n",
            "108/108 [==============================] - 0s 125us/step - loss: 0.3158 - accuracy: 0.9537 - val_loss: 0.2685 - val_accuracy: 0.9630\n",
            "Epoch 150/150\n",
            "108/108 [==============================] - 0s 131us/step - loss: 0.3118 - accuracy: 0.9630 - val_loss: 0.2658 - val_accuracy: 0.9630\n"
          ],
          "name": "stdout"
        }
      ]
    },
    {
      "cell_type": "code",
      "metadata": {
        "id": "NAiaBWU89-K2",
        "colab_type": "code",
        "colab": {
          "base_uri": "https://localhost:8080/",
          "height": 225
        },
        "outputId": "3987a134-ebf4-43c6-a932-9a57252b0eeb"
      },
      "source": [
        "model.summary()"
      ],
      "execution_count": 16,
      "outputs": [
        {
          "output_type": "stream",
          "text": [
            "Model: \"sequential_1\"\n",
            "_________________________________________________________________\n",
            "Layer (type)                 Output Shape              Param #   \n",
            "=================================================================\n",
            "dense_1 (Dense)              (None, 16)                80        \n",
            "_________________________________________________________________\n",
            "dense_2 (Dense)              (None, 3)                 51        \n",
            "=================================================================\n",
            "Total params: 131\n",
            "Trainable params: 131\n",
            "Non-trainable params: 0\n",
            "_________________________________________________________________\n"
          ],
          "name": "stdout"
        }
      ]
    },
    {
      "cell_type": "code",
      "metadata": {
        "id": "wTubQW5C_RVR",
        "colab_type": "code",
        "colab": {
          "base_uri": "https://localhost:8080/",
          "height": 295
        },
        "outputId": "147e661f-c1a4-4b0e-f91b-4ede7cedeeb8"
      },
      "source": [
        "# summarize history for accuracy\n",
        "plt.plot(history.history['accuracy'])\n",
        "plt.plot(history.history['val_accuracy'])\n",
        "plt.title('model accuracy')\n",
        "plt.ylabel('accuracy')\n",
        "plt.xlabel('epoch')\n",
        "plt.legend(['train', 'test'], loc='upper left')\n",
        "plt.show()"
      ],
      "execution_count": 17,
      "outputs": [
        {
          "output_type": "display_data",
          "data": {
            "image/png": "[encoded data removed]",
            "text/plain": [
              "<Figure size 432x288 with 1 Axes>"
            ]
          },
          "metadata": {
            "tags": [],
            "needs_background": "light"
          }
        }
      ]
    },
    {
      "cell_type": "code",
      "metadata": {
        "id": "KfrKZjCB_c4O",
        "colab_type": "code",
        "colab": {
          "base_uri": "https://localhost:8080/",
          "height": 295
        },
        "outputId": "559bde89-60b2-41d5-da05-abc1de95a3db"
      },
      "source": [
        "# summarize history for loss\n",
        "plt.plot(history.history['loss'])\n",
        "plt.plot(history.history['val_loss'])\n",
        "plt.title('model loss')\n",
        "plt.ylabel('loss')\n",
        "plt.xlabel('epoch')\n",
        "plt.legend(['train', 'test'], loc='upper left')\n",
        "plt.show()"
      ],
      "execution_count": 18,
      "outputs": [
        {
          "output_type": "display_data",
          "data": {
            "image/png": "[encoded data removed]",
            "text/plain": [
              "<Figure size 432x288 with 1 Axes>"
            ]
          },
          "metadata": {
            "tags": [],
            "needs_background": "light"
          }
        }
      ]
    },
    {
      "cell_type": "code",
      "metadata": {
        "id": "Y6r_SWHf_tEs",
        "colab_type": "code",
        "colab": {}
      },
      "source": [
        ""
      ],
      "execution_count": 0,
      "outputs": []
    }
  ]
}