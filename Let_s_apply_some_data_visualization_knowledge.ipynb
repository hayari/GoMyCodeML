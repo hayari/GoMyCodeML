{
  "nbformat": 4,
  "nbformat_minor": 0,
  "metadata": {
    "kernelspec": {
      "display_name": "Python 3",
      "language": "python",
      "name": "python3"
    },
    "language_info": {
      "codemirror_mode": {
        "name": "ipython",
        "version": 3
      },
      "file_extension": ".py",
      "mimetype": "text/x-python",
      "name": "python",
      "nbconvert_exporter": "python",
      "pygments_lexer": "ipython3",
      "version": "3.7.3"
    },
    "colab": {
      "name": "Let_s_apply_some_data_visualization_knowledge.ipynb",
      "provenance": [],
      "collapsed_sections": [
        "vKkXSBuEjd79",
        "t9BgiagRjd81",
        "pCyhd8BFjd88",
        "tR5TdsnTjd9V"
      ],
      "toc_visible": true,
      "include_colab_link": true
    }
  },
  "cells": [
    {
      "cell_type": "markdown",
      "metadata": {
        "id": "view-in-github",
        "colab_type": "text"
      },
      "source": [
        "<a href=\"https://colab.research.google.com/github/hayari/GoMyCodeML/blob/master/Let_s_apply_some_data_visualization_knowledge.ipynb\" target=\"_parent\"><img src=\"https://colab.research.google.com/assets/colab-badge.svg\" alt=\"Open In Colab\"/></a>"
      ]
    },
    {
      "cell_type": "markdown",
      "metadata": {
        "id": "CVDefCI_jd5-",
        "colab_type": "text"
      },
      "source": [
        "<img src=http://www.humour-blague.fr/blagues/titanic.jpg width=\"200\" height=\"400\">\n",
        "\n",
        "#Titanic Surviving Data Set"
      ]
    },
    {
      "cell_type": "markdown",
      "metadata": {
        "id": "PS9O7eXvmxzE",
        "colab_type": "text"
      },
      "source": [
        "#Data Loading"
      ]
    },
    {
      "cell_type": "code",
      "metadata": {
        "id": "ky4-2Cpijd6C",
        "colab_type": "code",
        "colab": {}
      },
      "source": [
        "import numpy as np\n",
        "import pandas as pd\n",
        "import seaborn as sns\n",
        "from sklearn.preprocessing import LabelEncoder\n",
        "from difflib import SequenceMatcher\n",
        "import re"
      ],
      "execution_count": 0,
      "outputs": []
    },
    {
      "cell_type": "markdown",
      "metadata": {
        "id": "oKkCOAUGjd6I",
        "colab_type": "text"
      },
      "source": [
        "**Task: After importing the dataset using Pandas start by showing the head of the dataset then some general information about the data columns and values**"
      ]
    },
    {
      "cell_type": "code",
      "metadata": {
        "id": "Hd5_JVc_jd6K",
        "colab_type": "code",
        "colab": {
          "base_uri": "https://localhost:8080/",
          "height": 493
        },
        "outputId": "c20d3fda-b69b-4815-eebe-a48444a63eb8"
      },
      "source": [
        "titanic=pd.read_csv('train_titanic.csv')\n",
        "titanic.head(5)"
      ],
      "execution_count": 37,
      "outputs": [
        {
          "output_type": "execute_result",
          "data": {
            "text/html": [
              "<div>\n",
              "<style scoped>\n",
              "    .dataframe tbody tr th:only-of-type {\n",
              "        vertical-align: middle;\n",
              "    }\n",
              "\n",
              "    .dataframe tbody tr th {\n",
              "        vertical-align: top;\n",
              "    }\n",
              "\n",
              "    .dataframe thead th {\n",
              "        text-align: right;\n",
              "    }\n",
              "</style>\n",
              "<table border=\"1\" class=\"dataframe\">\n",
              "  <thead>\n",
              "    <tr style=\"text-align: right;\">\n",
              "      <th></th>\n",
              "      <th>PassengerId</th>\n",
              "      <th>Survived</th>\n",
              "      <th>Pclass</th>\n",
              "      <th>Name</th>\n",
              "      <th>Sex</th>\n",
              "      <th>Age</th>\n",
              "      <th>SibSp</th>\n",
              "      <th>Parch</th>\n",
              "      <th>Ticket</th>\n",
              "      <th>Fare</th>\n",
              "      <th>Cabin</th>\n",
              "      <th>Embarked</th>\n",
              "    </tr>\n",
              "  </thead>\n",
              "  <tbody>\n",
              "    <tr>\n",
              "      <th>0</th>\n",
              "      <td>1</td>\n",
              "      <td>0</td>\n",
              "      <td>3</td>\n",
              "      <td>Braund, Mr. Owen Harris</td>\n",
              "      <td>male</td>\n",
              "      <td>22.0</td>\n",
              "      <td>1</td>\n",
              "      <td>0</td>\n",
              "      <td>A/5 21171</td>\n",
              "      <td>7.2500</td>\n",
              "      <td>NaN</td>\n",
              "      <td>S</td>\n",
              "    </tr>\n",
              "    <tr>\n",
              "      <th>1</th>\n",
              "      <td>2</td>\n",
              "      <td>1</td>\n",
              "      <td>1</td>\n",
              "      <td>Cumings, Mrs. John Bradley (Florence Briggs Th...</td>\n",
              "      <td>female</td>\n",
              "      <td>38.0</td>\n",
              "      <td>1</td>\n",
              "      <td>0</td>\n",
              "      <td>PC 17599</td>\n",
              "      <td>71.2833</td>\n",
              "      <td>C85</td>\n",
              "      <td>C</td>\n",
              "    </tr>\n",
              "    <tr>\n",
              "      <th>2</th>\n",
              "      <td>3</td>\n",
              "      <td>1</td>\n",
              "      <td>3</td>\n",
              "      <td>Heikkinen, Miss. Laina</td>\n",
              "      <td>female</td>\n",
              "      <td>26.0</td>\n",
              "      <td>0</td>\n",
              "      <td>0</td>\n",
              "      <td>STON/O2. 3101282</td>\n",
              "      <td>7.9250</td>\n",
              "      <td>NaN</td>\n",
              "      <td>S</td>\n",
              "    </tr>\n",
              "    <tr>\n",
              "      <th>3</th>\n",
              "      <td>4</td>\n",
              "      <td>1</td>\n",
              "      <td>1</td>\n",
              "      <td>Futrelle, Mrs. Jacques Heath (Lily May Peel)</td>\n",
              "      <td>female</td>\n",
              "      <td>35.0</td>\n",
              "      <td>1</td>\n",
              "      <td>0</td>\n",
              "      <td>113803</td>\n",
              "      <td>53.1000</td>\n",
              "      <td>C123</td>\n",
              "      <td>S</td>\n",
              "    </tr>\n",
              "    <tr>\n",
              "      <th>4</th>\n",
              "      <td>5</td>\n",
              "      <td>0</td>\n",
              "      <td>3</td>\n",
              "      <td>Allen, Mr. William Henry</td>\n",
              "      <td>male</td>\n",
              "      <td>35.0</td>\n",
              "      <td>0</td>\n",
              "      <td>0</td>\n",
              "      <td>373450</td>\n",
              "      <td>8.0500</td>\n",
              "      <td>NaN</td>\n",
              "      <td>S</td>\n",
              "    </tr>\n",
              "  </tbody>\n",
              "</table>\n",
              "</div>"
            ],
            "text/plain": [
              "   PassengerId  Survived  Pclass  ...     Fare Cabin  Embarked\n",
              "0            1         0       3  ...   7.2500   NaN         S\n",
              "1            2         1       1  ...  71.2833   C85         C\n",
              "2            3         1       3  ...   7.9250   NaN         S\n",
              "3            4         1       1  ...  53.1000  C123         S\n",
              "4            5         0       3  ...   8.0500   NaN         S\n",
              "\n",
              "[5 rows x 12 columns]"
            ]
          },
          "metadata": {
            "tags": []
          },
          "execution_count": 37
        }
      ]
    },
    {
      "cell_type": "code",
      "metadata": {
        "id": "xK4cS8xvjd6R",
        "colab_type": "code",
        "colab": {
          "base_uri": "https://localhost:8080/",
          "height": 331
        },
        "outputId": "9cf591bf-161c-4084-d321-92b7693bdc56"
      },
      "source": [
        "titanic.info()"
      ],
      "execution_count": 38,
      "outputs": [
        {
          "output_type": "stream",
          "text": [
            "<class 'pandas.core.frame.DataFrame'>\n",
            "RangeIndex: 891 entries, 0 to 890\n",
            "Data columns (total 12 columns):\n",
            "PassengerId    891 non-null int64\n",
            "Survived       891 non-null int64\n",
            "Pclass         891 non-null int64\n",
            "Name           891 non-null object\n",
            "Sex            891 non-null object\n",
            "Age            714 non-null float64\n",
            "SibSp          891 non-null int64\n",
            "Parch          891 non-null int64\n",
            "Ticket         891 non-null object\n",
            "Fare           891 non-null float64\n",
            "Cabin          204 non-null object\n",
            "Embarked       889 non-null object\n",
            "dtypes: float64(2), int64(5), object(5)\n",
            "memory usage: 83.7+ KB\n"
          ],
          "name": "stdout"
        }
      ]
    },
    {
      "cell_type": "markdown",
      "metadata": {
        "id": "IwZm8Gryjd6W",
        "colab_type": "text"
      },
      "source": [
        "# Data Preparation"
      ]
    },
    {
      "cell_type": "markdown",
      "metadata": {
        "id": "tCy4feeEnCov",
        "colab_type": "text"
      },
      "source": [
        "## Cleansing Null Values"
      ]
    },
    {
      "cell_type": "code",
      "metadata": {
        "id": "BHL4TJCDjd6Y",
        "colab_type": "code",
        "colab": {
          "base_uri": "https://localhost:8080/",
          "height": 257
        },
        "outputId": "f139484f-fb63-44f6-feaf-241bef5f7ce7"
      },
      "source": [
        "titanic.isnull().sum()"
      ],
      "execution_count": 39,
      "outputs": [
        {
          "output_type": "execute_result",
          "data": {
            "text/plain": [
              "PassengerId      0\n",
              "Survived         0\n",
              "Pclass           0\n",
              "Name             0\n",
              "Sex              0\n",
              "Age            177\n",
              "SibSp            0\n",
              "Parch            0\n",
              "Ticket           0\n",
              "Fare             0\n",
              "Cabin          687\n",
              "Embarked         2\n",
              "dtype: int64"
            ]
          },
          "metadata": {
            "tags": []
          },
          "execution_count": 39
        }
      ]
    },
    {
      "cell_type": "code",
      "metadata": {
        "id": "AFQnktyqjd6d",
        "colab_type": "code",
        "colab": {
          "base_uri": "https://localhost:8080/",
          "height": 35
        },
        "outputId": "20421b9b-7aca-4c4c-aee4-8de78c206f9d"
      },
      "source": [
        "titanic.isnull().sum().sum()"
      ],
      "execution_count": 40,
      "outputs": [
        {
          "output_type": "execute_result",
          "data": {
            "text/plain": [
              "866"
            ]
          },
          "metadata": {
            "tags": []
          },
          "execution_count": 40
        }
      ]
    },
    {
      "cell_type": "markdown",
      "metadata": {
        "id": "DxmyhDHpjd6j",
        "colab_type": "text"
      },
      "source": [
        "### Cabin"
      ]
    },
    {
      "cell_type": "markdown",
      "metadata": {
        "id": "7_Pp8BKjjd6l",
        "colab_type": "text"
      },
      "source": [
        "<img src=http://upload.wikimedia.org/wikipedia/commons/thumb/8/84/Titanic_cutaway_diagram.png/687px-Titanic_cutaway_diagram.png width=\"200\" height=\"400\">"
      ]
    },
    {
      "cell_type": "markdown",
      "metadata": {
        "id": "vyRohTKljd6m",
        "colab_type": "text"
      },
      "source": [
        "Assuming that passengers without Cabin number are embarked on the deck (First Class / Second Class / Third Class)"
      ]
    },
    {
      "cell_type": "code",
      "metadata": {
        "id": "lng9MTPujd6p",
        "colab_type": "code",
        "colab": {
          "base_uri": "https://localhost:8080/",
          "height": 257
        },
        "outputId": "4724d8d8-6409-4aac-b03f-df74b85b438b"
      },
      "source": [
        "titanic[\"Cabin\"].fillna(\"Deck\",inplace=True)\n",
        "titanic.isnull().sum()"
      ],
      "execution_count": 41,
      "outputs": [
        {
          "output_type": "execute_result",
          "data": {
            "text/plain": [
              "PassengerId      0\n",
              "Survived         0\n",
              "Pclass           0\n",
              "Name             0\n",
              "Sex              0\n",
              "Age            177\n",
              "SibSp            0\n",
              "Parch            0\n",
              "Ticket           0\n",
              "Fare             0\n",
              "Cabin            0\n",
              "Embarked         2\n",
              "dtype: int64"
            ]
          },
          "metadata": {
            "tags": []
          },
          "execution_count": 41
        }
      ]
    },
    {
      "cell_type": "markdown",
      "metadata": {
        "id": "niJwBo9njd6v",
        "colab_type": "text"
      },
      "source": [
        "### Age\n",
        "\n",
        "We will try to correct Age data using other sources on the Internet https://www.encyclopedia-titanica.org otherwise we will use mean() function to replace NaN values"
      ]
    },
    {
      "cell_type": "code",
      "metadata": {
        "id": "ixspvqHyjd6x",
        "colab_type": "code",
        "colab": {
          "base_uri": "https://localhost:8080/",
          "height": 356
        },
        "outputId": "c02d3a56-a16d-4ad5-b9ca-26ac610c7921"
      },
      "source": [
        "dfency = pd.read_html('https://www.encyclopedia-titanica.org/titanic-passenger-list/')\n",
        "dfage=dfency[0][[\"Name\",\"Age\",\"Class/Dept\"]]\n",
        "dfage.head(10)"
      ],
      "execution_count": 42,
      "outputs": [
        {
          "output_type": "execute_result",
          "data": {
            "text/html": [
              "<div>\n",
              "<style scoped>\n",
              "    .dataframe tbody tr th:only-of-type {\n",
              "        vertical-align: middle;\n",
              "    }\n",
              "\n",
              "    .dataframe tbody tr th {\n",
              "        vertical-align: top;\n",
              "    }\n",
              "\n",
              "    .dataframe thead th {\n",
              "        text-align: right;\n",
              "    }\n",
              "</style>\n",
              "<table border=\"1\" class=\"dataframe\">\n",
              "  <thead>\n",
              "    <tr style=\"text-align: right;\">\n",
              "      <th></th>\n",
              "      <th>Name</th>\n",
              "      <th>Age</th>\n",
              "      <th>Class/Dept</th>\n",
              "    </tr>\n",
              "  </thead>\n",
              "  <tbody>\n",
              "    <tr>\n",
              "      <th>0</th>\n",
              "      <td>ALLEN, Miss Elisabeth Walton</td>\n",
              "      <td>29</td>\n",
              "      <td>1st Class Passenger</td>\n",
              "    </tr>\n",
              "    <tr>\n",
              "      <th>1</th>\n",
              "      <td>ALLISON, Mrs Bess Waldo</td>\n",
              "      <td>25</td>\n",
              "      <td>1st Class Passenger</td>\n",
              "    </tr>\n",
              "    <tr>\n",
              "      <th>2</th>\n",
              "      <td>ALLISON, Master Hudson Trevor</td>\n",
              "      <td>11m</td>\n",
              "      <td>1st Class Passenger</td>\n",
              "    </tr>\n",
              "    <tr>\n",
              "      <th>3</th>\n",
              "      <td>ALLISON, Miss Helen Loraine</td>\n",
              "      <td>2</td>\n",
              "      <td>1st Class Passenger</td>\n",
              "    </tr>\n",
              "    <tr>\n",
              "      <th>4</th>\n",
              "      <td>ALLISON, Mr Hudson Joshua Creighton</td>\n",
              "      <td>30</td>\n",
              "      <td>1st Class Passenger</td>\n",
              "    </tr>\n",
              "    <tr>\n",
              "      <th>5</th>\n",
              "      <td>ANDERSON, Mr Henry</td>\n",
              "      <td>42</td>\n",
              "      <td>1st Class Passenger</td>\n",
              "    </tr>\n",
              "    <tr>\n",
              "      <th>6</th>\n",
              "      <td>ANDREWS, Miss Cornelia Theodosia</td>\n",
              "      <td>62</td>\n",
              "      <td>1st Class Passenger</td>\n",
              "    </tr>\n",
              "    <tr>\n",
              "      <th>7</th>\n",
              "      <td>ANDREWS, Mr Thomas</td>\n",
              "      <td>39</td>\n",
              "      <td>1st Class Passenger H&amp;W Guarantee Group</td>\n",
              "    </tr>\n",
              "    <tr>\n",
              "      <th>8</th>\n",
              "      <td>APPLETON, Mrs Charlotte</td>\n",
              "      <td>53</td>\n",
              "      <td>1st Class Passenger</td>\n",
              "    </tr>\n",
              "    <tr>\n",
              "      <th>9</th>\n",
              "      <td>ARTAGAVEYTIA, Mr Ramon</td>\n",
              "      <td>71</td>\n",
              "      <td>1st Class Passenger</td>\n",
              "    </tr>\n",
              "  </tbody>\n",
              "</table>\n",
              "</div>"
            ],
            "text/plain": [
              "                                  Name  ...                               Class/Dept\n",
              "0         ALLEN, Miss Elisabeth Walton  ...                      1st Class Passenger\n",
              "1              ALLISON, Mrs Bess Waldo  ...                      1st Class Passenger\n",
              "2        ALLISON, Master Hudson Trevor  ...                      1st Class Passenger\n",
              "3          ALLISON, Miss Helen Loraine  ...                      1st Class Passenger\n",
              "4  ALLISON, Mr Hudson Joshua Creighton  ...                      1st Class Passenger\n",
              "5                   ANDERSON, Mr Henry  ...                      1st Class Passenger\n",
              "6     ANDREWS, Miss Cornelia Theodosia  ...                      1st Class Passenger\n",
              "7                   ANDREWS, Mr Thomas  ...  1st Class Passenger H&W Guarantee Group\n",
              "8              APPLETON, Mrs Charlotte  ...                      1st Class Passenger\n",
              "9               ARTAGAVEYTIA, Mr Ramon  ...                      1st Class Passenger\n",
              "\n",
              "[10 rows x 3 columns]"
            ]
          },
          "metadata": {
            "tags": []
          },
          "execution_count": 42
        }
      ]
    },
    {
      "cell_type": "code",
      "metadata": {
        "id": "NIaX1U1yjd61",
        "colab_type": "code",
        "colab": {}
      },
      "source": [
        "def get_similar(row,lookup,threshold):\n",
        "    if row.isnull()[\"Age\"]:\n",
        "        name=row[\"Name\"]\n",
        "        sim=lookup[\"Name\"].apply(lambda x :SequenceMatcher(None, x, name).ratio())\n",
        "        if len(sim.index[sim>threshold].tolist())>0 :\n",
        "            idx=sim.index[sim>threshold].tolist()[0]\n",
        "            try: \n",
        "                val=float(lookup.iloc[idx,1])\n",
        "                return val\n",
        "            except:\n",
        "                return np.nan\n",
        "        else:\n",
        "            return np.nan\n",
        "    else:\n",
        "        return row[\"Age\"]"
      ],
      "execution_count": 0,
      "outputs": []
    },
    {
      "cell_type": "code",
      "metadata": {
        "id": "wppVH8Wejd66",
        "colab_type": "code",
        "colab": {}
      },
      "source": [
        "titanic[\"cAge\"]=titanic.apply(lambda row: get_similar(row,dfage,0.50), axis=1)\n"
      ],
      "execution_count": 0,
      "outputs": []
    },
    {
      "cell_type": "code",
      "metadata": {
        "id": "mqYl1aDfjd6_",
        "colab_type": "code",
        "colab": {
          "base_uri": "https://localhost:8080/",
          "height": 275
        },
        "outputId": "06935a9c-5f5e-429f-d618-e7ff28d8973e"
      },
      "source": [
        "titanic.isnull().sum()\n"
      ],
      "execution_count": 45,
      "outputs": [
        {
          "output_type": "execute_result",
          "data": {
            "text/plain": [
              "PassengerId      0\n",
              "Survived         0\n",
              "Pclass           0\n",
              "Name             0\n",
              "Sex              0\n",
              "Age            177\n",
              "SibSp            0\n",
              "Parch            0\n",
              "Ticket           0\n",
              "Fare             0\n",
              "Cabin            0\n",
              "Embarked         2\n",
              "cAge            16\n",
              "dtype: int64"
            ]
          },
          "metadata": {
            "tags": []
          },
          "execution_count": 45
        }
      ]
    },
    {
      "cell_type": "markdown",
      "metadata": {
        "id": "lrLJNommjd7E",
        "colab_type": "text"
      },
      "source": [
        "**Fill uncomplete Age with mean value**"
      ]
    },
    {
      "cell_type": "code",
      "metadata": {
        "id": "wVoGyAEpjd7F",
        "colab_type": "code",
        "colab": {
          "base_uri": "https://localhost:8080/",
          "height": 275
        },
        "outputId": "8cde3f91-2ffc-44f3-f82d-73cec397cb6c"
      },
      "source": [
        "titanic[\"cAge\"].fillna(value=titanic[\"cAge\"].mean(),inplace=True)\n",
        "titanic.isnull().sum()"
      ],
      "execution_count": 46,
      "outputs": [
        {
          "output_type": "execute_result",
          "data": {
            "text/plain": [
              "PassengerId      0\n",
              "Survived         0\n",
              "Pclass           0\n",
              "Name             0\n",
              "Sex              0\n",
              "Age            177\n",
              "SibSp            0\n",
              "Parch            0\n",
              "Ticket           0\n",
              "Fare             0\n",
              "Cabin            0\n",
              "Embarked         2\n",
              "cAge             0\n",
              "dtype: int64"
            ]
          },
          "metadata": {
            "tags": []
          },
          "execution_count": 46
        }
      ]
    },
    {
      "cell_type": "markdown",
      "metadata": {
        "id": "uRmhXYvxjd7J",
        "colab_type": "text"
      },
      "source": [
        "Fill uncomplete embarked with U (Unknown)"
      ]
    },
    {
      "cell_type": "code",
      "metadata": {
        "id": "BjAOlo3Ljd7L",
        "colab_type": "code",
        "colab": {
          "base_uri": "https://localhost:8080/",
          "height": 275
        },
        "outputId": "460587eb-9138-44f2-b8aa-770ed6ef1818"
      },
      "source": [
        "titanic[\"Embarked\"].fillna(value='U',inplace=True)\n",
        "titanic.isnull().sum()"
      ],
      "execution_count": 47,
      "outputs": [
        {
          "output_type": "execute_result",
          "data": {
            "text/plain": [
              "PassengerId      0\n",
              "Survived         0\n",
              "Pclass           0\n",
              "Name             0\n",
              "Sex              0\n",
              "Age            177\n",
              "SibSp            0\n",
              "Parch            0\n",
              "Ticket           0\n",
              "Fare             0\n",
              "Cabin            0\n",
              "Embarked         0\n",
              "cAge             0\n",
              "dtype: int64"
            ]
          },
          "metadata": {
            "tags": []
          },
          "execution_count": 47
        }
      ]
    },
    {
      "cell_type": "markdown",
      "metadata": {
        "id": "QHla7He6jd7R",
        "colab_type": "text"
      },
      "source": [
        "## Dealing with Categorical Data"
      ]
    },
    {
      "cell_type": "code",
      "metadata": {
        "id": "FVocoNJVjd7S",
        "colab_type": "code",
        "colab": {
          "base_uri": "https://localhost:8080/",
          "height": 349
        },
        "outputId": "a95d1a86-a0ee-4c4d-8e0f-c1fc19f485ac"
      },
      "source": [
        "titanic.info()"
      ],
      "execution_count": 48,
      "outputs": [
        {
          "output_type": "stream",
          "text": [
            "<class 'pandas.core.frame.DataFrame'>\n",
            "RangeIndex: 891 entries, 0 to 890\n",
            "Data columns (total 13 columns):\n",
            "PassengerId    891 non-null int64\n",
            "Survived       891 non-null int64\n",
            "Pclass         891 non-null int64\n",
            "Name           891 non-null object\n",
            "Sex            891 non-null object\n",
            "Age            714 non-null float64\n",
            "SibSp          891 non-null int64\n",
            "Parch          891 non-null int64\n",
            "Ticket         891 non-null object\n",
            "Fare           891 non-null float64\n",
            "Cabin          891 non-null object\n",
            "Embarked       891 non-null object\n",
            "cAge           891 non-null float64\n",
            "dtypes: float64(3), int64(5), object(5)\n",
            "memory usage: 90.6+ KB\n"
          ],
          "name": "stdout"
        }
      ]
    },
    {
      "cell_type": "code",
      "metadata": {
        "id": "in4KlAF2jd7X",
        "colab_type": "code",
        "colab": {
          "base_uri": "https://localhost:8080/",
          "height": 35
        },
        "outputId": "fb22857f-4e3e-4010-aa00-fdb44cd12a72"
      },
      "source": [
        "titanic[\"Sex\"].unique()"
      ],
      "execution_count": 49,
      "outputs": [
        {
          "output_type": "execute_result",
          "data": {
            "text/plain": [
              "array(['male', 'female'], dtype=object)"
            ]
          },
          "metadata": {
            "tags": []
          },
          "execution_count": 49
        }
      ]
    },
    {
      "cell_type": "code",
      "metadata": {
        "id": "RWk9eWWAjd7b",
        "colab_type": "code",
        "colab": {
          "base_uri": "https://localhost:8080/",
          "height": 493
        },
        "outputId": "d7bee7bb-98b2-48b3-8632-7482df1e0276"
      },
      "source": [
        "\n",
        "sex_dict={\"Sex\":{'male': 1, 'female': 2}}\n",
        "embarked_dict={\"Embarked\":{\"U\":0,\"C\":1,\"Q\":2,\"S\":3}}\n",
        "\n",
        "newtitanic=titanic.drop([\"Age\"],axis=1)\n",
        "newtitanic=newtitanic.replace(sex_dict,inplace=False)\n",
        "newtitanic.replace(embarked_dict,inplace=True)\n",
        "encoder=LabelEncoder()\n",
        "newtitanic[\"Cabin\"]=encoder.fit_transform(newtitanic[\"Cabin\"])\n",
        "newtitanic[\"Ticket\"]=encoder.fit_transform(newtitanic[\"Ticket\"])\n",
        "newtitanic.head(5)"
      ],
      "execution_count": 50,
      "outputs": [
        {
          "output_type": "execute_result",
          "data": {
            "text/html": [
              "<div>\n",
              "<style scoped>\n",
              "    .dataframe tbody tr th:only-of-type {\n",
              "        vertical-align: middle;\n",
              "    }\n",
              "\n",
              "    .dataframe tbody tr th {\n",
              "        vertical-align: top;\n",
              "    }\n",
              "\n",
              "    .dataframe thead th {\n",
              "        text-align: right;\n",
              "    }\n",
              "</style>\n",
              "<table border=\"1\" class=\"dataframe\">\n",
              "  <thead>\n",
              "    <tr style=\"text-align: right;\">\n",
              "      <th></th>\n",
              "      <th>PassengerId</th>\n",
              "      <th>Survived</th>\n",
              "      <th>Pclass</th>\n",
              "      <th>Name</th>\n",
              "      <th>Sex</th>\n",
              "      <th>SibSp</th>\n",
              "      <th>Parch</th>\n",
              "      <th>Ticket</th>\n",
              "      <th>Fare</th>\n",
              "      <th>Cabin</th>\n",
              "      <th>Embarked</th>\n",
              "      <th>cAge</th>\n",
              "    </tr>\n",
              "  </thead>\n",
              "  <tbody>\n",
              "    <tr>\n",
              "      <th>0</th>\n",
              "      <td>1</td>\n",
              "      <td>0</td>\n",
              "      <td>3</td>\n",
              "      <td>Braund, Mr. Owen Harris</td>\n",
              "      <td>1</td>\n",
              "      <td>1</td>\n",
              "      <td>0</td>\n",
              "      <td>523</td>\n",
              "      <td>7.2500</td>\n",
              "      <td>115</td>\n",
              "      <td>3</td>\n",
              "      <td>22.0</td>\n",
              "    </tr>\n",
              "    <tr>\n",
              "      <th>1</th>\n",
              "      <td>2</td>\n",
              "      <td>1</td>\n",
              "      <td>1</td>\n",
              "      <td>Cumings, Mrs. John Bradley (Florence Briggs Th...</td>\n",
              "      <td>2</td>\n",
              "      <td>1</td>\n",
              "      <td>0</td>\n",
              "      <td>596</td>\n",
              "      <td>71.2833</td>\n",
              "      <td>81</td>\n",
              "      <td>1</td>\n",
              "      <td>38.0</td>\n",
              "    </tr>\n",
              "    <tr>\n",
              "      <th>2</th>\n",
              "      <td>3</td>\n",
              "      <td>1</td>\n",
              "      <td>3</td>\n",
              "      <td>Heikkinen, Miss. Laina</td>\n",
              "      <td>2</td>\n",
              "      <td>0</td>\n",
              "      <td>0</td>\n",
              "      <td>669</td>\n",
              "      <td>7.9250</td>\n",
              "      <td>115</td>\n",
              "      <td>3</td>\n",
              "      <td>26.0</td>\n",
              "    </tr>\n",
              "    <tr>\n",
              "      <th>3</th>\n",
              "      <td>4</td>\n",
              "      <td>1</td>\n",
              "      <td>1</td>\n",
              "      <td>Futrelle, Mrs. Jacques Heath (Lily May Peel)</td>\n",
              "      <td>2</td>\n",
              "      <td>1</td>\n",
              "      <td>0</td>\n",
              "      <td>49</td>\n",
              "      <td>53.1000</td>\n",
              "      <td>55</td>\n",
              "      <td>3</td>\n",
              "      <td>35.0</td>\n",
              "    </tr>\n",
              "    <tr>\n",
              "      <th>4</th>\n",
              "      <td>5</td>\n",
              "      <td>0</td>\n",
              "      <td>3</td>\n",
              "      <td>Allen, Mr. William Henry</td>\n",
              "      <td>1</td>\n",
              "      <td>0</td>\n",
              "      <td>0</td>\n",
              "      <td>472</td>\n",
              "      <td>8.0500</td>\n",
              "      <td>115</td>\n",
              "      <td>3</td>\n",
              "      <td>35.0</td>\n",
              "    </tr>\n",
              "  </tbody>\n",
              "</table>\n",
              "</div>"
            ],
            "text/plain": [
              "   PassengerId  Survived  Pclass  ... Cabin  Embarked  cAge\n",
              "0            1         0       3  ...   115         3  22.0\n",
              "1            2         1       1  ...    81         1  38.0\n",
              "2            3         1       3  ...   115         3  26.0\n",
              "3            4         1       1  ...    55         3  35.0\n",
              "4            5         0       3  ...   115         3  35.0\n",
              "\n",
              "[5 rows x 12 columns]"
            ]
          },
          "metadata": {
            "tags": []
          },
          "execution_count": 50
        }
      ]
    },
    {
      "cell_type": "code",
      "metadata": {
        "id": "eSH5fjGkjd7h",
        "colab_type": "code",
        "colab": {
          "base_uri": "https://localhost:8080/",
          "height": 331
        },
        "outputId": "9d54b240-479a-406e-d45c-329606ae4a46"
      },
      "source": [
        "newtitanic.info()"
      ],
      "execution_count": 51,
      "outputs": [
        {
          "output_type": "stream",
          "text": [
            "<class 'pandas.core.frame.DataFrame'>\n",
            "RangeIndex: 891 entries, 0 to 890\n",
            "Data columns (total 12 columns):\n",
            "PassengerId    891 non-null int64\n",
            "Survived       891 non-null int64\n",
            "Pclass         891 non-null int64\n",
            "Name           891 non-null object\n",
            "Sex            891 non-null int64\n",
            "SibSp          891 non-null int64\n",
            "Parch          891 non-null int64\n",
            "Ticket         891 non-null int64\n",
            "Fare           891 non-null float64\n",
            "Cabin          891 non-null int64\n",
            "Embarked       891 non-null int64\n",
            "cAge           891 non-null float64\n",
            "dtypes: float64(2), int64(9), object(1)\n",
            "memory usage: 83.7+ KB\n"
          ],
          "name": "stdout"
        }
      ]
    },
    {
      "cell_type": "markdown",
      "metadata": {
        "id": "NfeHD_Izjd7l",
        "colab_type": "text"
      },
      "source": [
        "# Data visualization"
      ]
    },
    {
      "cell_type": "code",
      "metadata": {
        "id": "NHss1ZpVjd7m",
        "colab_type": "code",
        "colab": {}
      },
      "source": [
        "import matplotlib.pyplot as plt\n",
        "import seaborn as sns"
      ],
      "execution_count": 0,
      "outputs": []
    },
    {
      "cell_type": "markdown",
      "metadata": {
        "id": "tSxgPieTjd7s",
        "colab_type": "text"
      },
      "source": [
        "## Studying Numerical Variables\n",
        "### Age Distribution\n",
        "most passengers are aged between 20 years and 38 years\n",
        "there are some childs (< 5 years)\n",
        "\n",
        "we've got an outliers: for example **Barkworth, Mr. Algernon Henry Wilson**. acording to https://www.encyclopedia-titanica.org/titanic-survivor/algernon-barkworth.html he was aged 47 years when he boared the Titanic and this seem statistically correct (represented as outlier) "
      ]
    },
    {
      "cell_type": "code",
      "metadata": {
        "id": "M0xPULbljd7u",
        "colab_type": "code",
        "colab": {
          "base_uri": "https://localhost:8080/",
          "height": 372
        },
        "outputId": "b9f22050-3f0d-4605-ea36-1810b071708e"
      },
      "source": [
        "plt.figure(figsize=(15,5))\n",
        "plt.subplot(1,2,1)\n",
        "data=newtitanic[\"cAge\"][newtitanic[\"cAge\"]>=0]\n",
        "sns.distplot(data,bins=15,hist=True)\n",
        "plt.subplot(1,2,2)\n",
        "sns.boxplot(data)"
      ],
      "execution_count": 53,
      "outputs": [
        {
          "output_type": "execute_result",
          "data": {
            "text/plain": [
              "<matplotlib.axes._subplots.AxesSubplot at 0x7f40a3287978>"
            ]
          },
          "metadata": {
            "tags": []
          },
          "execution_count": 53
        },
        {
          "output_type": "display_data",
          "data": {
            "image/png": "[encoded data removed]",
            "text/plain": [
              "<Figure size 1080x360 with 2 Axes>"
            ]
          },
          "metadata": {
            "tags": []
          }
        }
      ]
    },
    {
      "cell_type": "code",
      "metadata": {
        "id": "LzarzSaBjd7y",
        "colab_type": "code",
        "colab": {
          "base_uri": "https://localhost:8080/",
          "height": 183
        },
        "outputId": "b9a8b606-ced7-4ac1-c5db-17a85e27d1bd"
      },
      "source": [
        "data.describe()"
      ],
      "execution_count": 54,
      "outputs": [
        {
          "output_type": "execute_result",
          "data": {
            "text/plain": [
              "count    891.000000\n",
              "mean      30.728194\n",
              "std       14.288099\n",
              "min        0.420000\n",
              "25%       21.000000\n",
              "50%       30.000000\n",
              "75%       39.000000\n",
              "max       80.000000\n",
              "Name: cAge, dtype: float64"
            ]
          },
          "metadata": {
            "tags": []
          },
          "execution_count": 54
        }
      ]
    },
    {
      "cell_type": "markdown",
      "metadata": {
        "id": "jP0-uUOtjd74",
        "colab_type": "text"
      },
      "source": [
        "**Outliers**"
      ]
    },
    {
      "cell_type": "code",
      "metadata": {
        "id": "HULF8fvZjd75",
        "colab_type": "code",
        "colab": {
          "base_uri": "https://localhost:8080/",
          "height": 324
        },
        "outputId": "5b642eea-53b9-4b09-ee68-f6c30270ac2f"
      },
      "source": [
        "newtitanic[newtitanic[\"cAge\"]>70]"
      ],
      "execution_count": 55,
      "outputs": [
        {
          "output_type": "execute_result",
          "data": {
            "text/html": [
              "<div>\n",
              "<style scoped>\n",
              "    .dataframe tbody tr th:only-of-type {\n",
              "        vertical-align: middle;\n",
              "    }\n",
              "\n",
              "    .dataframe tbody tr th {\n",
              "        vertical-align: top;\n",
              "    }\n",
              "\n",
              "    .dataframe thead th {\n",
              "        text-align: right;\n",
              "    }\n",
              "</style>\n",
              "<table border=\"1\" class=\"dataframe\">\n",
              "  <thead>\n",
              "    <tr style=\"text-align: right;\">\n",
              "      <th></th>\n",
              "      <th>PassengerId</th>\n",
              "      <th>Survived</th>\n",
              "      <th>Pclass</th>\n",
              "      <th>Name</th>\n",
              "      <th>Sex</th>\n",
              "      <th>SibSp</th>\n",
              "      <th>Parch</th>\n",
              "      <th>Ticket</th>\n",
              "      <th>Fare</th>\n",
              "      <th>Cabin</th>\n",
              "      <th>Embarked</th>\n",
              "      <th>cAge</th>\n",
              "    </tr>\n",
              "  </thead>\n",
              "  <tbody>\n",
              "    <tr>\n",
              "      <th>96</th>\n",
              "      <td>97</td>\n",
              "      <td>0</td>\n",
              "      <td>1</td>\n",
              "      <td>Goldschmidt, Mr. George B</td>\n",
              "      <td>1</td>\n",
              "      <td>0</td>\n",
              "      <td>0</td>\n",
              "      <td>607</td>\n",
              "      <td>34.6542</td>\n",
              "      <td>12</td>\n",
              "      <td>1</td>\n",
              "      <td>71.0</td>\n",
              "    </tr>\n",
              "    <tr>\n",
              "      <th>116</th>\n",
              "      <td>117</td>\n",
              "      <td>0</td>\n",
              "      <td>3</td>\n",
              "      <td>Connors, Mr. Patrick</td>\n",
              "      <td>1</td>\n",
              "      <td>0</td>\n",
              "      <td>0</td>\n",
              "      <td>460</td>\n",
              "      <td>7.7500</td>\n",
              "      <td>115</td>\n",
              "      <td>2</td>\n",
              "      <td>70.5</td>\n",
              "    </tr>\n",
              "    <tr>\n",
              "      <th>493</th>\n",
              "      <td>494</td>\n",
              "      <td>0</td>\n",
              "      <td>1</td>\n",
              "      <td>Artagaveytia, Mr. Ramon</td>\n",
              "      <td>1</td>\n",
              "      <td>0</td>\n",
              "      <td>0</td>\n",
              "      <td>603</td>\n",
              "      <td>49.5042</td>\n",
              "      <td>115</td>\n",
              "      <td>1</td>\n",
              "      <td>71.0</td>\n",
              "    </tr>\n",
              "    <tr>\n",
              "      <th>630</th>\n",
              "      <td>631</td>\n",
              "      <td>1</td>\n",
              "      <td>1</td>\n",
              "      <td>Barkworth, Mr. Algernon Henry Wilson</td>\n",
              "      <td>1</td>\n",
              "      <td>0</td>\n",
              "      <td>0</td>\n",
              "      <td>218</td>\n",
              "      <td>30.0000</td>\n",
              "      <td>5</td>\n",
              "      <td>3</td>\n",
              "      <td>80.0</td>\n",
              "    </tr>\n",
              "    <tr>\n",
              "      <th>851</th>\n",
              "      <td>852</td>\n",
              "      <td>0</td>\n",
              "      <td>3</td>\n",
              "      <td>Svensson, Mr. Johan</td>\n",
              "      <td>1</td>\n",
              "      <td>0</td>\n",
              "      <td>0</td>\n",
              "      <td>317</td>\n",
              "      <td>7.7750</td>\n",
              "      <td>115</td>\n",
              "      <td>3</td>\n",
              "      <td>74.0</td>\n",
              "    </tr>\n",
              "  </tbody>\n",
              "</table>\n",
              "</div>"
            ],
            "text/plain": [
              "     PassengerId  Survived  Pclass  ... Cabin  Embarked  cAge\n",
              "96            97         0       1  ...    12         1  71.0\n",
              "116          117         0       3  ...   115         2  70.5\n",
              "493          494         0       1  ...   115         1  71.0\n",
              "630          631         1       1  ...     5         3  80.0\n",
              "851          852         0       3  ...   115         3  74.0\n",
              "\n",
              "[5 rows x 12 columns]"
            ]
          },
          "metadata": {
            "tags": []
          },
          "execution_count": 55
        }
      ]
    },
    {
      "cell_type": "markdown",
      "metadata": {
        "id": "vKkXSBuEjd79",
        "colab_type": "text"
      },
      "source": [
        "### SibSp (sibling number) Distribution\n",
        "- most passengers are alone (without siblings)"
      ]
    },
    {
      "cell_type": "code",
      "metadata": {
        "id": "f9Z4qE8ijd7-",
        "colab_type": "code",
        "colab": {
          "base_uri": "https://localhost:8080/",
          "height": 0
        },
        "outputId": "a96b06bf-9f65-4f8e-a3b5-839e86b5cec2"
      },
      "source": [
        "plt.figure(figsize=(15,5))\n",
        "plt.subplot(1,2,1)\n",
        "sns.distplot(newtitanic[\"SibSp\"],bins=8,hist=True)\n",
        "plt.subplot(1,2,2)\n",
        "sns.boxplot(newtitanic[\"SibSp\"])"
      ],
      "execution_count": 56,
      "outputs": [
        {
          "output_type": "execute_result",
          "data": {
            "text/plain": [
              "<matplotlib.axes._subplots.AxesSubplot at 0x7f40a3b84320>"
            ]
          },
          "metadata": {
            "tags": []
          },
          "execution_count": 56
        },
        {
          "output_type": "display_data",
          "data": {
            "image/png": "[encoded data removed]",
            "text/plain": [
              "<Figure size 1080x360 with 2 Axes>"
            ]
          },
          "metadata": {
            "tags": []
          }
        }
      ]
    },
    {
      "cell_type": "code",
      "metadata": {
        "id": "qZ-XHd1Ljd8D",
        "colab_type": "code",
        "colab": {
          "base_uri": "https://localhost:8080/",
          "height": 0
        },
        "outputId": "fb6c3a64-6b48-42d3-f48a-47d910bddb1f"
      },
      "source": [
        "\n",
        "data=newtitanic[[\"PassengerId\",\"SibSp\"]].groupby([\"SibSp\"]).count().reset_index()\n",
        "data.columns=[\"Nb Siblings\",\"Nb.Passengers\"]\n",
        "data.set_index(\"Nb Siblings\")"
      ],
      "execution_count": 57,
      "outputs": [
        {
          "output_type": "execute_result",
          "data": {
            "text/html": [
              "<div>\n",
              "<style scoped>\n",
              "    .dataframe tbody tr th:only-of-type {\n",
              "        vertical-align: middle;\n",
              "    }\n",
              "\n",
              "    .dataframe tbody tr th {\n",
              "        vertical-align: top;\n",
              "    }\n",
              "\n",
              "    .dataframe thead th {\n",
              "        text-align: right;\n",
              "    }\n",
              "</style>\n",
              "<table border=\"1\" class=\"dataframe\">\n",
              "  <thead>\n",
              "    <tr style=\"text-align: right;\">\n",
              "      <th></th>\n",
              "      <th>Nb.Passengers</th>\n",
              "    </tr>\n",
              "    <tr>\n",
              "      <th>Nb Siblings</th>\n",
              "      <th></th>\n",
              "    </tr>\n",
              "  </thead>\n",
              "  <tbody>\n",
              "    <tr>\n",
              "      <th>0</th>\n",
              "      <td>608</td>\n",
              "    </tr>\n",
              "    <tr>\n",
              "      <th>1</th>\n",
              "      <td>209</td>\n",
              "    </tr>\n",
              "    <tr>\n",
              "      <th>2</th>\n",
              "      <td>28</td>\n",
              "    </tr>\n",
              "    <tr>\n",
              "      <th>3</th>\n",
              "      <td>16</td>\n",
              "    </tr>\n",
              "    <tr>\n",
              "      <th>4</th>\n",
              "      <td>18</td>\n",
              "    </tr>\n",
              "    <tr>\n",
              "      <th>5</th>\n",
              "      <td>5</td>\n",
              "    </tr>\n",
              "    <tr>\n",
              "      <th>8</th>\n",
              "      <td>7</td>\n",
              "    </tr>\n",
              "  </tbody>\n",
              "</table>\n",
              "</div>"
            ],
            "text/plain": [
              "             Nb.Passengers\n",
              "Nb Siblings               \n",
              "0                      608\n",
              "1                      209\n",
              "2                       28\n",
              "3                       16\n",
              "4                       18\n",
              "5                        5\n",
              "8                        7"
            ]
          },
          "metadata": {
            "tags": []
          },
          "execution_count": 57
        }
      ]
    },
    {
      "cell_type": "markdown",
      "metadata": {
        "id": "ntu-Y73ljd8H",
        "colab_type": "text"
      },
      "source": [
        "**The Sage and Goodwin Familly Tragedy**"
      ]
    },
    {
      "cell_type": "code",
      "metadata": {
        "id": "Ko3Us1lujd8I",
        "colab_type": "code",
        "colab": {
          "base_uri": "https://localhost:8080/",
          "height": 0
        },
        "outputId": "e398627a-cc0c-4f55-b759-e57c094f8933"
      },
      "source": [
        "newtitanic[titanic[\"SibSp\"]==8]"
      ],
      "execution_count": 58,
      "outputs": [
        {
          "output_type": "execute_result",
          "data": {
            "text/html": [
              "<div>\n",
              "<style scoped>\n",
              "    .dataframe tbody tr th:only-of-type {\n",
              "        vertical-align: middle;\n",
              "    }\n",
              "\n",
              "    .dataframe tbody tr th {\n",
              "        vertical-align: top;\n",
              "    }\n",
              "\n",
              "    .dataframe thead th {\n",
              "        text-align: right;\n",
              "    }\n",
              "</style>\n",
              "<table border=\"1\" class=\"dataframe\">\n",
              "  <thead>\n",
              "    <tr style=\"text-align: right;\">\n",
              "      <th></th>\n",
              "      <th>PassengerId</th>\n",
              "      <th>Survived</th>\n",
              "      <th>Pclass</th>\n",
              "      <th>Name</th>\n",
              "      <th>Sex</th>\n",
              "      <th>SibSp</th>\n",
              "      <th>Parch</th>\n",
              "      <th>Ticket</th>\n",
              "      <th>Fare</th>\n",
              "      <th>Cabin</th>\n",
              "      <th>Embarked</th>\n",
              "      <th>cAge</th>\n",
              "    </tr>\n",
              "  </thead>\n",
              "  <tbody>\n",
              "    <tr>\n",
              "      <th>159</th>\n",
              "      <td>160</td>\n",
              "      <td>0</td>\n",
              "      <td>3</td>\n",
              "      <td>Sage, Master. Thomas Henry</td>\n",
              "      <td>1</td>\n",
              "      <td>8</td>\n",
              "      <td>2</td>\n",
              "      <td>568</td>\n",
              "      <td>69.55</td>\n",
              "      <td>115</td>\n",
              "      <td>3</td>\n",
              "      <td>39.0</td>\n",
              "    </tr>\n",
              "    <tr>\n",
              "      <th>180</th>\n",
              "      <td>181</td>\n",
              "      <td>0</td>\n",
              "      <td>3</td>\n",
              "      <td>Sage, Miss. Constance Gladys</td>\n",
              "      <td>2</td>\n",
              "      <td>8</td>\n",
              "      <td>2</td>\n",
              "      <td>568</td>\n",
              "      <td>69.55</td>\n",
              "      <td>115</td>\n",
              "      <td>3</td>\n",
              "      <td>62.0</td>\n",
              "    </tr>\n",
              "    <tr>\n",
              "      <th>201</th>\n",
              "      <td>202</td>\n",
              "      <td>0</td>\n",
              "      <td>3</td>\n",
              "      <td>Sage, Mr. Frederick</td>\n",
              "      <td>1</td>\n",
              "      <td>8</td>\n",
              "      <td>2</td>\n",
              "      <td>568</td>\n",
              "      <td>69.55</td>\n",
              "      <td>115</td>\n",
              "      <td>3</td>\n",
              "      <td>43.0</td>\n",
              "    </tr>\n",
              "    <tr>\n",
              "      <th>324</th>\n",
              "      <td>325</td>\n",
              "      <td>0</td>\n",
              "      <td>3</td>\n",
              "      <td>Sage, Mr. George John Jr</td>\n",
              "      <td>1</td>\n",
              "      <td>8</td>\n",
              "      <td>2</td>\n",
              "      <td>568</td>\n",
              "      <td>69.55</td>\n",
              "      <td>115</td>\n",
              "      <td>3</td>\n",
              "      <td>37.0</td>\n",
              "    </tr>\n",
              "    <tr>\n",
              "      <th>792</th>\n",
              "      <td>793</td>\n",
              "      <td>0</td>\n",
              "      <td>3</td>\n",
              "      <td>Sage, Miss. Stella Anna</td>\n",
              "      <td>2</td>\n",
              "      <td>8</td>\n",
              "      <td>2</td>\n",
              "      <td>568</td>\n",
              "      <td>69.55</td>\n",
              "      <td>115</td>\n",
              "      <td>3</td>\n",
              "      <td>39.0</td>\n",
              "    </tr>\n",
              "    <tr>\n",
              "      <th>846</th>\n",
              "      <td>847</td>\n",
              "      <td>0</td>\n",
              "      <td>3</td>\n",
              "      <td>Sage, Mr. Douglas Bullen</td>\n",
              "      <td>1</td>\n",
              "      <td>8</td>\n",
              "      <td>2</td>\n",
              "      <td>568</td>\n",
              "      <td>69.55</td>\n",
              "      <td>115</td>\n",
              "      <td>3</td>\n",
              "      <td>49.0</td>\n",
              "    </tr>\n",
              "    <tr>\n",
              "      <th>863</th>\n",
              "      <td>864</td>\n",
              "      <td>0</td>\n",
              "      <td>3</td>\n",
              "      <td>Sage, Miss. Dorothy Edith \"Dolly\"</td>\n",
              "      <td>2</td>\n",
              "      <td>8</td>\n",
              "      <td>2</td>\n",
              "      <td>568</td>\n",
              "      <td>69.55</td>\n",
              "      <td>115</td>\n",
              "      <td>3</td>\n",
              "      <td>36.0</td>\n",
              "    </tr>\n",
              "  </tbody>\n",
              "</table>\n",
              "</div>"
            ],
            "text/plain": [
              "     PassengerId  Survived  Pclass  ... Cabin  Embarked  cAge\n",
              "159          160         0       3  ...   115         3  39.0\n",
              "180          181         0       3  ...   115         3  62.0\n",
              "201          202         0       3  ...   115         3  43.0\n",
              "324          325         0       3  ...   115         3  37.0\n",
              "792          793         0       3  ...   115         3  39.0\n",
              "846          847         0       3  ...   115         3  49.0\n",
              "863          864         0       3  ...   115         3  36.0\n",
              "\n",
              "[7 rows x 12 columns]"
            ]
          },
          "metadata": {
            "tags": []
          },
          "execution_count": 58
        }
      ]
    },
    {
      "cell_type": "code",
      "metadata": {
        "id": "E4HlciEqjd8M",
        "colab_type": "code",
        "colab": {
          "base_uri": "https://localhost:8080/",
          "height": 0
        },
        "outputId": "689f00a5-9bd1-4929-a033-a5b886719983"
      },
      "source": [
        "newtitanic[titanic[\"SibSp\"]==5]"
      ],
      "execution_count": 59,
      "outputs": [
        {
          "output_type": "execute_result",
          "data": {
            "text/html": [
              "<div>\n",
              "<style scoped>\n",
              "    .dataframe tbody tr th:only-of-type {\n",
              "        vertical-align: middle;\n",
              "    }\n",
              "\n",
              "    .dataframe tbody tr th {\n",
              "        vertical-align: top;\n",
              "    }\n",
              "\n",
              "    .dataframe thead th {\n",
              "        text-align: right;\n",
              "    }\n",
              "</style>\n",
              "<table border=\"1\" class=\"dataframe\">\n",
              "  <thead>\n",
              "    <tr style=\"text-align: right;\">\n",
              "      <th></th>\n",
              "      <th>PassengerId</th>\n",
              "      <th>Survived</th>\n",
              "      <th>Pclass</th>\n",
              "      <th>Name</th>\n",
              "      <th>Sex</th>\n",
              "      <th>SibSp</th>\n",
              "      <th>Parch</th>\n",
              "      <th>Ticket</th>\n",
              "      <th>Fare</th>\n",
              "      <th>Cabin</th>\n",
              "      <th>Embarked</th>\n",
              "      <th>cAge</th>\n",
              "    </tr>\n",
              "  </thead>\n",
              "  <tbody>\n",
              "    <tr>\n",
              "      <th>59</th>\n",
              "      <td>60</td>\n",
              "      <td>0</td>\n",
              "      <td>3</td>\n",
              "      <td>Goodwin, Master. William Frederick</td>\n",
              "      <td>1</td>\n",
              "      <td>5</td>\n",
              "      <td>2</td>\n",
              "      <td>566</td>\n",
              "      <td>46.9</td>\n",
              "      <td>115</td>\n",
              "      <td>3</td>\n",
              "      <td>11.0</td>\n",
              "    </tr>\n",
              "    <tr>\n",
              "      <th>71</th>\n",
              "      <td>72</td>\n",
              "      <td>0</td>\n",
              "      <td>3</td>\n",
              "      <td>Goodwin, Miss. Lillian Amy</td>\n",
              "      <td>2</td>\n",
              "      <td>5</td>\n",
              "      <td>2</td>\n",
              "      <td>566</td>\n",
              "      <td>46.9</td>\n",
              "      <td>115</td>\n",
              "      <td>3</td>\n",
              "      <td>16.0</td>\n",
              "    </tr>\n",
              "    <tr>\n",
              "      <th>386</th>\n",
              "      <td>387</td>\n",
              "      <td>0</td>\n",
              "      <td>3</td>\n",
              "      <td>Goodwin, Master. Sidney Leonard</td>\n",
              "      <td>1</td>\n",
              "      <td>5</td>\n",
              "      <td>2</td>\n",
              "      <td>566</td>\n",
              "      <td>46.9</td>\n",
              "      <td>115</td>\n",
              "      <td>3</td>\n",
              "      <td>1.0</td>\n",
              "    </tr>\n",
              "    <tr>\n",
              "      <th>480</th>\n",
              "      <td>481</td>\n",
              "      <td>0</td>\n",
              "      <td>3</td>\n",
              "      <td>Goodwin, Master. Harold Victor</td>\n",
              "      <td>1</td>\n",
              "      <td>5</td>\n",
              "      <td>2</td>\n",
              "      <td>566</td>\n",
              "      <td>46.9</td>\n",
              "      <td>115</td>\n",
              "      <td>3</td>\n",
              "      <td>9.0</td>\n",
              "    </tr>\n",
              "    <tr>\n",
              "      <th>683</th>\n",
              "      <td>684</td>\n",
              "      <td>0</td>\n",
              "      <td>3</td>\n",
              "      <td>Goodwin, Mr. Charles Edward</td>\n",
              "      <td>1</td>\n",
              "      <td>5</td>\n",
              "      <td>2</td>\n",
              "      <td>566</td>\n",
              "      <td>46.9</td>\n",
              "      <td>115</td>\n",
              "      <td>3</td>\n",
              "      <td>14.0</td>\n",
              "    </tr>\n",
              "  </tbody>\n",
              "</table>\n",
              "</div>"
            ],
            "text/plain": [
              "     PassengerId  Survived  Pclass  ... Cabin  Embarked  cAge\n",
              "59            60         0       3  ...   115         3  11.0\n",
              "71            72         0       3  ...   115         3  16.0\n",
              "386          387         0       3  ...   115         3   1.0\n",
              "480          481         0       3  ...   115         3   9.0\n",
              "683          684         0       3  ...   115         3  14.0\n",
              "\n",
              "[5 rows x 12 columns]"
            ]
          },
          "metadata": {
            "tags": []
          },
          "execution_count": 59
        }
      ]
    },
    {
      "cell_type": "markdown",
      "metadata": {
        "id": "CQjPZvSEjd8Q",
        "colab_type": "text"
      },
      "source": [
        "## Studying Categorical Variables\n",
        "### Survived Distribution\n",
        "- The majority of the passengers died in the tragedy"
      ]
    },
    {
      "cell_type": "code",
      "metadata": {
        "id": "PWGA5-SRjd8T",
        "colab_type": "code",
        "colab": {
          "base_uri": "https://localhost:8080/",
          "height": 298
        },
        "outputId": "4423ad08-ca2f-4f19-f041-f64a3f98dc46"
      },
      "source": [
        "sns.countplot(x=\"Survived\",data=newtitanic.replace({\"Survived\":{0:\"Died\",1:\"Rescued\"}}), hue=\"Survived\")"
      ],
      "execution_count": 60,
      "outputs": [
        {
          "output_type": "execute_result",
          "data": {
            "text/plain": [
              "<matplotlib.axes._subplots.AxesSubplot at 0x7f40a32ce208>"
            ]
          },
          "metadata": {
            "tags": []
          },
          "execution_count": 60
        },
        {
          "output_type": "display_data",
          "data": {
            "image/png": "[encoded data removed]",
            "text/plain": [
              "<Figure size 432x288 with 1 Axes>"
            ]
          },
          "metadata": {
            "tags": []
          }
        }
      ]
    },
    {
      "cell_type": "code",
      "metadata": {
        "id": "QLIwSTcujd8X",
        "colab_type": "code",
        "colab": {}
      },
      "source": [
        ""
      ],
      "execution_count": 0,
      "outputs": []
    },
    {
      "cell_type": "code",
      "metadata": {
        "id": "D5Lzk92Ljd8b",
        "colab_type": "code",
        "colab": {}
      },
      "source": [
        ""
      ],
      "execution_count": 0,
      "outputs": []
    },
    {
      "cell_type": "code",
      "metadata": {
        "id": "Aeh2RS8ljd8f",
        "colab_type": "code",
        "colab": {
          "base_uri": "https://localhost:8080/",
          "height": 141
        },
        "outputId": "1faf28e5-cb0b-45f5-e98f-bad31557cddc"
      },
      "source": [
        "data=newtitanic[[\"PassengerId\",\"Survived\"]].groupby(\"Survived\").count().reset_index().replace({\"Survived\":{0:\"Died\",1:\"Rescued\"}}).set_index(\"Survived\")\n",
        "data.columns=['Nb. Passengers']\n",
        "data"
      ],
      "execution_count": 61,
      "outputs": [
        {
          "output_type": "execute_result",
          "data": {
            "text/html": [
              "<div>\n",
              "<style scoped>\n",
              "    .dataframe tbody tr th:only-of-type {\n",
              "        vertical-align: middle;\n",
              "    }\n",
              "\n",
              "    .dataframe tbody tr th {\n",
              "        vertical-align: top;\n",
              "    }\n",
              "\n",
              "    .dataframe thead th {\n",
              "        text-align: right;\n",
              "    }\n",
              "</style>\n",
              "<table border=\"1\" class=\"dataframe\">\n",
              "  <thead>\n",
              "    <tr style=\"text-align: right;\">\n",
              "      <th></th>\n",
              "      <th>Nb. Passengers</th>\n",
              "    </tr>\n",
              "    <tr>\n",
              "      <th>Survived</th>\n",
              "      <th></th>\n",
              "    </tr>\n",
              "  </thead>\n",
              "  <tbody>\n",
              "    <tr>\n",
              "      <th>Died</th>\n",
              "      <td>549</td>\n",
              "    </tr>\n",
              "    <tr>\n",
              "      <th>Rescued</th>\n",
              "      <td>342</td>\n",
              "    </tr>\n",
              "  </tbody>\n",
              "</table>\n",
              "</div>"
            ],
            "text/plain": [
              "          Nb. Passengers\n",
              "Survived                \n",
              "Died                 549\n",
              "Rescued              342"
            ]
          },
          "metadata": {
            "tags": []
          },
          "execution_count": 61
        }
      ]
    },
    {
      "cell_type": "markdown",
      "metadata": {
        "id": "m-UBiYLjjd8j",
        "colab_type": "text"
      },
      "source": [
        "### Pclass distribution\n",
        "- most of the dead are third class pasengers "
      ]
    },
    {
      "cell_type": "code",
      "metadata": {
        "id": "QlsKRxIIjd8k",
        "colab_type": "code",
        "colab": {
          "base_uri": "https://localhost:8080/",
          "height": 298
        },
        "outputId": "2765e9f7-74e1-4b1a-d65f-ea0277438f78"
      },
      "source": [
        "data=newtitanic.replace({\"Pclass\":{1:\"1st Cl.\",2:\"2nd Cl.\",3:\"3rd Cl.\"}})\n",
        "\n",
        "sns.countplot(x=\"Pclass\",data=data, hue=\"Pclass\")"
      ],
      "execution_count": 62,
      "outputs": [
        {
          "output_type": "execute_result",
          "data": {
            "text/plain": [
              "<matplotlib.axes._subplots.AxesSubplot at 0x7f40a3ffd128>"
            ]
          },
          "metadata": {
            "tags": []
          },
          "execution_count": 62
        },
        {
          "output_type": "display_data",
          "data": {
            "image/png": "[encoded data removed]",
            "text/plain": [
              "<Figure size 432x288 with 1 Axes>"
            ]
          },
          "metadata": {
            "tags": []
          }
        }
      ]
    },
    {
      "cell_type": "code",
      "metadata": {
        "id": "4ncCU0P_jd8o",
        "colab_type": "code",
        "colab": {
          "base_uri": "https://localhost:8080/",
          "height": 171
        },
        "outputId": "8d59ba8c-9ad3-4dc6-f821-1ae4b963a9b4"
      },
      "source": [
        "data=newtitanic[[\"PassengerId\",\"Pclass\"]].groupby(\"Pclass\").count().reset_index().replace({\"Pclass\":{1:\"1st Cl.\",2:\"2nd Cl.\",3:\"3rd Cl.\"}}).set_index(\"Pclass\")\n",
        "data.columns=['Nb. Passengers']\n",
        "data"
      ],
      "execution_count": 63,
      "outputs": [
        {
          "output_type": "execute_result",
          "data": {
            "text/html": [
              "<div>\n",
              "<style scoped>\n",
              "    .dataframe tbody tr th:only-of-type {\n",
              "        vertical-align: middle;\n",
              "    }\n",
              "\n",
              "    .dataframe tbody tr th {\n",
              "        vertical-align: top;\n",
              "    }\n",
              "\n",
              "    .dataframe thead th {\n",
              "        text-align: right;\n",
              "    }\n",
              "</style>\n",
              "<table border=\"1\" class=\"dataframe\">\n",
              "  <thead>\n",
              "    <tr style=\"text-align: right;\">\n",
              "      <th></th>\n",
              "      <th>Nb. Passengers</th>\n",
              "    </tr>\n",
              "    <tr>\n",
              "      <th>Pclass</th>\n",
              "      <th></th>\n",
              "    </tr>\n",
              "  </thead>\n",
              "  <tbody>\n",
              "    <tr>\n",
              "      <th>1st Cl.</th>\n",
              "      <td>216</td>\n",
              "    </tr>\n",
              "    <tr>\n",
              "      <th>2nd Cl.</th>\n",
              "      <td>184</td>\n",
              "    </tr>\n",
              "    <tr>\n",
              "      <th>3rd Cl.</th>\n",
              "      <td>491</td>\n",
              "    </tr>\n",
              "  </tbody>\n",
              "</table>\n",
              "</div>"
            ],
            "text/plain": [
              "         Nb. Passengers\n",
              "Pclass                 \n",
              "1st Cl.             216\n",
              "2nd Cl.             184\n",
              "3rd Cl.             491"
            ]
          },
          "metadata": {
            "tags": []
          },
          "execution_count": 63
        }
      ]
    },
    {
      "cell_type": "code",
      "metadata": {
        "id": "cGDgkMiUjd8s",
        "colab_type": "code",
        "colab": {
          "base_uri": "https://localhost:8080/",
          "height": 171
        },
        "outputId": "4f170b7e-8a08-44c7-f626-8653e616a055"
      },
      "source": [
        "newtitanic[[\"Survived\",\"Pclass\"]].groupby(\"Pclass\").sum().reset_index().replace({\"Pclass\":{1:\"1st Cl.\",2:\"2nd Cl.\",3:\"3rd Cl.\"}}).set_index(\"Pclass\")"
      ],
      "execution_count": 64,
      "outputs": [
        {
          "output_type": "execute_result",
          "data": {
            "text/html": [
              "<div>\n",
              "<style scoped>\n",
              "    .dataframe tbody tr th:only-of-type {\n",
              "        vertical-align: middle;\n",
              "    }\n",
              "\n",
              "    .dataframe tbody tr th {\n",
              "        vertical-align: top;\n",
              "    }\n",
              "\n",
              "    .dataframe thead th {\n",
              "        text-align: right;\n",
              "    }\n",
              "</style>\n",
              "<table border=\"1\" class=\"dataframe\">\n",
              "  <thead>\n",
              "    <tr style=\"text-align: right;\">\n",
              "      <th></th>\n",
              "      <th>Survived</th>\n",
              "    </tr>\n",
              "    <tr>\n",
              "      <th>Pclass</th>\n",
              "      <th></th>\n",
              "    </tr>\n",
              "  </thead>\n",
              "  <tbody>\n",
              "    <tr>\n",
              "      <th>1st Cl.</th>\n",
              "      <td>136</td>\n",
              "    </tr>\n",
              "    <tr>\n",
              "      <th>2nd Cl.</th>\n",
              "      <td>87</td>\n",
              "    </tr>\n",
              "    <tr>\n",
              "      <th>3rd Cl.</th>\n",
              "      <td>119</td>\n",
              "    </tr>\n",
              "  </tbody>\n",
              "</table>\n",
              "</div>"
            ],
            "text/plain": [
              "         Survived\n",
              "Pclass           \n",
              "1st Cl.       136\n",
              "2nd Cl.        87\n",
              "3rd Cl.       119"
            ]
          },
          "metadata": {
            "tags": []
          },
          "execution_count": 64
        }
      ]
    },
    {
      "cell_type": "code",
      "metadata": {
        "id": "PTBsDcc8jd8v",
        "colab_type": "code",
        "colab": {
          "base_uri": "https://localhost:8080/",
          "height": 171
        },
        "outputId": "01692bb2-e40a-4c89-d97c-6a6d0fc560b1"
      },
      "source": [
        "pclass_dict={\"Pclass\":{1:\"1st Cl.\",2:\"2nd Cl.\",3:\"3rd Cl.\"}}\n",
        "dead=newtitanic[[\"Survived\",\"Pclass\"]].replace({\"Survived\":{1:'y',0:'n'}}).replace({\"Survived\":{'y':0,'n':1}}).groupby(\"Pclass\").sum().reset_index().replace(pclass_dict).set_index(\"Pclass\")\n",
        "dead.columns=[\"Died\"]\n",
        "dead"
      ],
      "execution_count": 67,
      "outputs": [
        {
          "output_type": "execute_result",
          "data": {
            "text/html": [
              "<div>\n",
              "<style scoped>\n",
              "    .dataframe tbody tr th:only-of-type {\n",
              "        vertical-align: middle;\n",
              "    }\n",
              "\n",
              "    .dataframe tbody tr th {\n",
              "        vertical-align: top;\n",
              "    }\n",
              "\n",
              "    .dataframe thead th {\n",
              "        text-align: right;\n",
              "    }\n",
              "</style>\n",
              "<table border=\"1\" class=\"dataframe\">\n",
              "  <thead>\n",
              "    <tr style=\"text-align: right;\">\n",
              "      <th></th>\n",
              "      <th>Died</th>\n",
              "    </tr>\n",
              "    <tr>\n",
              "      <th>Pclass</th>\n",
              "      <th></th>\n",
              "    </tr>\n",
              "  </thead>\n",
              "  <tbody>\n",
              "    <tr>\n",
              "      <th>1st Cl.</th>\n",
              "      <td>80</td>\n",
              "    </tr>\n",
              "    <tr>\n",
              "      <th>2nd Cl.</th>\n",
              "      <td>97</td>\n",
              "    </tr>\n",
              "    <tr>\n",
              "      <th>3rd Cl.</th>\n",
              "      <td>372</td>\n",
              "    </tr>\n",
              "  </tbody>\n",
              "</table>\n",
              "</div>"
            ],
            "text/plain": [
              "         Died\n",
              "Pclass       \n",
              "1st Cl.    80\n",
              "2nd Cl.    97\n",
              "3rd Cl.   372"
            ]
          },
          "metadata": {
            "tags": []
          },
          "execution_count": 67
        }
      ]
    },
    {
      "cell_type": "markdown",
      "metadata": {
        "id": "t9BgiagRjd81",
        "colab_type": "text"
      },
      "source": [
        "### Sex Distribution\n",
        "- there are more men than women on the titanic\n",
        "- there are more dead men than dead women (may be there are many gentelmens)\n"
      ]
    },
    {
      "cell_type": "code",
      "metadata": {
        "id": "-KL6VwaXjd82",
        "colab_type": "code",
        "colab": {}
      },
      "source": [
        "data=newtitanic[[\"PassengerId\",\"Sex\"]].groupby(\"Sex\").count().reset_index().replace({\"Sex\":{1:\"Men\",2:\"Women\"}}).set_index(\"Sex\")\n",
        "data.columns=['Nb. Passengers']\n",
        "data"
      ],
      "execution_count": 0,
      "outputs": []
    },
    {
      "cell_type": "code",
      "metadata": {
        "id": "RPBC6p_6jd85",
        "colab_type": "code",
        "colab": {}
      },
      "source": [
        "dead=newtitanic[[\"Survived\",\"Sex\"]].replace({\"Survived\":{1:0,0:1}}).groupby(\"Sex\").sum().reset_index().replace({\"Sex\":{1:\"Men\",2:\"Women\"}}).set_index(\"Sex\")\n",
        "dead.columns=[\"Died\"]\n",
        "dead"
      ],
      "execution_count": 0,
      "outputs": []
    },
    {
      "cell_type": "markdown",
      "metadata": {
        "id": "pCyhd8BFjd88",
        "colab_type": "text"
      },
      "source": [
        "### Embarked distribution\n",
        "- most the passengers are from Southampton\n",
        "- Southampton has the most proportion of deads"
      ]
    },
    {
      "cell_type": "code",
      "metadata": {
        "id": "KBvDWdOYjd89",
        "colab_type": "code",
        "colab": {}
      },
      "source": [
        "embarked_dict={\"Embarked\":{0:\"Unknown\",1:'Cherbourg',2:\"Queenstown\",3:\"Southampton\"}}\n",
        "sex_dict={\"Sex\":{1:\"Men\",2:\"Women\"}}\n",
        "survived_dict={\"Survived\":{1:'survived',0:'dead'}}"
      ],
      "execution_count": 0,
      "outputs": []
    },
    {
      "cell_type": "code",
      "metadata": {
        "id": "E0IAu61njd9B",
        "colab_type": "code",
        "colab": {}
      },
      "source": [
        "data=newtitanic[[\"PassengerId\",\"Embarked\"]].groupby([\"Embarked\"]).count().reset_index().replace(embarked_dict).set_index(\"Embarked\")\n",
        "data.columns=['Nb. Passengers']\n",
        "data"
      ],
      "execution_count": 0,
      "outputs": []
    },
    {
      "cell_type": "code",
      "metadata": {
        "id": "U3PpRpt8jd9I",
        "colab_type": "code",
        "colab": {}
      },
      "source": [
        "deadembarked=newtitanic[[\"PassengerId\",\"Embarked\",\"Survived\"]].groupby([\"Embarked\",\"Survived\"]).count().reset_index().replace(embarked_dict).replace(survived_dict).set_index(\"Embarked\")\n",
        "deadembarked=deadembarked.reset_index()\n",
        "deadembarked=deadembarked.set_index([\"Embarked\",\"Survived\"])\n",
        "deadembarked.unstack()"
      ],
      "execution_count": 0,
      "outputs": []
    },
    {
      "cell_type": "code",
      "metadata": {
        "id": "D7fFOownjd9L",
        "colab_type": "code",
        "colab": {}
      },
      "source": [
        "deadembarked.unstack().plot(kind='bar',stacked=True)"
      ],
      "execution_count": 0,
      "outputs": []
    },
    {
      "cell_type": "code",
      "metadata": {
        "id": "-WJew1i7jd9O",
        "colab_type": "code",
        "colab": {}
      },
      "source": [
        "ports=['Cherbourg',\"Queenstown\",\"Southampton\"]\n",
        "deadembarked[\"Percentage\"]=100\n",
        "\n",
        "for emb in ports:\n",
        "    s=deadembarked.loc[(emb,\"survived\"),\"PassengerId\"]\n",
        "    d=deadembarked.loc[(emb,\"dead\"),\"PassengerId\"]\n",
        "    \n",
        "    deadembarked.loc[(emb,\"survived\"),\"Percentage\"]=(s/(s+d))*100\n",
        "    deadembarked.loc[(emb,\"dead\"),\"Percentage\"]=(d/(s+d))*100\n",
        "   \n",
        "deadembarked"
      ],
      "execution_count": 0,
      "outputs": []
    },
    {
      "cell_type": "markdown",
      "metadata": {
        "id": "tR5TdsnTjd9V",
        "colab_type": "text"
      },
      "source": [
        "### miscellaneous\n",
        "- most deads from all regions are mens\n",
        "- most the deads are from 3rd class and are specially from Southampton"
      ]
    },
    {
      "cell_type": "code",
      "metadata": {
        "id": "66Gur6nljd9Z",
        "colab_type": "code",
        "colab": {}
      },
      "source": [
        "dead=newtitanic[[\"PassengerId\",\"Embarked\",\"Pclass\",\"Survived\"]].groupby([\"Embarked\",\"Pclass\",\"Survived\"]).count().reset_index().replace(embarked_dict).replace(survived_dict).replace(sex_dict).set_index(\"Embarked\")\n",
        "dead=dead.reset_index()\n",
        "dead=dead.set_index([\"Embarked\",\"Pclass\",\"Survived\"])\n",
        "dead.unstack()\n",
        "dead.unstack().plot(kind='bar',stacked=True)"
      ],
      "execution_count": 0,
      "outputs": []
    },
    {
      "cell_type": "code",
      "metadata": {
        "id": "PQ1YN8rtjd9c",
        "colab_type": "code",
        "colab": {}
      },
      "source": [
        "dead=newtitanic[[\"PassengerId\",\"Pclass\",\"Survived\"]].groupby([\"Pclass\",\"Survived\"]).count().reset_index().replace(embarked_dict).replace(survived_dict).replace(pclass_dict).set_index(\"Pclass\")\n",
        "dead=dead.reset_index()\n",
        "dead=dead.set_index([\"Pclass\",\"Survived\"])\n",
        "dead.unstack()\n",
        "dead.unstack().plot(kind='bar',stacked=True)"
      ],
      "execution_count": 0,
      "outputs": []
    },
    {
      "cell_type": "code",
      "metadata": {
        "id": "eX_TVB4djd9h",
        "colab_type": "code",
        "colab": {}
      },
      "source": [
        "dead=newtitanic[[\"PassengerId\",\"Embarked\",\"Pclass\",\"Survived\"]].groupby([\"Embarked\",\"Pclass\",\"Survived\"]).count().reset_index().replace(embarked_dict).replace(survived_dict).replace(pclass_dict).set_index(\"Embarked\")\n",
        "dead=dead.reset_index()\n",
        "dead=dead.set_index([\"Embarked\",\"Pclass\",\"Survived\"])\n",
        "dead.unstack()\n",
        "dead.unstack().plot(kind='bar',stacked=True)"
      ],
      "execution_count": 0,
      "outputs": []
    },
    {
      "cell_type": "markdown",
      "metadata": {
        "id": "gikbd6wujd9m",
        "colab_type": "text"
      },
      "source": [
        "# Correlation\n",
        "## Sex vs Age\n",
        "- There is an apparent positif correlation between Sex and Survived (0.538826) => Sex is a determining factor in the survival of passengers on the Titanic\n",
        "- No correlation between Age and Survived (-0.077221)"
      ]
    },
    {
      "cell_type": "code",
      "metadata": {
        "id": "Oj0h8toQjd9m",
        "colab_type": "code",
        "colab": {}
      },
      "source": [
        "data=newtitanic[newtitanic[\"cAge\"]>=0].replace(sex_dict)\n",
        "g=sns.FacetGrid(data,col=\"Sex\")\n",
        "g.map(plt.hist,\"cAge\")"
      ],
      "execution_count": 0,
      "outputs": []
    },
    {
      "cell_type": "code",
      "metadata": {
        "id": "GnIF-Agtjd9p",
        "colab_type": "code",
        "colab": {}
      },
      "source": [
        "data=newtitanic[newtitanic[\"cAge\"]>=0]\n",
        "data[[\"cAge\",\"Sex\",\"Survived\"]].corr()"
      ],
      "execution_count": 0,
      "outputs": []
    },
    {
      "cell_type": "code",
      "metadata": {
        "id": "VDdl8PRGjd9s",
        "colab_type": "code",
        "colab": {}
      },
      "source": [
        "def plot_correlation_map( df ):\n",
        "    corr = df.corr()\n",
        "    s , ax = plt.subplots( figsize =( 12 , 10 ) )\n",
        "    cmap = sns.diverging_palette( 220 , 10 , as_cmap = True )\n",
        "    s = sns.heatmap(\n",
        "        corr, \n",
        "        cmap = cmap,\n",
        "        square=True, \n",
        "        cbar_kws={ 'shrink' : .9 }, \n",
        "        ax=ax, \n",
        "        annot = True, \n",
        "        annot_kws = { 'fontsize' : 12 }\n",
        "        )"
      ],
      "execution_count": 0,
      "outputs": []
    },
    {
      "cell_type": "code",
      "metadata": {
        "id": "2jY7Oj6njd9v",
        "colab_type": "code",
        "colab": {}
      },
      "source": [
        "data[[\"Age\",\"Sex\",\"Survived\"]].groupby(\"Sex\").sum()\n",
        "\n",
        "#plot_correlation_map(data[[\"Age\",\"Sex\",\"Survived\"]].set_index([\"Age\",\"Sex\"]))\n"
      ],
      "execution_count": 0,
      "outputs": []
    },
    {
      "cell_type": "code",
      "metadata": {
        "id": "xegJh3pajd9z",
        "colab_type": "code",
        "colab": {}
      },
      "source": [
        ""
      ],
      "execution_count": 0,
      "outputs": []
    },
    {
      "cell_type": "code",
      "metadata": {
        "id": "YiWdPm90jd92",
        "colab_type": "code",
        "colab": {}
      },
      "source": [
        "plot_correlation_map(data[[\"Age\",\"Sex\",\"Survived\"]])"
      ],
      "execution_count": 0,
      "outputs": []
    },
    {
      "cell_type": "code",
      "metadata": {
        "id": "VI-TTmsFjd94",
        "colab_type": "code",
        "colab": {}
      },
      "source": [
        ""
      ],
      "execution_count": 0,
      "outputs": []
    },
    {
      "cell_type": "code",
      "metadata": {
        "id": "tnnKUtAPjd96",
        "colab_type": "code",
        "colab": {}
      },
      "source": [
        ""
      ],
      "execution_count": 0,
      "outputs": []
    },
    {
      "cell_type": "code",
      "metadata": {
        "id": "hDuyKhD7jd99",
        "colab_type": "code",
        "colab": {}
      },
      "source": [
        ""
      ],
      "execution_count": 0,
      "outputs": []
    }
  ]
}